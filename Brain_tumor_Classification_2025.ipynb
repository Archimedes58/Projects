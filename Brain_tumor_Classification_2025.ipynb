{
  "nbformat": 4,
  "nbformat_minor": 0,
  "metadata": {
    "colab": {
      "provenance": [],
      "include_colab_link": true
    },
    "kernelspec": {
      "name": "python3",
      "display_name": "Python 3"
    },
    "language_info": {
      "name": "python"
    }
  },
  "cells": [
    {
      "cell_type": "markdown",
      "metadata": {
        "id": "view-in-github",
        "colab_type": "text"
      },
      "source": [
        "<a href=\"https://colab.research.google.com/github/Archimedes58/Projects/blob/main/Brain_tumor_Classification_2025.ipynb\" target=\"_parent\"><img src=\"https://colab.research.google.com/assets/colab-badge.svg\" alt=\"Open In Colab\"/></a>"
      ]
    },
    {
      "cell_type": "code",
      "metadata": {
        "id": "N6RRSoL75Gnv"
      },
      "source": [
        "# show all ouputs in a cell\n",
        "from IPython.core.interactiveshell import InteractiveShell\n",
        "InteractiveShell.ast_node_interactivity = \"all\""
      ],
      "execution_count": 1,
      "outputs": []
    },
    {
      "cell_type": "code",
      "metadata": {
        "id": "oSy122nZ5TcW"
      },
      "source": [
        "# import libraries\n",
        "import numpy as np\n",
        "import pandas as pd\n",
        "import os\n",
        "import glob\n",
        "import matplotlib.pyplot as plt\n",
        "from matplotlib import image\n",
        "from keras.preprocessing.image import load_img\n",
        "from keras.preprocessing.image import save_img\n",
        "from keras.preprocessing.image import img_to_array\n",
        "from sklearn.utils import shuffle\n",
        "from sklearn.linear_model import SGDClassifier\n",
        "from sklearn.model_selection import cross_val_score\n",
        "from sklearn.model_selection import cross_val_predict\n",
        "from sklearn.metrics import confusion_matrix\n",
        "from sklearn.metrics import precision_score\n",
        "from sklearn.metrics import recall_score\n",
        "from sklearn.metrics import f1_score\n",
        "from sklearn.metrics import precision_recall_curve\n",
        "from sklearn.metrics import roc_curve\n",
        "from sklearn.metrics import roc_auc_score\n",
        "from sklearn.ensemble import RandomForestClassifier\n",
        "from sklearn.svm import SVC\n",
        "from sklearn.preprocessing import StandardScaler\n",
        "from sklearn.neighbors import KNeighborsClassifier"
      ],
      "execution_count": 2,
      "outputs": []
    },
    {
      "cell_type": "code",
      "metadata": {
        "colab": {
          "base_uri": "https://localhost:8080/"
        },
        "id": "4MK1EoIF6nn8",
        "outputId": "be05c9b3-5e1d-44c3-d9b7-cccae4d45848"
      },
      "source": [
        "# mount the google drive to colab\n",
        "from google.colab import drive\n",
        "drive.mount('/content/drive')"
      ],
      "execution_count": 3,
      "outputs": [
        {
          "output_type": "stream",
          "name": "stdout",
          "text": [
            "Mounted at /content/drive\n"
          ]
        }
      ]
    },
    {
      "cell_type": "code",
      "metadata": {
        "id": "hiblSzgvEHUs"
      },
      "source": [
        "# parent directory\n",
        "parent_dir = \"/content/drive/MyDrive/learning cluster/brain_tumors\"\n",
        "\n",
        "# full path\n",
        "path = os.path.join(parent_dir, \"/content/drive/MyDrive/learning cluster/brain_tumors\")\n",
        "# train and test datasets directories\n",
        "\n",
        "\n",
        "# full paths\n"
      ],
      "execution_count": 4,
      "outputs": []
    },
    {
      "cell_type": "code",
      "source": [
        "train_no_dir = \"train/no_tumor\"\n",
        "train_pituitary_dir = \"train/pituitary_tumor\"\n",
        "train_meningioma_dir = \"train/meningioma_tumor\"\n",
        "train_glioma_dir = \"train/glioma_tumor\"\n",
        "test_no_dir = \"test/no_tumor\"\n",
        "test_pituitary_dir = \"test/pituitary_tumor\"\n",
        "test_meningioma_dir = \"test/meningioma_tumor\"\n",
        "test_glioma_dir = \"test/glioma_tumor\""
      ],
      "metadata": {
        "id": "eckgOXVu_gqm"
      },
      "execution_count": 5,
      "outputs": []
    },
    {
      "cell_type": "code",
      "source": [
        "train_no_dir = \"/content/drive/MyDrive/learning cluster/brain_tumors/train/no_tumor\"\n",
        "train_pituitary_dir = \"/content/drive/MyDrive/learning cluster/brain_tumors/train/pituitary_tumor\"\n",
        "train_meningioma_dir = \"/content/drive/MyDrive/learning cluster/brain_tumors/train/meningioma_tumor\"\n",
        "train_glioma_dir = \"/content/drive/MyDrive/learning cluster/brain_tumors/train/glioma_tumor\"\n",
        "test_no_dir = \"/content/drive/MyDrive/learning cluster/brain_tumors/test/no_tumor\"\n",
        "test_pituitary_dir = \"/content/drive/MyDrive/learning cluster/brain_tumors/test/pituitary_tumor\"\n",
        "test_meningioma_dir = \"/content/drive/MyDrive/learning cluster/brain_tumors/test/glioma_tumor\"\n",
        "test_glioma_dir = \"/content/drive/MyDrive/learning cluster/brain_tumors/test/glioma_tumor\""
      ],
      "metadata": {
        "id": "iFFOLfnk-qa2"
      },
      "execution_count": null,
      "outputs": []
    },
    {
      "cell_type": "code",
      "source": [
        "print (parent_dir)\n",
        "print (path)\n",
        "print (train_no_dir)\n",
        "print (train_pituitary_dir)\n",
        "print (train_meningioma_dir)\n",
        "print (train_glioma_dir)\n",
        "print (test_no_dir)\n",
        "print (test_pituitary_dir)\n",
        "print (test_meningioma_dir)\n",
        "print (test_glioma_dir)\n"
      ],
      "metadata": {
        "colab": {
          "base_uri": "https://localhost:8080/"
        },
        "id": "lPkZVP-b8j-3",
        "outputId": "7777a7df-27b4-47bd-8eea-a6fa3050f403"
      },
      "execution_count": 6,
      "outputs": [
        {
          "output_type": "stream",
          "name": "stdout",
          "text": [
            "/content/drive/MyDrive/learning cluster/brain_tumors\n",
            "/content/drive/MyDrive/learning cluster/brain_tumors\n",
            "train/no_tumor\n",
            "train/pituitary_tumor\n",
            "train/meningioma_tumor\n",
            "train/glioma_tumor\n",
            "test/no_tumor\n",
            "test/pituitary_tumor\n",
            "test/meningioma_tumor\n",
            "test/glioma_tumor\n"
          ]
        }
      ]
    },
    {
      "cell_type": "code",
      "source": [
        "path_train_no = os.path.join(parent_dir, train_no_dir)\n",
        "path_train_pituitary = os.path.join(parent_dir, train_pituitary_dir)\n",
        "path_train_meningioma = os.path.join(parent_dir, train_meningioma_dir)\n",
        "path_train_glioma = os.path.join(parent_dir, train_glioma_dir)\n",
        "path_test_no = os.path.join(parent_dir, test_no_dir)\n",
        "path_test_pituitary = os.path.join(parent_dir, test_pituitary_dir)\n",
        "path_test_meningioma = os.path.join(parent_dir, test_meningioma_dir)\n",
        "path_test_glioma = os.path.join(parent_dir, test_glioma_dir)"
      ],
      "metadata": {
        "id": "LXssrn8x_mlV"
      },
      "execution_count": 7,
      "outputs": []
    },
    {
      "cell_type": "code",
      "source": [
        "path_train_no = os.path.join(parent_dir, train_no_dir)\n",
        "path_train_pituitary = os.path.join(parent_dir, train_pituitary_dir)\n",
        "path_train_meningioma = os.path.join(parent_dir, train_meningioma_dir)\n",
        "path_train_glioma = os.path.join(parent_dir, train_glioma_dir)\n",
        "path_test_no = os.path.join(parent_dir, test_no_dir)\n",
        "path_test_pituitary = os.path.join(parent_dir, test_pituitary_dir)\n",
        "path_test_meningioma = os.path.join(parent_dir, test_meningioma_dir)\n",
        "path_test_glioma = os.path.join(parent_dir, test_glioma_dir)"
      ],
      "metadata": {
        "id": "YLyfCHYq8Yp3"
      },
      "execution_count": null,
      "outputs": []
    },
    {
      "cell_type": "code",
      "source": [
        "# In cell input-8 where you define the paths\n",
        "test_no_dir = \"test/no_tumor\"\n",
        "test_pituitary_dir = \"test/pituitary_tumor\"\n",
        "test_meningioma_dir = \"test/meningioma_tumor\"\n",
        "test_glioma_dir = \"test/glioma_tumor\"\n",
        "\n",
        "# In cell input-9 where you define the full paths\n",
        "test_no_dir = \"/content/drive/MyDrive/learning cluster/brain_tumors/test/no_tumor\"\n",
        "test_pituitary_dir = \"/content/drive/MyDrive/learning cluster/brain_tumors/test/pituitary_tumor\"\n",
        "test_meningioma_dir = \"/content/drive/MyDrive/learning cluster/brain_tumors/test/meningioma_tumor\" # Corrected the path - it was pointing to glioma_tumor\n",
        "test_glioma_dir = \"/content/drive/MyDrive/learning cluster/brain_tumors/test/glioma_tumor\"\n",
        "\n",
        "# In cell input-10\n",
        "# ... (rest of the code)\n",
        "\n",
        "# In cell input-11\n",
        "flist_test_no = glob.glob(os.path.join(path_test_no, '*.jpg')) # Corrected to use os.path.join\n",
        "flist_test_pituitary = glob.glob(os.path.join(path_test_pituitary, '*.jpg'))\n",
        "flist_test_meningioma = glob.glob(os.path.join(path_test_meningioma, '*.jpg'))\n",
        "flist_test_glioma = glob.glob(os.path.join(path_test_glioma,'*.jpg'))"
      ],
      "metadata": {
        "id": "jyDOFLdMwT6N"
      },
      "execution_count": 15,
      "outputs": []
    },
    {
      "cell_type": "code",
      "metadata": {
        "colab": {
          "base_uri": "https://localhost:8080/",
          "height": 453
        },
        "id": "IA0eGrT-BwZB",
        "outputId": "2f0c39c2-72b5-46e2-a30f-7e9090f44b0e"
      },
      "source": [
        "# plot a sample image\n",
        "some_img = image.imread('/content/drive/MyDrive/learning cluster/brain_tumors/train/no_tumor/1.jpg')\n",
        "plt.imshow(some_img)\n"
      ],
      "execution_count": 16,
      "outputs": [
        {
          "output_type": "execute_result",
          "data": {
            "text/plain": [
              "<matplotlib.image.AxesImage at 0x7fac11a2b390>"
            ]
          },
          "metadata": {},
          "execution_count": 16
        },
        {
          "output_type": "display_data",
          "data": {
            "text/plain": [
              "<Figure size 640x480 with 1 Axes>"
            ],
            "image/png": "[encoded data removed]"
          },
          "metadata": {}
        }
      ]
    },
    {
      "cell_type": "code",
      "metadata": {
        "id": "iMOH7_dmMTPq"
      },
      "source": [
        "# create a list of filenames for each folder\n",
        "flist_train_no = glob.glob(os.path.join(path_train_no, '*.jpg'))\n",
        "flist_train_pituitary = glob.glob(os.path.join(path_train_pituitary, '*.jpg'))\n",
        "flist_train_meningioma = glob.glob(os.path.join(path_train_meningioma, '*.jpg'))\n",
        "flist_train_glioma = glob.glob(os.path.join(path_train_glioma, '*.jpg'))\n",
        "flist_test_no = glob.glob(os.path.join(path_test_no + '*.jpg'))\n",
        "flist_test_pituitary = glob.glob(os.path.join(path_test_pituitary, '*.jpg'))\n",
        "flist_test_meningioma = glob.glob(os.path.join(path_test_meningioma, '*.jpg'))\n",
        "flist_test_glioma = glob.glob(os.path.join(path_test_glioma,'*.jpg'))"
      ],
      "execution_count": 9,
      "outputs": []
    },
    {
      "cell_type": "code",
      "source": [
        "print(\"Path to 'no_tumor' training images:\", path_train_no)"
      ],
      "metadata": {
        "colab": {
          "base_uri": "https://localhost:8080/"
        },
        "id": "oTnuG4RG8uFs",
        "outputId": "eb1ad351-dd7c-4c4e-e545-b6045d16f13f"
      },
      "execution_count": null,
      "outputs": [
        {
          "output_type": "stream",
          "name": "stdout",
          "text": [
            "Path to 'no_tumor' training images: /content/drive/MyDrive/learning cluster/brain_tumors/train/no_tumor\n"
          ]
        }
      ]
    },
    {
      "cell_type": "code",
      "source": [
        "flist_train_no\n"
      ],
      "metadata": {
        "colab": {
          "base_uri": "https://localhost:8080/"
        },
        "id": "TAt8k5zdu7vM",
        "outputId": "136a58f4-ae12-4e78-8d42-08e3eb741cf6"
      },
      "execution_count": 17,
      "outputs": [
        {
          "output_type": "execute_result",
          "data": {
            "text/plain": [
              "['/content/drive/MyDrive/learning cluster/brain_tumors/train/no_tumor/image (46).jpg',\n",
              " '/content/drive/MyDrive/learning cluster/brain_tumors/train/no_tumor/7.jpg',\n",
              " '/content/drive/MyDrive/learning cluster/brain_tumors/train/no_tumor/image (25).jpg',\n",
              " '/content/drive/MyDrive/learning cluster/brain_tumors/train/no_tumor/image (9).jpg',\n",
              " '/content/drive/MyDrive/learning cluster/brain_tumors/train/no_tumor/image (26).jpg',\n",
              " '/content/drive/MyDrive/learning cluster/brain_tumors/train/no_tumor/1.jpg',\n",
              " '/content/drive/MyDrive/learning cluster/brain_tumors/train/no_tumor/image (15).jpg',\n",
              " '/content/drive/MyDrive/learning cluster/brain_tumors/train/no_tumor/image(11).jpg',\n",
              " '/content/drive/MyDrive/learning cluster/brain_tumors/train/no_tumor/3.jpg',\n",
              " '/content/drive/MyDrive/learning cluster/brain_tumors/train/no_tumor/image (52).jpg',\n",
              " '/content/drive/MyDrive/learning cluster/brain_tumors/train/no_tumor/image (22).jpg',\n",
              " '/content/drive/MyDrive/learning cluster/brain_tumors/train/no_tumor/image(10).jpg',\n",
              " '/content/drive/MyDrive/learning cluster/brain_tumors/train/no_tumor/image (41).jpg',\n",
              " '/content/drive/MyDrive/learning cluster/brain_tumors/train/no_tumor/image (44).jpg',\n",
              " '/content/drive/MyDrive/learning cluster/brain_tumors/train/no_tumor/image (49).jpg',\n",
              " '/content/drive/MyDrive/learning cluster/brain_tumors/train/no_tumor/image (38).jpg',\n",
              " '/content/drive/MyDrive/learning cluster/brain_tumors/train/no_tumor/image(108).jpg',\n",
              " '/content/drive/MyDrive/learning cluster/brain_tumors/train/no_tumor/image (6).jpg',\n",
              " '/content/drive/MyDrive/learning cluster/brain_tumors/train/no_tumor/image (43).jpg',\n",
              " '/content/drive/MyDrive/learning cluster/brain_tumors/train/no_tumor/image(104).jpg',\n",
              " '/content/drive/MyDrive/learning cluster/brain_tumors/train/no_tumor/4.jpg',\n",
              " '/content/drive/MyDrive/learning cluster/brain_tumors/train/no_tumor/image (4).jpg',\n",
              " '/content/drive/MyDrive/learning cluster/brain_tumors/train/no_tumor/image (5).jpg',\n",
              " '/content/drive/MyDrive/learning cluster/brain_tumors/train/no_tumor/image (10).jpg',\n",
              " '/content/drive/MyDrive/learning cluster/brain_tumors/train/no_tumor/image (64).jpg',\n",
              " '/content/drive/MyDrive/learning cluster/brain_tumors/train/no_tumor/image (24).jpg',\n",
              " '/content/drive/MyDrive/learning cluster/brain_tumors/train/no_tumor/image (48).jpg',\n",
              " '/content/drive/MyDrive/learning cluster/brain_tumors/train/no_tumor/image (34).jpg',\n",
              " '/content/drive/MyDrive/learning cluster/brain_tumors/train/no_tumor/image (36).jpg',\n",
              " '/content/drive/MyDrive/learning cluster/brain_tumors/train/no_tumor/image (54).jpg',\n",
              " '/content/drive/MyDrive/learning cluster/brain_tumors/train/no_tumor/image(105).jpg',\n",
              " '/content/drive/MyDrive/learning cluster/brain_tumors/train/no_tumor/image (56).jpg',\n",
              " '/content/drive/MyDrive/learning cluster/brain_tumors/train/no_tumor/image (31).jpg',\n",
              " '/content/drive/MyDrive/learning cluster/brain_tumors/train/no_tumor/image (39).jpg',\n",
              " '/content/drive/MyDrive/learning cluster/brain_tumors/train/no_tumor/image(103).jpg',\n",
              " '/content/drive/MyDrive/learning cluster/brain_tumors/train/no_tumor/image(101).jpg',\n",
              " '/content/drive/MyDrive/learning cluster/brain_tumors/train/no_tumor/image (16).jpg',\n",
              " '/content/drive/MyDrive/learning cluster/brain_tumors/train/no_tumor/image (32).jpg',\n",
              " '/content/drive/MyDrive/learning cluster/brain_tumors/train/no_tumor/image (35).jpg',\n",
              " '/content/drive/MyDrive/learning cluster/brain_tumors/train/no_tumor/image (51).jpg',\n",
              " '/content/drive/MyDrive/learning cluster/brain_tumors/train/no_tumor/image (60).jpg',\n",
              " '/content/drive/MyDrive/learning cluster/brain_tumors/train/no_tumor/image (55).jpg',\n",
              " '/content/drive/MyDrive/learning cluster/brain_tumors/train/no_tumor/image (42).jpg',\n",
              " '/content/drive/MyDrive/learning cluster/brain_tumors/train/no_tumor/8.jpg',\n",
              " '/content/drive/MyDrive/learning cluster/brain_tumors/train/no_tumor/image (18).jpg',\n",
              " '/content/drive/MyDrive/learning cluster/brain_tumors/train/no_tumor/image (63).jpg',\n",
              " '/content/drive/MyDrive/learning cluster/brain_tumors/train/no_tumor/image (30).jpg',\n",
              " '/content/drive/MyDrive/learning cluster/brain_tumors/train/no_tumor/image (58).jpg',\n",
              " '/content/drive/MyDrive/learning cluster/brain_tumors/train/no_tumor/image (47).jpg',\n",
              " '/content/drive/MyDrive/learning cluster/brain_tumors/train/no_tumor/image (11).jpg',\n",
              " '/content/drive/MyDrive/learning cluster/brain_tumors/train/no_tumor/image (59).jpg',\n",
              " '/content/drive/MyDrive/learning cluster/brain_tumors/train/no_tumor/image (8).jpg',\n",
              " '/content/drive/MyDrive/learning cluster/brain_tumors/train/no_tumor/image(102).jpg',\n",
              " '/content/drive/MyDrive/learning cluster/brain_tumors/train/no_tumor/image (45).jpg',\n",
              " '/content/drive/MyDrive/learning cluster/brain_tumors/train/no_tumor/image (37).jpg',\n",
              " '/content/drive/MyDrive/learning cluster/brain_tumors/train/no_tumor/image (40).jpg',\n",
              " '/content/drive/MyDrive/learning cluster/brain_tumors/train/no_tumor/6.jpg',\n",
              " '/content/drive/MyDrive/learning cluster/brain_tumors/train/no_tumor/image (7).jpg',\n",
              " '/content/drive/MyDrive/learning cluster/brain_tumors/train/no_tumor/5.jpg',\n",
              " '/content/drive/MyDrive/learning cluster/brain_tumors/train/no_tumor/image (19).jpg',\n",
              " '/content/drive/MyDrive/learning cluster/brain_tumors/train/no_tumor/image (17).jpg',\n",
              " '/content/drive/MyDrive/learning cluster/brain_tumors/train/no_tumor/image (50).jpg',\n",
              " '/content/drive/MyDrive/learning cluster/brain_tumors/train/no_tumor/image (62).jpg',\n",
              " '/content/drive/MyDrive/learning cluster/brain_tumors/train/no_tumor/image(106).jpg',\n",
              " '/content/drive/MyDrive/learning cluster/brain_tumors/train/no_tumor/image (27).jpg',\n",
              " '/content/drive/MyDrive/learning cluster/brain_tumors/train/no_tumor/image(107).jpg',\n",
              " '/content/drive/MyDrive/learning cluster/brain_tumors/train/no_tumor/image (28).jpg',\n",
              " '/content/drive/MyDrive/learning cluster/brain_tumors/train/no_tumor/image(1).jpg',\n",
              " '/content/drive/MyDrive/learning cluster/brain_tumors/train/no_tumor/2.jpg',\n",
              " '/content/drive/MyDrive/learning cluster/brain_tumors/train/no_tumor/image (29).jpg',\n",
              " '/content/drive/MyDrive/learning cluster/brain_tumors/train/no_tumor/image (13).jpg',\n",
              " '/content/drive/MyDrive/learning cluster/brain_tumors/train/no_tumor/image (33).jpg',\n",
              " '/content/drive/MyDrive/learning cluster/brain_tumors/train/no_tumor/image (57).jpg',\n",
              " '/content/drive/MyDrive/learning cluster/brain_tumors/train/no_tumor/image (61).jpg',\n",
              " '/content/drive/MyDrive/learning cluster/brain_tumors/train/no_tumor/image (12).jpg',\n",
              " '/content/drive/MyDrive/learning cluster/brain_tumors/train/no_tumor/image (14).jpg',\n",
              " '/content/drive/MyDrive/learning cluster/brain_tumors/train/no_tumor/image (53).jpg',\n",
              " '/content/drive/MyDrive/learning cluster/brain_tumors/train/no_tumor/image (21).jpg',\n",
              " '/content/drive/MyDrive/learning cluster/brain_tumors/train/no_tumor/image(100).jpg',\n",
              " '/content/drive/MyDrive/learning cluster/brain_tumors/train/no_tumor/image (20).jpg',\n",
              " '/content/drive/MyDrive/learning cluster/brain_tumors/train/no_tumor/image (23).jpg',\n",
              " '/content/drive/MyDrive/learning cluster/brain_tumors/train/no_tumor/image(17).jpg',\n",
              " '/content/drive/MyDrive/learning cluster/brain_tumors/train/no_tumor/image(114).jpg',\n",
              " '/content/drive/MyDrive/learning cluster/brain_tumors/train/no_tumor/image(15).jpg',\n",
              " '/content/drive/MyDrive/learning cluster/brain_tumors/train/no_tumor/image(112).jpg',\n",
              " '/content/drive/MyDrive/learning cluster/brain_tumors/train/no_tumor/image(137).jpg',\n",
              " '/content/drive/MyDrive/learning cluster/brain_tumors/train/no_tumor/image(13).jpg',\n",
              " '/content/drive/MyDrive/learning cluster/brain_tumors/train/no_tumor/image(141).jpg',\n",
              " '/content/drive/MyDrive/learning cluster/brain_tumors/train/no_tumor/image(111).jpg',\n",
              " '/content/drive/MyDrive/learning cluster/brain_tumors/train/no_tumor/image(169).jpg',\n",
              " '/content/drive/MyDrive/learning cluster/brain_tumors/train/no_tumor/image(153).jpg',\n",
              " '/content/drive/MyDrive/learning cluster/brain_tumors/train/no_tumor/image(120).jpg',\n",
              " '/content/drive/MyDrive/learning cluster/brain_tumors/train/no_tumor/image(176).jpg',\n",
              " '/content/drive/MyDrive/learning cluster/brain_tumors/train/no_tumor/image(161).jpg',\n",
              " '/content/drive/MyDrive/learning cluster/brain_tumors/train/no_tumor/image(133).jpg',\n",
              " '/content/drive/MyDrive/learning cluster/brain_tumors/train/no_tumor/image(164).jpg',\n",
              " '/content/drive/MyDrive/learning cluster/brain_tumors/train/no_tumor/image(125).jpg',\n",
              " '/content/drive/MyDrive/learning cluster/brain_tumors/train/no_tumor/image(140).jpg',\n",
              " '/content/drive/MyDrive/learning cluster/brain_tumors/train/no_tumor/image(142).jpg',\n",
              " '/content/drive/MyDrive/learning cluster/brain_tumors/train/no_tumor/image(165).jpg',\n",
              " '/content/drive/MyDrive/learning cluster/brain_tumors/train/no_tumor/image(171).jpg',\n",
              " '/content/drive/MyDrive/learning cluster/brain_tumors/train/no_tumor/image(143).jpg',\n",
              " '/content/drive/MyDrive/learning cluster/brain_tumors/train/no_tumor/image(172).jpg',\n",
              " '/content/drive/MyDrive/learning cluster/brain_tumors/train/no_tumor/image(118).jpg',\n",
              " '/content/drive/MyDrive/learning cluster/brain_tumors/train/no_tumor/image(179).jpg',\n",
              " '/content/drive/MyDrive/learning cluster/brain_tumors/train/no_tumor/image(168).jpg',\n",
              " '/content/drive/MyDrive/learning cluster/brain_tumors/train/no_tumor/image(157).jpg',\n",
              " '/content/drive/MyDrive/learning cluster/brain_tumors/train/no_tumor/image(18).jpg',\n",
              " '/content/drive/MyDrive/learning cluster/brain_tumors/train/no_tumor/image(129).jpg',\n",
              " '/content/drive/MyDrive/learning cluster/brain_tumors/train/no_tumor/image(174).jpg',\n",
              " '/content/drive/MyDrive/learning cluster/brain_tumors/train/no_tumor/image(159).jpg',\n",
              " '/content/drive/MyDrive/learning cluster/brain_tumors/train/no_tumor/image(151).jpg',\n",
              " '/content/drive/MyDrive/learning cluster/brain_tumors/train/no_tumor/image(146).jpg',\n",
              " '/content/drive/MyDrive/learning cluster/brain_tumors/train/no_tumor/image(122).jpg',\n",
              " '/content/drive/MyDrive/learning cluster/brain_tumors/train/no_tumor/image(130).jpg',\n",
              " '/content/drive/MyDrive/learning cluster/brain_tumors/train/no_tumor/image(180).jpg',\n",
              " '/content/drive/MyDrive/learning cluster/brain_tumors/train/no_tumor/image(144).jpg',\n",
              " '/content/drive/MyDrive/learning cluster/brain_tumors/train/no_tumor/image(177).jpg',\n",
              " '/content/drive/MyDrive/learning cluster/brain_tumors/train/no_tumor/image(124).jpg',\n",
              " '/content/drive/MyDrive/learning cluster/brain_tumors/train/no_tumor/image(175).jpg',\n",
              " '/content/drive/MyDrive/learning cluster/brain_tumors/train/no_tumor/image(126).jpg',\n",
              " '/content/drive/MyDrive/learning cluster/brain_tumors/train/no_tumor/image(156).jpg',\n",
              " '/content/drive/MyDrive/learning cluster/brain_tumors/train/no_tumor/image(138).jpg',\n",
              " '/content/drive/MyDrive/learning cluster/brain_tumors/train/no_tumor/image(148).jpg',\n",
              " '/content/drive/MyDrive/learning cluster/brain_tumors/train/no_tumor/image(127).jpg',\n",
              " '/content/drive/MyDrive/learning cluster/brain_tumors/train/no_tumor/image(14).jpg',\n",
              " '/content/drive/MyDrive/learning cluster/brain_tumors/train/no_tumor/image(182).jpg',\n",
              " '/content/drive/MyDrive/learning cluster/brain_tumors/train/no_tumor/image(134).jpg',\n",
              " '/content/drive/MyDrive/learning cluster/brain_tumors/train/no_tumor/image(123).jpg',\n",
              " '/content/drive/MyDrive/learning cluster/brain_tumors/train/no_tumor/image(149).jpg',\n",
              " '/content/drive/MyDrive/learning cluster/brain_tumors/train/no_tumor/image(147).jpg',\n",
              " '/content/drive/MyDrive/learning cluster/brain_tumors/train/no_tumor/image(145).jpg',\n",
              " '/content/drive/MyDrive/learning cluster/brain_tumors/train/no_tumor/image(162).jpg',\n",
              " '/content/drive/MyDrive/learning cluster/brain_tumors/train/no_tumor/image(163).jpg',\n",
              " '/content/drive/MyDrive/learning cluster/brain_tumors/train/no_tumor/image(119).jpg',\n",
              " '/content/drive/MyDrive/learning cluster/brain_tumors/train/no_tumor/image(115).jpg',\n",
              " '/content/drive/MyDrive/learning cluster/brain_tumors/train/no_tumor/image(170).jpg',\n",
              " '/content/drive/MyDrive/learning cluster/brain_tumors/train/no_tumor/image(110).jpg',\n",
              " '/content/drive/MyDrive/learning cluster/brain_tumors/train/no_tumor/image(158).jpg',\n",
              " '/content/drive/MyDrive/learning cluster/brain_tumors/train/no_tumor/image(121).jpg',\n",
              " '/content/drive/MyDrive/learning cluster/brain_tumors/train/no_tumor/image(135).jpg',\n",
              " '/content/drive/MyDrive/learning cluster/brain_tumors/train/no_tumor/image(167).jpg',\n",
              " '/content/drive/MyDrive/learning cluster/brain_tumors/train/no_tumor/image(152).jpg',\n",
              " '/content/drive/MyDrive/learning cluster/brain_tumors/train/no_tumor/image(16).jpg',\n",
              " '/content/drive/MyDrive/learning cluster/brain_tumors/train/no_tumor/image(128).jpg',\n",
              " '/content/drive/MyDrive/learning cluster/brain_tumors/train/no_tumor/image(132).jpg',\n",
              " '/content/drive/MyDrive/learning cluster/brain_tumors/train/no_tumor/image(160).jpg',\n",
              " '/content/drive/MyDrive/learning cluster/brain_tumors/train/no_tumor/image(136).jpg',\n",
              " '/content/drive/MyDrive/learning cluster/brain_tumors/train/no_tumor/image(131).jpg',\n",
              " '/content/drive/MyDrive/learning cluster/brain_tumors/train/no_tumor/image(155).jpg',\n",
              " '/content/drive/MyDrive/learning cluster/brain_tumors/train/no_tumor/image(139).jpg',\n",
              " '/content/drive/MyDrive/learning cluster/brain_tumors/train/no_tumor/image(181).jpg',\n",
              " '/content/drive/MyDrive/learning cluster/brain_tumors/train/no_tumor/image(113).jpg',\n",
              " '/content/drive/MyDrive/learning cluster/brain_tumors/train/no_tumor/image(154).jpg',\n",
              " '/content/drive/MyDrive/learning cluster/brain_tumors/train/no_tumor/image(12).jpg',\n",
              " '/content/drive/MyDrive/learning cluster/brain_tumors/train/no_tumor/image(116).jpg',\n",
              " '/content/drive/MyDrive/learning cluster/brain_tumors/train/no_tumor/image(166).jpg',\n",
              " '/content/drive/MyDrive/learning cluster/brain_tumors/train/no_tumor/image(117).jpg',\n",
              " '/content/drive/MyDrive/learning cluster/brain_tumors/train/no_tumor/image(150).jpg',\n",
              " '/content/drive/MyDrive/learning cluster/brain_tumors/train/no_tumor/image(178).jpg',\n",
              " '/content/drive/MyDrive/learning cluster/brain_tumors/train/no_tumor/image(173).jpg',\n",
              " '/content/drive/MyDrive/learning cluster/brain_tumors/train/no_tumor/image(186).jpg',\n",
              " '/content/drive/MyDrive/learning cluster/brain_tumors/train/no_tumor/image(2).jpg',\n",
              " '/content/drive/MyDrive/learning cluster/brain_tumors/train/no_tumor/image(200).jpg',\n",
              " '/content/drive/MyDrive/learning cluster/brain_tumors/train/no_tumor/image(212).jpg',\n",
              " '/content/drive/MyDrive/learning cluster/brain_tumors/train/no_tumor/image(211).jpg',\n",
              " '/content/drive/MyDrive/learning cluster/brain_tumors/train/no_tumor/image(19).jpg',\n",
              " '/content/drive/MyDrive/learning cluster/brain_tumors/train/no_tumor/image(254).jpg',\n",
              " '/content/drive/MyDrive/learning cluster/brain_tumors/train/no_tumor/image(192).jpg',\n",
              " '/content/drive/MyDrive/learning cluster/brain_tumors/train/no_tumor/image(197).jpg',\n",
              " '/content/drive/MyDrive/learning cluster/brain_tumors/train/no_tumor/image(227).jpg',\n",
              " '/content/drive/MyDrive/learning cluster/brain_tumors/train/no_tumor/image(191).jpg',\n",
              " '/content/drive/MyDrive/learning cluster/brain_tumors/train/no_tumor/image(204).jpg',\n",
              " '/content/drive/MyDrive/learning cluster/brain_tumors/train/no_tumor/image(190).jpg',\n",
              " '/content/drive/MyDrive/learning cluster/brain_tumors/train/no_tumor/image(196).jpg',\n",
              " '/content/drive/MyDrive/learning cluster/brain_tumors/train/no_tumor/image(220).jpg',\n",
              " '/content/drive/MyDrive/learning cluster/brain_tumors/train/no_tumor/image(217).jpg',\n",
              " '/content/drive/MyDrive/learning cluster/brain_tumors/train/no_tumor/image(203).jpg',\n",
              " '/content/drive/MyDrive/learning cluster/brain_tumors/train/no_tumor/image(24).jpg',\n",
              " '/content/drive/MyDrive/learning cluster/brain_tumors/train/no_tumor/image(237).jpg',\n",
              " '/content/drive/MyDrive/learning cluster/brain_tumors/train/no_tumor/image(226).jpg',\n",
              " '/content/drive/MyDrive/learning cluster/brain_tumors/train/no_tumor/image(228).jpg',\n",
              " '/content/drive/MyDrive/learning cluster/brain_tumors/train/no_tumor/image(195).jpg',\n",
              " '/content/drive/MyDrive/learning cluster/brain_tumors/train/no_tumor/image(188).jpg',\n",
              " '/content/drive/MyDrive/learning cluster/brain_tumors/train/no_tumor/image(199).jpg',\n",
              " '/content/drive/MyDrive/learning cluster/brain_tumors/train/no_tumor/image(22).jpg',\n",
              " '/content/drive/MyDrive/learning cluster/brain_tumors/train/no_tumor/image(255).jpg',\n",
              " '/content/drive/MyDrive/learning cluster/brain_tumors/train/no_tumor/image(189).jpg',\n",
              " '/content/drive/MyDrive/learning cluster/brain_tumors/train/no_tumor/image(248).jpg',\n",
              " '/content/drive/MyDrive/learning cluster/brain_tumors/train/no_tumor/image(185).jpg',\n",
              " '/content/drive/MyDrive/learning cluster/brain_tumors/train/no_tumor/image(225).jpg',\n",
              " '/content/drive/MyDrive/learning cluster/brain_tumors/train/no_tumor/image(207).jpg',\n",
              " '/content/drive/MyDrive/learning cluster/brain_tumors/train/no_tumor/image(252).jpg',\n",
              " '/content/drive/MyDrive/learning cluster/brain_tumors/train/no_tumor/image(233).jpg',\n",
              " '/content/drive/MyDrive/learning cluster/brain_tumors/train/no_tumor/image(235).jpg',\n",
              " '/content/drive/MyDrive/learning cluster/brain_tumors/train/no_tumor/image(221).jpg',\n",
              " '/content/drive/MyDrive/learning cluster/brain_tumors/train/no_tumor/image(208).jpg',\n",
              " '/content/drive/MyDrive/learning cluster/brain_tumors/train/no_tumor/image(213).jpg',\n",
              " '/content/drive/MyDrive/learning cluster/brain_tumors/train/no_tumor/image(187).jpg',\n",
              " '/content/drive/MyDrive/learning cluster/brain_tumors/train/no_tumor/image(245).jpg',\n",
              " '/content/drive/MyDrive/learning cluster/brain_tumors/train/no_tumor/image(222).jpg',\n",
              " '/content/drive/MyDrive/learning cluster/brain_tumors/train/no_tumor/image(21).jpg',\n",
              " '/content/drive/MyDrive/learning cluster/brain_tumors/train/no_tumor/image(232).jpg',\n",
              " '/content/drive/MyDrive/learning cluster/brain_tumors/train/no_tumor/image(210).jpg',\n",
              " '/content/drive/MyDrive/learning cluster/brain_tumors/train/no_tumor/image(251).jpg',\n",
              " '/content/drive/MyDrive/learning cluster/brain_tumors/train/no_tumor/image(231).jpg',\n",
              " '/content/drive/MyDrive/learning cluster/brain_tumors/train/no_tumor/image(236).jpg',\n",
              " '/content/drive/MyDrive/learning cluster/brain_tumors/train/no_tumor/image(244).jpg',\n",
              " '/content/drive/MyDrive/learning cluster/brain_tumors/train/no_tumor/image(209).jpg',\n",
              " '/content/drive/MyDrive/learning cluster/brain_tumors/train/no_tumor/image(198).jpg',\n",
              " '/content/drive/MyDrive/learning cluster/brain_tumors/train/no_tumor/image(253).jpg',\n",
              " '/content/drive/MyDrive/learning cluster/brain_tumors/train/no_tumor/image(219).jpg',\n",
              " '/content/drive/MyDrive/learning cluster/brain_tumors/train/no_tumor/image(20).jpg',\n",
              " '/content/drive/MyDrive/learning cluster/brain_tumors/train/no_tumor/image(23).jpg',\n",
              " '/content/drive/MyDrive/learning cluster/brain_tumors/train/no_tumor/image(243).jpg',\n",
              " '/content/drive/MyDrive/learning cluster/brain_tumors/train/no_tumor/image(241).jpg',\n",
              " '/content/drive/MyDrive/learning cluster/brain_tumors/train/no_tumor/image(218).jpg',\n",
              " '/content/drive/MyDrive/learning cluster/brain_tumors/train/no_tumor/image(246).jpg',\n",
              " '/content/drive/MyDrive/learning cluster/brain_tumors/train/no_tumor/image(249).jpg',\n",
              " '/content/drive/MyDrive/learning cluster/brain_tumors/train/no_tumor/image(234).jpg',\n",
              " '/content/drive/MyDrive/learning cluster/brain_tumors/train/no_tumor/image(239).jpg',\n",
              " '/content/drive/MyDrive/learning cluster/brain_tumors/train/no_tumor/image(214).jpg',\n",
              " '/content/drive/MyDrive/learning cluster/brain_tumors/train/no_tumor/image(238).jpg',\n",
              " '/content/drive/MyDrive/learning cluster/brain_tumors/train/no_tumor/image(216).jpg',\n",
              " '/content/drive/MyDrive/learning cluster/brain_tumors/train/no_tumor/image(242).jpg',\n",
              " '/content/drive/MyDrive/learning cluster/brain_tumors/train/no_tumor/image(193).jpg',\n",
              " '/content/drive/MyDrive/learning cluster/brain_tumors/train/no_tumor/image(202).jpg',\n",
              " '/content/drive/MyDrive/learning cluster/brain_tumors/train/no_tumor/image(184).jpg',\n",
              " '/content/drive/MyDrive/learning cluster/brain_tumors/train/no_tumor/image(247).jpg',\n",
              " '/content/drive/MyDrive/learning cluster/brain_tumors/train/no_tumor/image(250).jpg',\n",
              " '/content/drive/MyDrive/learning cluster/brain_tumors/train/no_tumor/image(194).jpg',\n",
              " '/content/drive/MyDrive/learning cluster/brain_tumors/train/no_tumor/image(205).jpg',\n",
              " '/content/drive/MyDrive/learning cluster/brain_tumors/train/no_tumor/image(25).jpg',\n",
              " '/content/drive/MyDrive/learning cluster/brain_tumors/train/no_tumor/image(224).jpg',\n",
              " '/content/drive/MyDrive/learning cluster/brain_tumors/train/no_tumor/image(206).jpg',\n",
              " '/content/drive/MyDrive/learning cluster/brain_tumors/train/no_tumor/image(183).jpg',\n",
              " '/content/drive/MyDrive/learning cluster/brain_tumors/train/no_tumor/image(215).jpg',\n",
              " '/content/drive/MyDrive/learning cluster/brain_tumors/train/no_tumor/image(201).jpg',\n",
              " '/content/drive/MyDrive/learning cluster/brain_tumors/train/no_tumor/image(229).jpg',\n",
              " '/content/drive/MyDrive/learning cluster/brain_tumors/train/no_tumor/image(240).jpg',\n",
              " '/content/drive/MyDrive/learning cluster/brain_tumors/train/no_tumor/image(230).jpg',\n",
              " '/content/drive/MyDrive/learning cluster/brain_tumors/train/no_tumor/image(223).jpg',\n",
              " '/content/drive/MyDrive/learning cluster/brain_tumors/train/no_tumor/image(262).jpg',\n",
              " '/content/drive/MyDrive/learning cluster/brain_tumors/train/no_tumor/image(315).jpg',\n",
              " '/content/drive/MyDrive/learning cluster/brain_tumors/train/no_tumor/image(268).jpg',\n",
              " '/content/drive/MyDrive/learning cluster/brain_tumors/train/no_tumor/image(30).jpg',\n",
              " '/content/drive/MyDrive/learning cluster/brain_tumors/train/no_tumor/image(319).jpg',\n",
              " '/content/drive/MyDrive/learning cluster/brain_tumors/train/no_tumor/image(291).jpg',\n",
              " '/content/drive/MyDrive/learning cluster/brain_tumors/train/no_tumor/image(323).jpg',\n",
              " '/content/drive/MyDrive/learning cluster/brain_tumors/train/no_tumor/image(325).jpg',\n",
              " '/content/drive/MyDrive/learning cluster/brain_tumors/train/no_tumor/image(320).jpg',\n",
              " '/content/drive/MyDrive/learning cluster/brain_tumors/train/no_tumor/image(312).jpg',\n",
              " '/content/drive/MyDrive/learning cluster/brain_tumors/train/no_tumor/image(286).jpg',\n",
              " '/content/drive/MyDrive/learning cluster/brain_tumors/train/no_tumor/image(289).jpg',\n",
              " '/content/drive/MyDrive/learning cluster/brain_tumors/train/no_tumor/image(306).jpg',\n",
              " '/content/drive/MyDrive/learning cluster/brain_tumors/train/no_tumor/image(28).jpg',\n",
              " '/content/drive/MyDrive/learning cluster/brain_tumors/train/no_tumor/image(310).jpg',\n",
              " '/content/drive/MyDrive/learning cluster/brain_tumors/train/no_tumor/image(307).jpg',\n",
              " '/content/drive/MyDrive/learning cluster/brain_tumors/train/no_tumor/image(302).jpg',\n",
              " '/content/drive/MyDrive/learning cluster/brain_tumors/train/no_tumor/image(293).jpg',\n",
              " '/content/drive/MyDrive/learning cluster/brain_tumors/train/no_tumor/image(297).jpg',\n",
              " '/content/drive/MyDrive/learning cluster/brain_tumors/train/no_tumor/image(31).jpg',\n",
              " '/content/drive/MyDrive/learning cluster/brain_tumors/train/no_tumor/image(29).jpg',\n",
              " '/content/drive/MyDrive/learning cluster/brain_tumors/train/no_tumor/image(281).jpg',\n",
              " '/content/drive/MyDrive/learning cluster/brain_tumors/train/no_tumor/image(275).jpg',\n",
              " '/content/drive/MyDrive/learning cluster/brain_tumors/train/no_tumor/image(265).jpg',\n",
              " '/content/drive/MyDrive/learning cluster/brain_tumors/train/no_tumor/image(326).jpg',\n",
              " '/content/drive/MyDrive/learning cluster/brain_tumors/train/no_tumor/image(314).jpg',\n",
              " '/content/drive/MyDrive/learning cluster/brain_tumors/train/no_tumor/image(296).jpg',\n",
              " '/content/drive/MyDrive/learning cluster/brain_tumors/train/no_tumor/image(274).jpg',\n",
              " '/content/drive/MyDrive/learning cluster/brain_tumors/train/no_tumor/image(305).jpg',\n",
              " '/content/drive/MyDrive/learning cluster/brain_tumors/train/no_tumor/image(3).jpg',\n",
              " '/content/drive/MyDrive/learning cluster/brain_tumors/train/no_tumor/image(282).jpg',\n",
              " '/content/drive/MyDrive/learning cluster/brain_tumors/train/no_tumor/image(284).jpg',\n",
              " '/content/drive/MyDrive/learning cluster/brain_tumors/train/no_tumor/image(308).jpg',\n",
              " '/content/drive/MyDrive/learning cluster/brain_tumors/train/no_tumor/image(318).jpg',\n",
              " '/content/drive/MyDrive/learning cluster/brain_tumors/train/no_tumor/image(267).jpg',\n",
              " '/content/drive/MyDrive/learning cluster/brain_tumors/train/no_tumor/image(271).jpg',\n",
              " '/content/drive/MyDrive/learning cluster/brain_tumors/train/no_tumor/image(269).jpg',\n",
              " '/content/drive/MyDrive/learning cluster/brain_tumors/train/no_tumor/image(287).jpg',\n",
              " '/content/drive/MyDrive/learning cluster/brain_tumors/train/no_tumor/image(272).jpg',\n",
              " '/content/drive/MyDrive/learning cluster/brain_tumors/train/no_tumor/image(322).jpg',\n",
              " '/content/drive/MyDrive/learning cluster/brain_tumors/train/no_tumor/image(277).jpg',\n",
              " '/content/drive/MyDrive/learning cluster/brain_tumors/train/no_tumor/image(266).jpg',\n",
              " '/content/drive/MyDrive/learning cluster/brain_tumors/train/no_tumor/image(33).jpg',\n",
              " '/content/drive/MyDrive/learning cluster/brain_tumors/train/no_tumor/image(304).jpg',\n",
              " '/content/drive/MyDrive/learning cluster/brain_tumors/train/no_tumor/image(295).jpg',\n",
              " '/content/drive/MyDrive/learning cluster/brain_tumors/train/no_tumor/image(300).jpg',\n",
              " '/content/drive/MyDrive/learning cluster/brain_tumors/train/no_tumor/image(32).jpg',\n",
              " '/content/drive/MyDrive/learning cluster/brain_tumors/train/no_tumor/image(324).jpg',\n",
              " '/content/drive/MyDrive/learning cluster/brain_tumors/train/no_tumor/image(290).jpg',\n",
              " '/content/drive/MyDrive/learning cluster/brain_tumors/train/no_tumor/image(303).jpg',\n",
              " '/content/drive/MyDrive/learning cluster/brain_tumors/train/no_tumor/image(276).jpg',\n",
              " '/content/drive/MyDrive/learning cluster/brain_tumors/train/no_tumor/image(321).jpg',\n",
              " '/content/drive/MyDrive/learning cluster/brain_tumors/train/no_tumor/image(311).jpg',\n",
              " '/content/drive/MyDrive/learning cluster/brain_tumors/train/no_tumor/image(327).jpg',\n",
              " '/content/drive/MyDrive/learning cluster/brain_tumors/train/no_tumor/image(288).jpg',\n",
              " '/content/drive/MyDrive/learning cluster/brain_tumors/train/no_tumor/image(26).jpg',\n",
              " '/content/drive/MyDrive/learning cluster/brain_tumors/train/no_tumor/image(27).jpg',\n",
              " '/content/drive/MyDrive/learning cluster/brain_tumors/train/no_tumor/image(299).jpg',\n",
              " '/content/drive/MyDrive/learning cluster/brain_tumors/train/no_tumor/image(264).jpg',\n",
              " '/content/drive/MyDrive/learning cluster/brain_tumors/train/no_tumor/image(273).jpg',\n",
              " '/content/drive/MyDrive/learning cluster/brain_tumors/train/no_tumor/image(278).jpg',\n",
              " '/content/drive/MyDrive/learning cluster/brain_tumors/train/no_tumor/image(260).jpg',\n",
              " '/content/drive/MyDrive/learning cluster/brain_tumors/train/no_tumor/image(270).jpg',\n",
              " '/content/drive/MyDrive/learning cluster/brain_tumors/train/no_tumor/image(261).jpg',\n",
              " '/content/drive/MyDrive/learning cluster/brain_tumors/train/no_tumor/image(263).jpg',\n",
              " '/content/drive/MyDrive/learning cluster/brain_tumors/train/no_tumor/image(279).jpg',\n",
              " '/content/drive/MyDrive/learning cluster/brain_tumors/train/no_tumor/image(301).jpg',\n",
              " '/content/drive/MyDrive/learning cluster/brain_tumors/train/no_tumor/image(313).jpg',\n",
              " '/content/drive/MyDrive/learning cluster/brain_tumors/train/no_tumor/image(298).jpg',\n",
              " '/content/drive/MyDrive/learning cluster/brain_tumors/train/no_tumor/image(258).jpg',\n",
              " '/content/drive/MyDrive/learning cluster/brain_tumors/train/no_tumor/image(256).jpg',\n",
              " '/content/drive/MyDrive/learning cluster/brain_tumors/train/no_tumor/image(283).jpg',\n",
              " '/content/drive/MyDrive/learning cluster/brain_tumors/train/no_tumor/image(294).jpg',\n",
              " '/content/drive/MyDrive/learning cluster/brain_tumors/train/no_tumor/image(316).jpg',\n",
              " '/content/drive/MyDrive/learning cluster/brain_tumors/train/no_tumor/image(257).jpg',\n",
              " '/content/drive/MyDrive/learning cluster/brain_tumors/train/no_tumor/image(285).jpg',\n",
              " '/content/drive/MyDrive/learning cluster/brain_tumors/train/no_tumor/image(259).jpg',\n",
              " '/content/drive/MyDrive/learning cluster/brain_tumors/train/no_tumor/image(309).jpg',\n",
              " '/content/drive/MyDrive/learning cluster/brain_tumors/train/no_tumor/image(292).jpg',\n",
              " '/content/drive/MyDrive/learning cluster/brain_tumors/train/no_tumor/image(317).jpg',\n",
              " '/content/drive/MyDrive/learning cluster/brain_tumors/train/no_tumor/image(280).jpg',\n",
              " '/content/drive/MyDrive/learning cluster/brain_tumors/train/no_tumor/image(95).jpg',\n",
              " '/content/drive/MyDrive/learning cluster/brain_tumors/train/no_tumor/image(45).jpg',\n",
              " '/content/drive/MyDrive/learning cluster/brain_tumors/train/no_tumor/image(65).jpg',\n",
              " '/content/drive/MyDrive/learning cluster/brain_tumors/train/no_tumor/image(99).jpg',\n",
              " '/content/drive/MyDrive/learning cluster/brain_tumors/train/no_tumor/image(75).jpg',\n",
              " '/content/drive/MyDrive/learning cluster/brain_tumors/train/no_tumor/image(98).jpg',\n",
              " '/content/drive/MyDrive/learning cluster/brain_tumors/train/no_tumor/image(91).jpg',\n",
              " '/content/drive/MyDrive/learning cluster/brain_tumors/train/no_tumor/image(85).jpg',\n",
              " '/content/drive/MyDrive/learning cluster/brain_tumors/train/no_tumor/image(47).jpg',\n",
              " '/content/drive/MyDrive/learning cluster/brain_tumors/train/no_tumor/image(7).jpg',\n",
              " '/content/drive/MyDrive/learning cluster/brain_tumors/train/no_tumor/image(74).jpg',\n",
              " '/content/drive/MyDrive/learning cluster/brain_tumors/train/no_tumor/image(55).jpg',\n",
              " '/content/drive/MyDrive/learning cluster/brain_tumors/train/no_tumor/image(73).jpg',\n",
              " '/content/drive/MyDrive/learning cluster/brain_tumors/train/no_tumor/image(6).jpg',\n",
              " '/content/drive/MyDrive/learning cluster/brain_tumors/train/no_tumor/image(34).jpg',\n",
              " '/content/drive/MyDrive/learning cluster/brain_tumors/train/no_tumor/image(88).jpg',\n",
              " '/content/drive/MyDrive/learning cluster/brain_tumors/train/no_tumor/image(82).jpg',\n",
              " '/content/drive/MyDrive/learning cluster/brain_tumors/train/no_tumor/image(81).jpg',\n",
              " '/content/drive/MyDrive/learning cluster/brain_tumors/train/no_tumor/image(8).jpg',\n",
              " '/content/drive/MyDrive/learning cluster/brain_tumors/train/no_tumor/image(71).jpg',\n",
              " '/content/drive/MyDrive/learning cluster/brain_tumors/train/no_tumor/image(41).jpg',\n",
              " '/content/drive/MyDrive/learning cluster/brain_tumors/train/no_tumor/image(60).jpg',\n",
              " '/content/drive/MyDrive/learning cluster/brain_tumors/train/no_tumor/image(78).jpg',\n",
              " '/content/drive/MyDrive/learning cluster/brain_tumors/train/no_tumor/image(66).jpg',\n",
              " '/content/drive/MyDrive/learning cluster/brain_tumors/train/no_tumor/image(49).jpg',\n",
              " '/content/drive/MyDrive/learning cluster/brain_tumors/train/no_tumor/image(9).jpg',\n",
              " '/content/drive/MyDrive/learning cluster/brain_tumors/train/no_tumor/image(70).jpg',\n",
              " '/content/drive/MyDrive/learning cluster/brain_tumors/train/no_tumor/image(93).jpg',\n",
              " '/content/drive/MyDrive/learning cluster/brain_tumors/train/no_tumor/image(53).jpg',\n",
              " '/content/drive/MyDrive/learning cluster/brain_tumors/train/no_tumor/image(44).jpg',\n",
              " '/content/drive/MyDrive/learning cluster/brain_tumors/train/no_tumor/image(36).jpg',\n",
              " '/content/drive/MyDrive/learning cluster/brain_tumors/train/no_tumor/image(90).jpg',\n",
              " '/content/drive/MyDrive/learning cluster/brain_tumors/train/no_tumor/image(59).jpg',\n",
              " '/content/drive/MyDrive/learning cluster/brain_tumors/train/no_tumor/image(79).jpg',\n",
              " '/content/drive/MyDrive/learning cluster/brain_tumors/train/no_tumor/image(80).jpg',\n",
              " '/content/drive/MyDrive/learning cluster/brain_tumors/train/no_tumor/image(40).jpg',\n",
              " '/content/drive/MyDrive/learning cluster/brain_tumors/train/no_tumor/image(69).jpg',\n",
              " '/content/drive/MyDrive/learning cluster/brain_tumors/train/no_tumor/image(52).jpg',\n",
              " '/content/drive/MyDrive/learning cluster/brain_tumors/train/no_tumor/image(96).jpg',\n",
              " '/content/drive/MyDrive/learning cluster/brain_tumors/train/no_tumor/image(64).jpg',\n",
              " '/content/drive/MyDrive/learning cluster/brain_tumors/train/no_tumor/image(92).jpg',\n",
              " '/content/drive/MyDrive/learning cluster/brain_tumors/train/no_tumor/image(67).jpg',\n",
              " '/content/drive/MyDrive/learning cluster/brain_tumors/train/no_tumor/image(76).jpg',\n",
              " '/content/drive/MyDrive/learning cluster/brain_tumors/train/no_tumor/image(5).jpg',\n",
              " '/content/drive/MyDrive/learning cluster/brain_tumors/train/no_tumor/image(50).jpg',\n",
              " '/content/drive/MyDrive/learning cluster/brain_tumors/train/no_tumor/image(42).jpg',\n",
              " '/content/drive/MyDrive/learning cluster/brain_tumors/train/no_tumor/image(54).jpg',\n",
              " '/content/drive/MyDrive/learning cluster/brain_tumors/train/no_tumor/image(4).jpg',\n",
              " '/content/drive/MyDrive/learning cluster/brain_tumors/train/no_tumor/image(58).jpg',\n",
              " '/content/drive/MyDrive/learning cluster/brain_tumors/train/no_tumor/image(39).jpg',\n",
              " '/content/drive/MyDrive/learning cluster/brain_tumors/train/no_tumor/image(94).jpg',\n",
              " '/content/drive/MyDrive/learning cluster/brain_tumors/train/no_tumor/image(83).jpg',\n",
              " '/content/drive/MyDrive/learning cluster/brain_tumors/train/no_tumor/image(68).jpg',\n",
              " '/content/drive/MyDrive/learning cluster/brain_tumors/train/no_tumor/image(56).jpg',\n",
              " '/content/drive/MyDrive/learning cluster/brain_tumors/train/no_tumor/image(35).jpg',\n",
              " '/content/drive/MyDrive/learning cluster/brain_tumors/train/no_tumor/image(46).jpg',\n",
              " '/content/drive/MyDrive/learning cluster/brain_tumors/train/no_tumor/image(72).jpg',\n",
              " '/content/drive/MyDrive/learning cluster/brain_tumors/train/no_tumor/image(84).jpg',\n",
              " '/content/drive/MyDrive/learning cluster/brain_tumors/train/no_tumor/image(77).jpg',\n",
              " '/content/drive/MyDrive/learning cluster/brain_tumors/train/no_tumor/image(38).jpg',\n",
              " '/content/drive/MyDrive/learning cluster/brain_tumors/train/no_tumor/image(87).jpg',\n",
              " '/content/drive/MyDrive/learning cluster/brain_tumors/train/no_tumor/image(89).jpg',\n",
              " '/content/drive/MyDrive/learning cluster/brain_tumors/train/no_tumor/image(62).jpg',\n",
              " '/content/drive/MyDrive/learning cluster/brain_tumors/train/no_tumor/image(63).jpg',\n",
              " '/content/drive/MyDrive/learning cluster/brain_tumors/train/no_tumor/image(57).jpg',\n",
              " '/content/drive/MyDrive/learning cluster/brain_tumors/train/no_tumor/image(48).jpg',\n",
              " '/content/drive/MyDrive/learning cluster/brain_tumors/train/no_tumor/image(43).jpg',\n",
              " '/content/drive/MyDrive/learning cluster/brain_tumors/train/no_tumor/image(51).jpg',\n",
              " '/content/drive/MyDrive/learning cluster/brain_tumors/train/no_tumor/image.jpg',\n",
              " '/content/drive/MyDrive/learning cluster/brain_tumors/train/no_tumor/image(61).jpg',\n",
              " '/content/drive/MyDrive/learning cluster/brain_tumors/train/no_tumor/image(37).jpg',\n",
              " '/content/drive/MyDrive/learning cluster/brain_tumors/train/no_tumor/image(86).jpg']"
            ]
          },
          "metadata": {},
          "execution_count": 17
        }
      ]
    },
    {
      "cell_type": "code",
      "source": [
        "flist_train_pituitary"
      ],
      "metadata": {
        "colab": {
          "base_uri": "https://localhost:8080/"
        },
        "id": "yv2Yq2Jh_1B7",
        "outputId": "82a150fa-fa20-4e11-d8ce-1567db912adf"
      },
      "execution_count": 18,
      "outputs": [
        {
          "output_type": "execute_result",
          "data": {
            "text/plain": [
              "['/content/drive/MyDrive/learning cluster/brain_tumors/train/pituitary_tumor/p (1).jpg',\n",
              " '/content/drive/MyDrive/learning cluster/brain_tumors/train/pituitary_tumor/p (100).jpg',\n",
              " '/content/drive/MyDrive/learning cluster/brain_tumors/train/pituitary_tumor/p (104).jpg',\n",
              " '/content/drive/MyDrive/learning cluster/brain_tumors/train/pituitary_tumor/p (103).jpg',\n",
              " '/content/drive/MyDrive/learning cluster/brain_tumors/train/pituitary_tumor/p (10).jpg',\n",
              " '/content/drive/MyDrive/learning cluster/brain_tumors/train/pituitary_tumor/p (102).jpg',\n",
              " '/content/drive/MyDrive/learning cluster/brain_tumors/train/pituitary_tumor/p (101).jpg',\n",
              " '/content/drive/MyDrive/learning cluster/brain_tumors/train/pituitary_tumor/p (138).jpg',\n",
              " '/content/drive/MyDrive/learning cluster/brain_tumors/train/pituitary_tumor/p (169).jpg',\n",
              " '/content/drive/MyDrive/learning cluster/brain_tumors/train/pituitary_tumor/p (117).jpg',\n",
              " '/content/drive/MyDrive/learning cluster/brain_tumors/train/pituitary_tumor/p (161).jpg',\n",
              " '/content/drive/MyDrive/learning cluster/brain_tumors/train/pituitary_tumor/p (148).jpg',\n",
              " '/content/drive/MyDrive/learning cluster/brain_tumors/train/pituitary_tumor/p (142).jpg',\n",
              " '/content/drive/MyDrive/learning cluster/brain_tumors/train/pituitary_tumor/p (135).jpg',\n",
              " '/content/drive/MyDrive/learning cluster/brain_tumors/train/pituitary_tumor/p (126).jpg',\n",
              " '/content/drive/MyDrive/learning cluster/brain_tumors/train/pituitary_tumor/p (171).jpg',\n",
              " '/content/drive/MyDrive/learning cluster/brain_tumors/train/pituitary_tumor/p (116).jpg',\n",
              " '/content/drive/MyDrive/learning cluster/brain_tumors/train/pituitary_tumor/p (132).jpg',\n",
              " '/content/drive/MyDrive/learning cluster/brain_tumors/train/pituitary_tumor/p (131).jpg',\n",
              " '/content/drive/MyDrive/learning cluster/brain_tumors/train/pituitary_tumor/p (11).jpg',\n",
              " '/content/drive/MyDrive/learning cluster/brain_tumors/train/pituitary_tumor/p (163).jpg',\n",
              " '/content/drive/MyDrive/learning cluster/brain_tumors/train/pituitary_tumor/p (153).jpg',\n",
              " '/content/drive/MyDrive/learning cluster/brain_tumors/train/pituitary_tumor/p (154).jpg',\n",
              " '/content/drive/MyDrive/learning cluster/brain_tumors/train/pituitary_tumor/p (143).jpg',\n",
              " '/content/drive/MyDrive/learning cluster/brain_tumors/train/pituitary_tumor/p (115).jpg',\n",
              " '/content/drive/MyDrive/learning cluster/brain_tumors/train/pituitary_tumor/p (107).jpg',\n",
              " '/content/drive/MyDrive/learning cluster/brain_tumors/train/pituitary_tumor/p (125).jpg',\n",
              " '/content/drive/MyDrive/learning cluster/brain_tumors/train/pituitary_tumor/p (133).jpg',\n",
              " '/content/drive/MyDrive/learning cluster/brain_tumors/train/pituitary_tumor/p (162).jpg',\n",
              " '/content/drive/MyDrive/learning cluster/brain_tumors/train/pituitary_tumor/p (157).jpg',\n",
              " '/content/drive/MyDrive/learning cluster/brain_tumors/train/pituitary_tumor/p (145).jpg',\n",
              " '/content/drive/MyDrive/learning cluster/brain_tumors/train/pituitary_tumor/p (128).jpg',\n",
              " '/content/drive/MyDrive/learning cluster/brain_tumors/train/pituitary_tumor/p (12).jpg',\n",
              " '/content/drive/MyDrive/learning cluster/brain_tumors/train/pituitary_tumor/p (127).jpg',\n",
              " '/content/drive/MyDrive/learning cluster/brain_tumors/train/pituitary_tumor/p (165).jpg',\n",
              " '/content/drive/MyDrive/learning cluster/brain_tumors/train/pituitary_tumor/p (151).jpg',\n",
              " '/content/drive/MyDrive/learning cluster/brain_tumors/train/pituitary_tumor/p (130).jpg',\n",
              " '/content/drive/MyDrive/learning cluster/brain_tumors/train/pituitary_tumor/p (13).jpg',\n",
              " '/content/drive/MyDrive/learning cluster/brain_tumors/train/pituitary_tumor/p (146).jpg',\n",
              " '/content/drive/MyDrive/learning cluster/brain_tumors/train/pituitary_tumor/p (111).jpg',\n",
              " '/content/drive/MyDrive/learning cluster/brain_tumors/train/pituitary_tumor/p (105).jpg',\n",
              " '/content/drive/MyDrive/learning cluster/brain_tumors/train/pituitary_tumor/p (124).jpg',\n",
              " '/content/drive/MyDrive/learning cluster/brain_tumors/train/pituitary_tumor/p (149).jpg',\n",
              " '/content/drive/MyDrive/learning cluster/brain_tumors/train/pituitary_tumor/p (16).jpg',\n",
              " '/content/drive/MyDrive/learning cluster/brain_tumors/train/pituitary_tumor/p (17).jpg',\n",
              " '/content/drive/MyDrive/learning cluster/brain_tumors/train/pituitary_tumor/p (156).jpg',\n",
              " '/content/drive/MyDrive/learning cluster/brain_tumors/train/pituitary_tumor/p (141).jpg',\n",
              " '/content/drive/MyDrive/learning cluster/brain_tumors/train/pituitary_tumor/p (174).jpg',\n",
              " '/content/drive/MyDrive/learning cluster/brain_tumors/train/pituitary_tumor/p (119).jpg',\n",
              " '/content/drive/MyDrive/learning cluster/brain_tumors/train/pituitary_tumor/p (152).jpg',\n",
              " '/content/drive/MyDrive/learning cluster/brain_tumors/train/pituitary_tumor/p (168).jpg',\n",
              " '/content/drive/MyDrive/learning cluster/brain_tumors/train/pituitary_tumor/p (106).jpg',\n",
              " '/content/drive/MyDrive/learning cluster/brain_tumors/train/pituitary_tumor/p (14).jpg',\n",
              " '/content/drive/MyDrive/learning cluster/brain_tumors/train/pituitary_tumor/p (173).jpg',\n",
              " '/content/drive/MyDrive/learning cluster/brain_tumors/train/pituitary_tumor/p (150).jpg',\n",
              " '/content/drive/MyDrive/learning cluster/brain_tumors/train/pituitary_tumor/p (155).jpg',\n",
              " '/content/drive/MyDrive/learning cluster/brain_tumors/train/pituitary_tumor/p (114).jpg',\n",
              " '/content/drive/MyDrive/learning cluster/brain_tumors/train/pituitary_tumor/p (139).jpg',\n",
              " '/content/drive/MyDrive/learning cluster/brain_tumors/train/pituitary_tumor/p (15).jpg',\n",
              " '/content/drive/MyDrive/learning cluster/brain_tumors/train/pituitary_tumor/p (144).jpg',\n",
              " '/content/drive/MyDrive/learning cluster/brain_tumors/train/pituitary_tumor/p (123).jpg',\n",
              " '/content/drive/MyDrive/learning cluster/brain_tumors/train/pituitary_tumor/p (170).jpg',\n",
              " '/content/drive/MyDrive/learning cluster/brain_tumors/train/pituitary_tumor/p (113).jpg',\n",
              " '/content/drive/MyDrive/learning cluster/brain_tumors/train/pituitary_tumor/p (137).jpg',\n",
              " '/content/drive/MyDrive/learning cluster/brain_tumors/train/pituitary_tumor/p (108).jpg',\n",
              " '/content/drive/MyDrive/learning cluster/brain_tumors/train/pituitary_tumor/p (110).jpg',\n",
              " '/content/drive/MyDrive/learning cluster/brain_tumors/train/pituitary_tumor/p (147).jpg',\n",
              " '/content/drive/MyDrive/learning cluster/brain_tumors/train/pituitary_tumor/p (112).jpg',\n",
              " '/content/drive/MyDrive/learning cluster/brain_tumors/train/pituitary_tumor/p (159).jpg',\n",
              " '/content/drive/MyDrive/learning cluster/brain_tumors/train/pituitary_tumor/p (172).jpg',\n",
              " '/content/drive/MyDrive/learning cluster/brain_tumors/train/pituitary_tumor/p (136).jpg',\n",
              " '/content/drive/MyDrive/learning cluster/brain_tumors/train/pituitary_tumor/p (121).jpg',\n",
              " '/content/drive/MyDrive/learning cluster/brain_tumors/train/pituitary_tumor/p (118).jpg',\n",
              " '/content/drive/MyDrive/learning cluster/brain_tumors/train/pituitary_tumor/p (109).jpg',\n",
              " '/content/drive/MyDrive/learning cluster/brain_tumors/train/pituitary_tumor/p (167).jpg',\n",
              " '/content/drive/MyDrive/learning cluster/brain_tumors/train/pituitary_tumor/p (134).jpg',\n",
              " '/content/drive/MyDrive/learning cluster/brain_tumors/train/pituitary_tumor/p (140).jpg',\n",
              " '/content/drive/MyDrive/learning cluster/brain_tumors/train/pituitary_tumor/p (166).jpg',\n",
              " '/content/drive/MyDrive/learning cluster/brain_tumors/train/pituitary_tumor/p (122).jpg',\n",
              " '/content/drive/MyDrive/learning cluster/brain_tumors/train/pituitary_tumor/p (129).jpg',\n",
              " '/content/drive/MyDrive/learning cluster/brain_tumors/train/pituitary_tumor/p (160).jpg',\n",
              " '/content/drive/MyDrive/learning cluster/brain_tumors/train/pituitary_tumor/p (120).jpg',\n",
              " '/content/drive/MyDrive/learning cluster/brain_tumors/train/pituitary_tumor/p (164).jpg',\n",
              " '/content/drive/MyDrive/learning cluster/brain_tumors/train/pituitary_tumor/p (158).jpg',\n",
              " '/content/drive/MyDrive/learning cluster/brain_tumors/train/pituitary_tumor/p (184).jpg',\n",
              " '/content/drive/MyDrive/learning cluster/brain_tumors/train/pituitary_tumor/p (230).jpg',\n",
              " '/content/drive/MyDrive/learning cluster/brain_tumors/train/pituitary_tumor/p (190).jpg',\n",
              " '/content/drive/MyDrive/learning cluster/brain_tumors/train/pituitary_tumor/p (198).jpg',\n",
              " '/content/drive/MyDrive/learning cluster/brain_tumors/train/pituitary_tumor/p (18).jpg',\n",
              " '/content/drive/MyDrive/learning cluster/brain_tumors/train/pituitary_tumor/p (236).jpg',\n",
              " '/content/drive/MyDrive/learning cluster/brain_tumors/train/pituitary_tumor/p (237).jpg',\n",
              " '/content/drive/MyDrive/learning cluster/brain_tumors/train/pituitary_tumor/p (194).jpg',\n",
              " '/content/drive/MyDrive/learning cluster/brain_tumors/train/pituitary_tumor/p (239).jpg',\n",
              " '/content/drive/MyDrive/learning cluster/brain_tumors/train/pituitary_tumor/p (2).jpg',\n",
              " '/content/drive/MyDrive/learning cluster/brain_tumors/train/pituitary_tumor/p (224).jpg',\n",
              " '/content/drive/MyDrive/learning cluster/brain_tumors/train/pituitary_tumor/p (213).jpg',\n",
              " '/content/drive/MyDrive/learning cluster/brain_tumors/train/pituitary_tumor/p (183).jpg',\n",
              " '/content/drive/MyDrive/learning cluster/brain_tumors/train/pituitary_tumor/p (235).jpg',\n",
              " '/content/drive/MyDrive/learning cluster/brain_tumors/train/pituitary_tumor/p (24).jpg',\n",
              " '/content/drive/MyDrive/learning cluster/brain_tumors/train/pituitary_tumor/p (207).jpg',\n",
              " '/content/drive/MyDrive/learning cluster/brain_tumors/train/pituitary_tumor/p (20).jpg',\n",
              " '/content/drive/MyDrive/learning cluster/brain_tumors/train/pituitary_tumor/p (222).jpg',\n",
              " '/content/drive/MyDrive/learning cluster/brain_tumors/train/pituitary_tumor/p (175).jpg',\n",
              " '/content/drive/MyDrive/learning cluster/brain_tumors/train/pituitary_tumor/p (195).jpg',\n",
              " '/content/drive/MyDrive/learning cluster/brain_tumors/train/pituitary_tumor/p (188).jpg',\n",
              " '/content/drive/MyDrive/learning cluster/brain_tumors/train/pituitary_tumor/p (187).jpg',\n",
              " '/content/drive/MyDrive/learning cluster/brain_tumors/train/pituitary_tumor/p (191).jpg',\n",
              " '/content/drive/MyDrive/learning cluster/brain_tumors/train/pituitary_tumor/p (185).jpg',\n",
              " '/content/drive/MyDrive/learning cluster/brain_tumors/train/pituitary_tumor/p (180).jpg',\n",
              " '/content/drive/MyDrive/learning cluster/brain_tumors/train/pituitary_tumor/p (202).jpg',\n",
              " '/content/drive/MyDrive/learning cluster/brain_tumors/train/pituitary_tumor/p (228).jpg',\n",
              " '/content/drive/MyDrive/learning cluster/brain_tumors/train/pituitary_tumor/p (22).jpg',\n",
              " '/content/drive/MyDrive/learning cluster/brain_tumors/train/pituitary_tumor/p (193).jpg',\n",
              " '/content/drive/MyDrive/learning cluster/brain_tumors/train/pituitary_tumor/p (233).jpg',\n",
              " '/content/drive/MyDrive/learning cluster/brain_tumors/train/pituitary_tumor/p (186).jpg',\n",
              " '/content/drive/MyDrive/learning cluster/brain_tumors/train/pituitary_tumor/p (199).jpg',\n",
              " '/content/drive/MyDrive/learning cluster/brain_tumors/train/pituitary_tumor/p (218).jpg',\n",
              " '/content/drive/MyDrive/learning cluster/brain_tumors/train/pituitary_tumor/p (212).jpg',\n",
              " '/content/drive/MyDrive/learning cluster/brain_tumors/train/pituitary_tumor/p (227).jpg',\n",
              " '/content/drive/MyDrive/learning cluster/brain_tumors/train/pituitary_tumor/p (204).jpg',\n",
              " '/content/drive/MyDrive/learning cluster/brain_tumors/train/pituitary_tumor/p (219).jpg',\n",
              " '/content/drive/MyDrive/learning cluster/brain_tumors/train/pituitary_tumor/p (179).jpg',\n",
              " '/content/drive/MyDrive/learning cluster/brain_tumors/train/pituitary_tumor/p (225).jpg',\n",
              " '/content/drive/MyDrive/learning cluster/brain_tumors/train/pituitary_tumor/p (241).jpg',\n",
              " '/content/drive/MyDrive/learning cluster/brain_tumors/train/pituitary_tumor/p (214).jpg',\n",
              " '/content/drive/MyDrive/learning cluster/brain_tumors/train/pituitary_tumor/p (238).jpg',\n",
              " '/content/drive/MyDrive/learning cluster/brain_tumors/train/pituitary_tumor/p (176).jpg',\n",
              " '/content/drive/MyDrive/learning cluster/brain_tumors/train/pituitary_tumor/p (232).jpg',\n",
              " '/content/drive/MyDrive/learning cluster/brain_tumors/train/pituitary_tumor/p (208).jpg',\n",
              " '/content/drive/MyDrive/learning cluster/brain_tumors/train/pituitary_tumor/p (216).jpg',\n",
              " '/content/drive/MyDrive/learning cluster/brain_tumors/train/pituitary_tumor/p (243).jpg',\n",
              " '/content/drive/MyDrive/learning cluster/brain_tumors/train/pituitary_tumor/p (229).jpg',\n",
              " '/content/drive/MyDrive/learning cluster/brain_tumors/train/pituitary_tumor/p (205).jpg',\n",
              " '/content/drive/MyDrive/learning cluster/brain_tumors/train/pituitary_tumor/p (196).jpg',\n",
              " '/content/drive/MyDrive/learning cluster/brain_tumors/train/pituitary_tumor/p (201).jpg',\n",
              " '/content/drive/MyDrive/learning cluster/brain_tumors/train/pituitary_tumor/p (181).jpg',\n",
              " '/content/drive/MyDrive/learning cluster/brain_tumors/train/pituitary_tumor/p (206).jpg',\n",
              " '/content/drive/MyDrive/learning cluster/brain_tumors/train/pituitary_tumor/p (221).jpg',\n",
              " '/content/drive/MyDrive/learning cluster/brain_tumors/train/pituitary_tumor/p (231).jpg',\n",
              " '/content/drive/MyDrive/learning cluster/brain_tumors/train/pituitary_tumor/p (21).jpg',\n",
              " '/content/drive/MyDrive/learning cluster/brain_tumors/train/pituitary_tumor/p (203).jpg',\n",
              " '/content/drive/MyDrive/learning cluster/brain_tumors/train/pituitary_tumor/p (189).jpg',\n",
              " '/content/drive/MyDrive/learning cluster/brain_tumors/train/pituitary_tumor/p (240).jpg',\n",
              " '/content/drive/MyDrive/learning cluster/brain_tumors/train/pituitary_tumor/p (200).jpg',\n",
              " '/content/drive/MyDrive/learning cluster/brain_tumors/train/pituitary_tumor/p (220).jpg',\n",
              " '/content/drive/MyDrive/learning cluster/brain_tumors/train/pituitary_tumor/p (210).jpg',\n",
              " '/content/drive/MyDrive/learning cluster/brain_tumors/train/pituitary_tumor/p (19).jpg',\n",
              " '/content/drive/MyDrive/learning cluster/brain_tumors/train/pituitary_tumor/p (182).jpg',\n",
              " '/content/drive/MyDrive/learning cluster/brain_tumors/train/pituitary_tumor/p (178).jpg',\n",
              " '/content/drive/MyDrive/learning cluster/brain_tumors/train/pituitary_tumor/p (223).jpg',\n",
              " '/content/drive/MyDrive/learning cluster/brain_tumors/train/pituitary_tumor/p (197).jpg',\n",
              " '/content/drive/MyDrive/learning cluster/brain_tumors/train/pituitary_tumor/p (211).jpg',\n",
              " '/content/drive/MyDrive/learning cluster/brain_tumors/train/pituitary_tumor/p (234).jpg',\n",
              " '/content/drive/MyDrive/learning cluster/brain_tumors/train/pituitary_tumor/p (177).jpg',\n",
              " '/content/drive/MyDrive/learning cluster/brain_tumors/train/pituitary_tumor/p (23).jpg',\n",
              " '/content/drive/MyDrive/learning cluster/brain_tumors/train/pituitary_tumor/p (215).jpg',\n",
              " '/content/drive/MyDrive/learning cluster/brain_tumors/train/pituitary_tumor/p (209).jpg',\n",
              " '/content/drive/MyDrive/learning cluster/brain_tumors/train/pituitary_tumor/p (226).jpg',\n",
              " '/content/drive/MyDrive/learning cluster/brain_tumors/train/pituitary_tumor/p (242).jpg',\n",
              " '/content/drive/MyDrive/learning cluster/brain_tumors/train/pituitary_tumor/p (192).jpg',\n",
              " '/content/drive/MyDrive/learning cluster/brain_tumors/train/pituitary_tumor/p (217).jpg',\n",
              " '/content/drive/MyDrive/learning cluster/brain_tumors/train/pituitary_tumor/p (262).jpg',\n",
              " '/content/drive/MyDrive/learning cluster/brain_tumors/train/pituitary_tumor/p (272).jpg',\n",
              " '/content/drive/MyDrive/learning cluster/brain_tumors/train/pituitary_tumor/p (293).jpg',\n",
              " '/content/drive/MyDrive/learning cluster/brain_tumors/train/pituitary_tumor/p (256).jpg',\n",
              " '/content/drive/MyDrive/learning cluster/brain_tumors/train/pituitary_tumor/p (306).jpg',\n",
              " '/content/drive/MyDrive/learning cluster/brain_tumors/train/pituitary_tumor/p (291).jpg',\n",
              " '/content/drive/MyDrive/learning cluster/brain_tumors/train/pituitary_tumor/p (305).jpg',\n",
              " '/content/drive/MyDrive/learning cluster/brain_tumors/train/pituitary_tumor/p (25).jpg',\n",
              " '/content/drive/MyDrive/learning cluster/brain_tumors/train/pituitary_tumor/p (298).jpg',\n",
              " '/content/drive/MyDrive/learning cluster/brain_tumors/train/pituitary_tumor/p (274).jpg',\n",
              " '/content/drive/MyDrive/learning cluster/brain_tumors/train/pituitary_tumor/p (276).jpg',\n",
              " '/content/drive/MyDrive/learning cluster/brain_tumors/train/pituitary_tumor/p (245).jpg',\n",
              " '/content/drive/MyDrive/learning cluster/brain_tumors/train/pituitary_tumor/p (282).jpg',\n",
              " '/content/drive/MyDrive/learning cluster/brain_tumors/train/pituitary_tumor/p (28).jpg',\n",
              " '/content/drive/MyDrive/learning cluster/brain_tumors/train/pituitary_tumor/p (29).jpg',\n",
              " '/content/drive/MyDrive/learning cluster/brain_tumors/train/pituitary_tumor/p (273).jpg',\n",
              " '/content/drive/MyDrive/learning cluster/brain_tumors/train/pituitary_tumor/p (270).jpg',\n",
              " '/content/drive/MyDrive/learning cluster/brain_tumors/train/pituitary_tumor/p (27).jpg',\n",
              " '/content/drive/MyDrive/learning cluster/brain_tumors/train/pituitary_tumor/p (279).jpg',\n",
              " '/content/drive/MyDrive/learning cluster/brain_tumors/train/pituitary_tumor/p (264).jpg',\n",
              " '/content/drive/MyDrive/learning cluster/brain_tumors/train/pituitary_tumor/p (292).jpg',\n",
              " '/content/drive/MyDrive/learning cluster/brain_tumors/train/pituitary_tumor/p (247).jpg',\n",
              " '/content/drive/MyDrive/learning cluster/brain_tumors/train/pituitary_tumor/p (295).jpg',\n",
              " '/content/drive/MyDrive/learning cluster/brain_tumors/train/pituitary_tumor/p (300).jpg',\n",
              " '/content/drive/MyDrive/learning cluster/brain_tumors/train/pituitary_tumor/p (246).jpg',\n",
              " '/content/drive/MyDrive/learning cluster/brain_tumors/train/pituitary_tumor/p (248).jpg',\n",
              " '/content/drive/MyDrive/learning cluster/brain_tumors/train/pituitary_tumor/p (283).jpg',\n",
              " '/content/drive/MyDrive/learning cluster/brain_tumors/train/pituitary_tumor/p (30).jpg',\n",
              " '/content/drive/MyDrive/learning cluster/brain_tumors/train/pituitary_tumor/p (299).jpg',\n",
              " '/content/drive/MyDrive/learning cluster/brain_tumors/train/pituitary_tumor/p (288).jpg',\n",
              " '/content/drive/MyDrive/learning cluster/brain_tumors/train/pituitary_tumor/p (271).jpg',\n",
              " '/content/drive/MyDrive/learning cluster/brain_tumors/train/pituitary_tumor/p (303).jpg',\n",
              " '/content/drive/MyDrive/learning cluster/brain_tumors/train/pituitary_tumor/p (302).jpg',\n",
              " '/content/drive/MyDrive/learning cluster/brain_tumors/train/pituitary_tumor/p (280).jpg',\n",
              " '/content/drive/MyDrive/learning cluster/brain_tumors/train/pituitary_tumor/p (304).jpg',\n",
              " '/content/drive/MyDrive/learning cluster/brain_tumors/train/pituitary_tumor/p (281).jpg',\n",
              " '/content/drive/MyDrive/learning cluster/brain_tumors/train/pituitary_tumor/p (244).jpg',\n",
              " '/content/drive/MyDrive/learning cluster/brain_tumors/train/pituitary_tumor/p (294).jpg',\n",
              " '/content/drive/MyDrive/learning cluster/brain_tumors/train/pituitary_tumor/p (287).jpg',\n",
              " '/content/drive/MyDrive/learning cluster/brain_tumors/train/pituitary_tumor/p (278).jpg',\n",
              " '/content/drive/MyDrive/learning cluster/brain_tumors/train/pituitary_tumor/p (277).jpg',\n",
              " '/content/drive/MyDrive/learning cluster/brain_tumors/train/pituitary_tumor/p (266).jpg',\n",
              " '/content/drive/MyDrive/learning cluster/brain_tumors/train/pituitary_tumor/p (254).jpg',\n",
              " '/content/drive/MyDrive/learning cluster/brain_tumors/train/pituitary_tumor/p (260).jpg',\n",
              " '/content/drive/MyDrive/learning cluster/brain_tumors/train/pituitary_tumor/p (290).jpg',\n",
              " '/content/drive/MyDrive/learning cluster/brain_tumors/train/pituitary_tumor/p (284).jpg',\n",
              " '/content/drive/MyDrive/learning cluster/brain_tumors/train/pituitary_tumor/p (26).jpg',\n",
              " '/content/drive/MyDrive/learning cluster/brain_tumors/train/pituitary_tumor/p (285).jpg',\n",
              " '/content/drive/MyDrive/learning cluster/brain_tumors/train/pituitary_tumor/p (257).jpg',\n",
              " '/content/drive/MyDrive/learning cluster/brain_tumors/train/pituitary_tumor/p (251).jpg',\n",
              " '/content/drive/MyDrive/learning cluster/brain_tumors/train/pituitary_tumor/p (297).jpg',\n",
              " '/content/drive/MyDrive/learning cluster/brain_tumors/train/pituitary_tumor/p (265).jpg',\n",
              " '/content/drive/MyDrive/learning cluster/brain_tumors/train/pituitary_tumor/p (252).jpg',\n",
              " '/content/drive/MyDrive/learning cluster/brain_tumors/train/pituitary_tumor/p (296).jpg',\n",
              " '/content/drive/MyDrive/learning cluster/brain_tumors/train/pituitary_tumor/p (3).jpg',\n",
              " '/content/drive/MyDrive/learning cluster/brain_tumors/train/pituitary_tumor/p (286).jpg',\n",
              " '/content/drive/MyDrive/learning cluster/brain_tumors/train/pituitary_tumor/p (255).jpg',\n",
              " '/content/drive/MyDrive/learning cluster/brain_tumors/train/pituitary_tumor/p (250).jpg',\n",
              " '/content/drive/MyDrive/learning cluster/brain_tumors/train/pituitary_tumor/p (275).jpg',\n",
              " '/content/drive/MyDrive/learning cluster/brain_tumors/train/pituitary_tumor/p (289).jpg',\n",
              " '/content/drive/MyDrive/learning cluster/brain_tumors/train/pituitary_tumor/p (249).jpg',\n",
              " '/content/drive/MyDrive/learning cluster/brain_tumors/train/pituitary_tumor/p (253).jpg',\n",
              " '/content/drive/MyDrive/learning cluster/brain_tumors/train/pituitary_tumor/p (261).jpg',\n",
              " '/content/drive/MyDrive/learning cluster/brain_tumors/train/pituitary_tumor/p (268).jpg',\n",
              " '/content/drive/MyDrive/learning cluster/brain_tumors/train/pituitary_tumor/p (269).jpg',\n",
              " '/content/drive/MyDrive/learning cluster/brain_tumors/train/pituitary_tumor/p (267).jpg',\n",
              " '/content/drive/MyDrive/learning cluster/brain_tumors/train/pituitary_tumor/p (263).jpg',\n",
              " '/content/drive/MyDrive/learning cluster/brain_tumors/train/pituitary_tumor/p (258).jpg',\n",
              " '/content/drive/MyDrive/learning cluster/brain_tumors/train/pituitary_tumor/p (259).jpg',\n",
              " '/content/drive/MyDrive/learning cluster/brain_tumors/train/pituitary_tumor/p (301).jpg',\n",
              " '/content/drive/MyDrive/learning cluster/brain_tumors/train/pituitary_tumor/p (348).jpg',\n",
              " '/content/drive/MyDrive/learning cluster/brain_tumors/train/pituitary_tumor/p (370).jpg',\n",
              " '/content/drive/MyDrive/learning cluster/brain_tumors/train/pituitary_tumor/p (369).jpg',\n",
              " '/content/drive/MyDrive/learning cluster/brain_tumors/train/pituitary_tumor/p (333).jpg',\n",
              " '/content/drive/MyDrive/learning cluster/brain_tumors/train/pituitary_tumor/p (342).jpg',\n",
              " '/content/drive/MyDrive/learning cluster/brain_tumors/train/pituitary_tumor/p (357).jpg',\n",
              " '/content/drive/MyDrive/learning cluster/brain_tumors/train/pituitary_tumor/p (345).jpg',\n",
              " '/content/drive/MyDrive/learning cluster/brain_tumors/train/pituitary_tumor/p (360).jpg',\n",
              " '/content/drive/MyDrive/learning cluster/brain_tumors/train/pituitary_tumor/p (341).jpg',\n",
              " '/content/drive/MyDrive/learning cluster/brain_tumors/train/pituitary_tumor/p (335).jpg',\n",
              " '/content/drive/MyDrive/learning cluster/brain_tumors/train/pituitary_tumor/p (327).jpg',\n",
              " '/content/drive/MyDrive/learning cluster/brain_tumors/train/pituitary_tumor/p (328).jpg',\n",
              " '/content/drive/MyDrive/learning cluster/brain_tumors/train/pituitary_tumor/p (36).jpg',\n",
              " '/content/drive/MyDrive/learning cluster/brain_tumors/train/pituitary_tumor/p (313).jpg',\n",
              " '/content/drive/MyDrive/learning cluster/brain_tumors/train/pituitary_tumor/p (319).jpg',\n",
              " '/content/drive/MyDrive/learning cluster/brain_tumors/train/pituitary_tumor/p (331).jpg',\n",
              " '/content/drive/MyDrive/learning cluster/brain_tumors/train/pituitary_tumor/p (352).jpg',\n",
              " '/content/drive/MyDrive/learning cluster/brain_tumors/train/pituitary_tumor/p (322).jpg',\n",
              " '/content/drive/MyDrive/learning cluster/brain_tumors/train/pituitary_tumor/p (353).jpg',\n",
              " '/content/drive/MyDrive/learning cluster/brain_tumors/train/pituitary_tumor/p (312).jpg',\n",
              " '/content/drive/MyDrive/learning cluster/brain_tumors/train/pituitary_tumor/p (365).jpg',\n",
              " '/content/drive/MyDrive/learning cluster/brain_tumors/train/pituitary_tumor/p (308).jpg',\n",
              " '/content/drive/MyDrive/learning cluster/brain_tumors/train/pituitary_tumor/p (33).jpg',\n",
              " '/content/drive/MyDrive/learning cluster/brain_tumors/train/pituitary_tumor/p (325).jpg',\n",
              " '/content/drive/MyDrive/learning cluster/brain_tumors/train/pituitary_tumor/p (344).jpg',\n",
              " '/content/drive/MyDrive/learning cluster/brain_tumors/train/pituitary_tumor/p (337).jpg',\n",
              " '/content/drive/MyDrive/learning cluster/brain_tumors/train/pituitary_tumor/p (311).jpg',\n",
              " '/content/drive/MyDrive/learning cluster/brain_tumors/train/pituitary_tumor/p (323).jpg',\n",
              " '/content/drive/MyDrive/learning cluster/brain_tumors/train/pituitary_tumor/p (31).jpg',\n",
              " '/content/drive/MyDrive/learning cluster/brain_tumors/train/pituitary_tumor/p (317).jpg',\n",
              " '/content/drive/MyDrive/learning cluster/brain_tumors/train/pituitary_tumor/p (330).jpg',\n",
              " '/content/drive/MyDrive/learning cluster/brain_tumors/train/pituitary_tumor/p (347).jpg',\n",
              " '/content/drive/MyDrive/learning cluster/brain_tumors/train/pituitary_tumor/p (310).jpg',\n",
              " '/content/drive/MyDrive/learning cluster/brain_tumors/train/pituitary_tumor/p (350).jpg',\n",
              " '/content/drive/MyDrive/learning cluster/brain_tumors/train/pituitary_tumor/p (371).jpg',\n",
              " '/content/drive/MyDrive/learning cluster/brain_tumors/train/pituitary_tumor/p (37).jpg',\n",
              " '/content/drive/MyDrive/learning cluster/brain_tumors/train/pituitary_tumor/p (318).jpg',\n",
              " '/content/drive/MyDrive/learning cluster/brain_tumors/train/pituitary_tumor/p (349).jpg',\n",
              " '/content/drive/MyDrive/learning cluster/brain_tumors/train/pituitary_tumor/p (363).jpg',\n",
              " '/content/drive/MyDrive/learning cluster/brain_tumors/train/pituitary_tumor/p (338).jpg',\n",
              " '/content/drive/MyDrive/learning cluster/brain_tumors/train/pituitary_tumor/p (364).jpg',\n",
              " '/content/drive/MyDrive/learning cluster/brain_tumors/train/pituitary_tumor/p (339).jpg',\n",
              " '/content/drive/MyDrive/learning cluster/brain_tumors/train/pituitary_tumor/p (326).jpg',\n",
              " '/content/drive/MyDrive/learning cluster/brain_tumors/train/pituitary_tumor/p (307).jpg',\n",
              " '/content/drive/MyDrive/learning cluster/brain_tumors/train/pituitary_tumor/p (316).jpg',\n",
              " '/content/drive/MyDrive/learning cluster/brain_tumors/train/pituitary_tumor/p (366).jpg',\n",
              " '/content/drive/MyDrive/learning cluster/brain_tumors/train/pituitary_tumor/p (321).jpg',\n",
              " '/content/drive/MyDrive/learning cluster/brain_tumors/train/pituitary_tumor/p (332).jpg',\n",
              " '/content/drive/MyDrive/learning cluster/brain_tumors/train/pituitary_tumor/p (361).jpg',\n",
              " '/content/drive/MyDrive/learning cluster/brain_tumors/train/pituitary_tumor/p (351).jpg',\n",
              " '/content/drive/MyDrive/learning cluster/brain_tumors/train/pituitary_tumor/p (329).jpg',\n",
              " '/content/drive/MyDrive/learning cluster/brain_tumors/train/pituitary_tumor/p (355).jpg',\n",
              " '/content/drive/MyDrive/learning cluster/brain_tumors/train/pituitary_tumor/p (320).jpg',\n",
              " '/content/drive/MyDrive/learning cluster/brain_tumors/train/pituitary_tumor/p (368).jpg',\n",
              " '/content/drive/MyDrive/learning cluster/brain_tumors/train/pituitary_tumor/p (35).jpg',\n",
              " '/content/drive/MyDrive/learning cluster/brain_tumors/train/pituitary_tumor/p (356).jpg',\n",
              " '/content/drive/MyDrive/learning cluster/brain_tumors/train/pituitary_tumor/p (359).jpg',\n",
              " '/content/drive/MyDrive/learning cluster/brain_tumors/train/pituitary_tumor/p (334).jpg',\n",
              " '/content/drive/MyDrive/learning cluster/brain_tumors/train/pituitary_tumor/p (343).jpg',\n",
              " '/content/drive/MyDrive/learning cluster/brain_tumors/train/pituitary_tumor/p (340).jpg',\n",
              " '/content/drive/MyDrive/learning cluster/brain_tumors/train/pituitary_tumor/p (358).jpg',\n",
              " '/content/drive/MyDrive/learning cluster/brain_tumors/train/pituitary_tumor/p (315).jpg',\n",
              " '/content/drive/MyDrive/learning cluster/brain_tumors/train/pituitary_tumor/p (346).jpg',\n",
              " '/content/drive/MyDrive/learning cluster/brain_tumors/train/pituitary_tumor/p (309).jpg',\n",
              " '/content/drive/MyDrive/learning cluster/brain_tumors/train/pituitary_tumor/p (336).jpg',\n",
              " '/content/drive/MyDrive/learning cluster/brain_tumors/train/pituitary_tumor/p (32).jpg',\n",
              " '/content/drive/MyDrive/learning cluster/brain_tumors/train/pituitary_tumor/p (34).jpg',\n",
              " '/content/drive/MyDrive/learning cluster/brain_tumors/train/pituitary_tumor/p (354).jpg',\n",
              " '/content/drive/MyDrive/learning cluster/brain_tumors/train/pituitary_tumor/p (314).jpg',\n",
              " '/content/drive/MyDrive/learning cluster/brain_tumors/train/pituitary_tumor/p (324).jpg',\n",
              " '/content/drive/MyDrive/learning cluster/brain_tumors/train/pituitary_tumor/p (362).jpg',\n",
              " '/content/drive/MyDrive/learning cluster/brain_tumors/train/pituitary_tumor/p (367).jpg',\n",
              " '/content/drive/MyDrive/learning cluster/brain_tumors/train/pituitary_tumor/p (407).jpg',\n",
              " '/content/drive/MyDrive/learning cluster/brain_tumors/train/pituitary_tumor/p (426).jpg',\n",
              " '/content/drive/MyDrive/learning cluster/brain_tumors/train/pituitary_tumor/p (397).jpg',\n",
              " '/content/drive/MyDrive/learning cluster/brain_tumors/train/pituitary_tumor/p (42).jpg',\n",
              " '/content/drive/MyDrive/learning cluster/brain_tumors/train/pituitary_tumor/p (384).jpg',\n",
              " '/content/drive/MyDrive/learning cluster/brain_tumors/train/pituitary_tumor/p (4).jpg',\n",
              " '/content/drive/MyDrive/learning cluster/brain_tumors/train/pituitary_tumor/p (406).jpg',\n",
              " '/content/drive/MyDrive/learning cluster/brain_tumors/train/pituitary_tumor/p (375).jpg',\n",
              " '/content/drive/MyDrive/learning cluster/brain_tumors/train/pituitary_tumor/p (416).jpg',\n",
              " '/content/drive/MyDrive/learning cluster/brain_tumors/train/pituitary_tumor/p (435).jpg',\n",
              " '/content/drive/MyDrive/learning cluster/brain_tumors/train/pituitary_tumor/p (374).jpg',\n",
              " '/content/drive/MyDrive/learning cluster/brain_tumors/train/pituitary_tumor/p (425).jpg',\n",
              " '/content/drive/MyDrive/learning cluster/brain_tumors/train/pituitary_tumor/p (432).jpg',\n",
              " '/content/drive/MyDrive/learning cluster/brain_tumors/train/pituitary_tumor/p (409).jpg',\n",
              " '/content/drive/MyDrive/learning cluster/brain_tumors/train/pituitary_tumor/p (392).jpg',\n",
              " '/content/drive/MyDrive/learning cluster/brain_tumors/train/pituitary_tumor/p (377).jpg',\n",
              " '/content/drive/MyDrive/learning cluster/brain_tumors/train/pituitary_tumor/p (393).jpg',\n",
              " '/content/drive/MyDrive/learning cluster/brain_tumors/train/pituitary_tumor/p (420).jpg',\n",
              " '/content/drive/MyDrive/learning cluster/brain_tumors/train/pituitary_tumor/p (390).jpg',\n",
              " '/content/drive/MyDrive/learning cluster/brain_tumors/train/pituitary_tumor/p (413).jpg',\n",
              " '/content/drive/MyDrive/learning cluster/brain_tumors/train/pituitary_tumor/p (404).jpg',\n",
              " '/content/drive/MyDrive/learning cluster/brain_tumors/train/pituitary_tumor/p (429).jpg',\n",
              " '/content/drive/MyDrive/learning cluster/brain_tumors/train/pituitary_tumor/p (386).jpg',\n",
              " '/content/drive/MyDrive/learning cluster/brain_tumors/train/pituitary_tumor/p (40).jpg',\n",
              " '/content/drive/MyDrive/learning cluster/brain_tumors/train/pituitary_tumor/p (433).jpg',\n",
              " '/content/drive/MyDrive/learning cluster/brain_tumors/train/pituitary_tumor/p (383).jpg',\n",
              " '/content/drive/MyDrive/learning cluster/brain_tumors/train/pituitary_tumor/p (419).jpg',\n",
              " '/content/drive/MyDrive/learning cluster/brain_tumors/train/pituitary_tumor/p (430).jpg',\n",
              " '/content/drive/MyDrive/learning cluster/brain_tumors/train/pituitary_tumor/p (380).jpg',\n",
              " '/content/drive/MyDrive/learning cluster/brain_tumors/train/pituitary_tumor/p (385).jpg',\n",
              " '/content/drive/MyDrive/learning cluster/brain_tumors/train/pituitary_tumor/p (388).jpg',\n",
              " '/content/drive/MyDrive/learning cluster/brain_tumors/train/pituitary_tumor/p (418).jpg',\n",
              " '/content/drive/MyDrive/learning cluster/brain_tumors/train/pituitary_tumor/p (389).jpg',\n",
              " '/content/drive/MyDrive/learning cluster/brain_tumors/train/pituitary_tumor/p (411).jpg',\n",
              " '/content/drive/MyDrive/learning cluster/brain_tumors/train/pituitary_tumor/p (379).jpg',\n",
              " '/content/drive/MyDrive/learning cluster/brain_tumors/train/pituitary_tumor/p (424).jpg',\n",
              " '/content/drive/MyDrive/learning cluster/brain_tumors/train/pituitary_tumor/p (410).jpg',\n",
              " '/content/drive/MyDrive/learning cluster/brain_tumors/train/pituitary_tumor/p (421).jpg',\n",
              " '/content/drive/MyDrive/learning cluster/brain_tumors/train/pituitary_tumor/p (436).jpg',\n",
              " '/content/drive/MyDrive/learning cluster/brain_tumors/train/pituitary_tumor/p (398).jpg',\n",
              " '/content/drive/MyDrive/learning cluster/brain_tumors/train/pituitary_tumor/p (428).jpg',\n",
              " '/content/drive/MyDrive/learning cluster/brain_tumors/train/pituitary_tumor/p (427).jpg',\n",
              " '/content/drive/MyDrive/learning cluster/brain_tumors/train/pituitary_tumor/p (417).jpg',\n",
              " '/content/drive/MyDrive/learning cluster/brain_tumors/train/pituitary_tumor/p (423).jpg',\n",
              " '/content/drive/MyDrive/learning cluster/brain_tumors/train/pituitary_tumor/p (408).jpg',\n",
              " '/content/drive/MyDrive/learning cluster/brain_tumors/train/pituitary_tumor/p (376).jpg',\n",
              " '/content/drive/MyDrive/learning cluster/brain_tumors/train/pituitary_tumor/p (41).jpg',\n",
              " '/content/drive/MyDrive/learning cluster/brain_tumors/train/pituitary_tumor/p (381).jpg',\n",
              " '/content/drive/MyDrive/learning cluster/brain_tumors/train/pituitary_tumor/p (431).jpg',\n",
              " '/content/drive/MyDrive/learning cluster/brain_tumors/train/pituitary_tumor/p (401).jpg',\n",
              " '/content/drive/MyDrive/learning cluster/brain_tumors/train/pituitary_tumor/p (400).jpg',\n",
              " '/content/drive/MyDrive/learning cluster/brain_tumors/train/pituitary_tumor/p (402).jpg',\n",
              " '/content/drive/MyDrive/learning cluster/brain_tumors/train/pituitary_tumor/p (372).jpg',\n",
              " '/content/drive/MyDrive/learning cluster/brain_tumors/train/pituitary_tumor/p (405).jpg',\n",
              " '/content/drive/MyDrive/learning cluster/brain_tumors/train/pituitary_tumor/p (373).jpg',\n",
              " '/content/drive/MyDrive/learning cluster/brain_tumors/train/pituitary_tumor/p (391).jpg',\n",
              " '/content/drive/MyDrive/learning cluster/brain_tumors/train/pituitary_tumor/p (39).jpg',\n",
              " '/content/drive/MyDrive/learning cluster/brain_tumors/train/pituitary_tumor/p (394).jpg',\n",
              " '/content/drive/MyDrive/learning cluster/brain_tumors/train/pituitary_tumor/p (378).jpg',\n",
              " '/content/drive/MyDrive/learning cluster/brain_tumors/train/pituitary_tumor/p (422).jpg',\n",
              " '/content/drive/MyDrive/learning cluster/brain_tumors/train/pituitary_tumor/p (434).jpg',\n",
              " '/content/drive/MyDrive/learning cluster/brain_tumors/train/pituitary_tumor/p (414).jpg',\n",
              " '/content/drive/MyDrive/learning cluster/brain_tumors/train/pituitary_tumor/p (38).jpg',\n",
              " '/content/drive/MyDrive/learning cluster/brain_tumors/train/pituitary_tumor/p (412).jpg',\n",
              " '/content/drive/MyDrive/learning cluster/brain_tumors/train/pituitary_tumor/p (415).jpg',\n",
              " '/content/drive/MyDrive/learning cluster/brain_tumors/train/pituitary_tumor/p (396).jpg',\n",
              " '/content/drive/MyDrive/learning cluster/brain_tumors/train/pituitary_tumor/p (395).jpg',\n",
              " '/content/drive/MyDrive/learning cluster/brain_tumors/train/pituitary_tumor/p (43).jpg',\n",
              " '/content/drive/MyDrive/learning cluster/brain_tumors/train/pituitary_tumor/p (387).jpg',\n",
              " '/content/drive/MyDrive/learning cluster/brain_tumors/train/pituitary_tumor/p (399).jpg',\n",
              " '/content/drive/MyDrive/learning cluster/brain_tumors/train/pituitary_tumor/p (382).jpg',\n",
              " '/content/drive/MyDrive/learning cluster/brain_tumors/train/pituitary_tumor/p (403).jpg',\n",
              " '/content/drive/MyDrive/learning cluster/brain_tumors/train/pituitary_tumor/p (438).jpg',\n",
              " '/content/drive/MyDrive/learning cluster/brain_tumors/train/pituitary_tumor/p (450).jpg',\n",
              " '/content/drive/MyDrive/learning cluster/brain_tumors/train/pituitary_tumor/p (456).jpg',\n",
              " '/content/drive/MyDrive/learning cluster/brain_tumors/train/pituitary_tumor/p (480).jpg',\n",
              " '/content/drive/MyDrive/learning cluster/brain_tumors/train/pituitary_tumor/p (489).jpg',\n",
              " '/content/drive/MyDrive/learning cluster/brain_tumors/train/pituitary_tumor/p (451).jpg',\n",
              " '/content/drive/MyDrive/learning cluster/brain_tumors/train/pituitary_tumor/p (473).jpg',\n",
              " '/content/drive/MyDrive/learning cluster/brain_tumors/train/pituitary_tumor/p (448).jpg',\n",
              " '/content/drive/MyDrive/learning cluster/brain_tumors/train/pituitary_tumor/p (472).jpg',\n",
              " '/content/drive/MyDrive/learning cluster/brain_tumors/train/pituitary_tumor/p (441).jpg',\n",
              " '/content/drive/MyDrive/learning cluster/brain_tumors/train/pituitary_tumor/p (457).jpg',\n",
              " '/content/drive/MyDrive/learning cluster/brain_tumors/train/pituitary_tumor/p (440).jpg',\n",
              " '/content/drive/MyDrive/learning cluster/brain_tumors/train/pituitary_tumor/p (453).jpg',\n",
              " '/content/drive/MyDrive/learning cluster/brain_tumors/train/pituitary_tumor/p (484).jpg',\n",
              " '/content/drive/MyDrive/learning cluster/brain_tumors/train/pituitary_tumor/p (445).jpg',\n",
              " '/content/drive/MyDrive/learning cluster/brain_tumors/train/pituitary_tumor/p (48).jpg',\n",
              " '/content/drive/MyDrive/learning cluster/brain_tumors/train/pituitary_tumor/p (492).jpg',\n",
              " '/content/drive/MyDrive/learning cluster/brain_tumors/train/pituitary_tumor/p (5).jpg',\n",
              " '/content/drive/MyDrive/learning cluster/brain_tumors/train/pituitary_tumor/p (495).jpg',\n",
              " '/content/drive/MyDrive/learning cluster/brain_tumors/train/pituitary_tumor/p (479).jpg',\n",
              " '/content/drive/MyDrive/learning cluster/brain_tumors/train/pituitary_tumor/p (459).jpg',\n",
              " '/content/drive/MyDrive/learning cluster/brain_tumors/train/pituitary_tumor/p (463).jpg',\n",
              " '/content/drive/MyDrive/learning cluster/brain_tumors/train/pituitary_tumor/p (44).jpg',\n",
              " '/content/drive/MyDrive/learning cluster/brain_tumors/train/pituitary_tumor/p (46).jpg',\n",
              " '/content/drive/MyDrive/learning cluster/brain_tumors/train/pituitary_tumor/p (488).jpg',\n",
              " '/content/drive/MyDrive/learning cluster/brain_tumors/train/pituitary_tumor/p (482).jpg',\n",
              " '/content/drive/MyDrive/learning cluster/brain_tumors/train/pituitary_tumor/p (452).jpg',\n",
              " '/content/drive/MyDrive/learning cluster/brain_tumors/train/pituitary_tumor/p (475).jpg',\n",
              " '/content/drive/MyDrive/learning cluster/brain_tumors/train/pituitary_tumor/p (467).jpg',\n",
              " '/content/drive/MyDrive/learning cluster/brain_tumors/train/pituitary_tumor/p (466).jpg',\n",
              " '/content/drive/MyDrive/learning cluster/brain_tumors/train/pituitary_tumor/p (474).jpg',\n",
              " '/content/drive/MyDrive/learning cluster/brain_tumors/train/pituitary_tumor/p (497).jpg',\n",
              " '/content/drive/MyDrive/learning cluster/brain_tumors/train/pituitary_tumor/p (486).jpg',\n",
              " '/content/drive/MyDrive/learning cluster/brain_tumors/train/pituitary_tumor/p (476).jpg',\n",
              " '/content/drive/MyDrive/learning cluster/brain_tumors/train/pituitary_tumor/p (483).jpg',\n",
              " '/content/drive/MyDrive/learning cluster/brain_tumors/train/pituitary_tumor/p (458).jpg',\n",
              " '/content/drive/MyDrive/learning cluster/brain_tumors/train/pituitary_tumor/p (45).jpg',\n",
              " '/content/drive/MyDrive/learning cluster/brain_tumors/train/pituitary_tumor/p (469).jpg',\n",
              " '/content/drive/MyDrive/learning cluster/brain_tumors/train/pituitary_tumor/p (477).jpg',\n",
              " '/content/drive/MyDrive/learning cluster/brain_tumors/train/pituitary_tumor/p (490).jpg',\n",
              " '/content/drive/MyDrive/learning cluster/brain_tumors/train/pituitary_tumor/p (498).jpg',\n",
              " '/content/drive/MyDrive/learning cluster/brain_tumors/train/pituitary_tumor/p (49).jpg',\n",
              " '/content/drive/MyDrive/learning cluster/brain_tumors/train/pituitary_tumor/p (447).jpg',\n",
              " '/content/drive/MyDrive/learning cluster/brain_tumors/train/pituitary_tumor/p (500).jpg',\n",
              " '/content/drive/MyDrive/learning cluster/brain_tumors/train/pituitary_tumor/p (439).jpg',\n",
              " '/content/drive/MyDrive/learning cluster/brain_tumors/train/pituitary_tumor/p (468).jpg',\n",
              " '/content/drive/MyDrive/learning cluster/brain_tumors/train/pituitary_tumor/p (461).jpg',\n",
              " '/content/drive/MyDrive/learning cluster/brain_tumors/train/pituitary_tumor/p (470).jpg',\n",
              " '/content/drive/MyDrive/learning cluster/brain_tumors/train/pituitary_tumor/p (502).jpg',\n",
              " '/content/drive/MyDrive/learning cluster/brain_tumors/train/pituitary_tumor/p (437).jpg',\n",
              " '/content/drive/MyDrive/learning cluster/brain_tumors/train/pituitary_tumor/p (471).jpg',\n",
              " '/content/drive/MyDrive/learning cluster/brain_tumors/train/pituitary_tumor/p (47).jpg',\n",
              " '/content/drive/MyDrive/learning cluster/brain_tumors/train/pituitary_tumor/p (485).jpg',\n",
              " '/content/drive/MyDrive/learning cluster/brain_tumors/train/pituitary_tumor/p (487).jpg',\n",
              " '/content/drive/MyDrive/learning cluster/brain_tumors/train/pituitary_tumor/p (464).jpg',\n",
              " '/content/drive/MyDrive/learning cluster/brain_tumors/train/pituitary_tumor/p (460).jpg',\n",
              " '/content/drive/MyDrive/learning cluster/brain_tumors/train/pituitary_tumor/p (496).jpg',\n",
              " '/content/drive/MyDrive/learning cluster/brain_tumors/train/pituitary_tumor/p (501).jpg',\n",
              " '/content/drive/MyDrive/learning cluster/brain_tumors/train/pituitary_tumor/p (449).jpg',\n",
              " '/content/drive/MyDrive/learning cluster/brain_tumors/train/pituitary_tumor/p (465).jpg',\n",
              " '/content/drive/MyDrive/learning cluster/brain_tumors/train/pituitary_tumor/p (443).jpg',\n",
              " '/content/drive/MyDrive/learning cluster/brain_tumors/train/pituitary_tumor/p (442).jpg',\n",
              " '/content/drive/MyDrive/learning cluster/brain_tumors/train/pituitary_tumor/p (455).jpg',\n",
              " '/content/drive/MyDrive/learning cluster/brain_tumors/train/pituitary_tumor/p (444).jpg',\n",
              " '/content/drive/MyDrive/learning cluster/brain_tumors/train/pituitary_tumor/p (478).jpg',\n",
              " '/content/drive/MyDrive/learning cluster/brain_tumors/train/pituitary_tumor/p (494).jpg',\n",
              " '/content/drive/MyDrive/learning cluster/brain_tumors/train/pituitary_tumor/p (462).jpg',\n",
              " '/content/drive/MyDrive/learning cluster/brain_tumors/train/pituitary_tumor/p (499).jpg',\n",
              " '/content/drive/MyDrive/learning cluster/brain_tumors/train/pituitary_tumor/p (446).jpg',\n",
              " '/content/drive/MyDrive/learning cluster/brain_tumors/train/pituitary_tumor/p (50).jpg',\n",
              " '/content/drive/MyDrive/learning cluster/brain_tumors/train/pituitary_tumor/p (454).jpg',\n",
              " '/content/drive/MyDrive/learning cluster/brain_tumors/train/pituitary_tumor/p (491).jpg',\n",
              " '/content/drive/MyDrive/learning cluster/brain_tumors/train/pituitary_tumor/p (493).jpg',\n",
              " '/content/drive/MyDrive/learning cluster/brain_tumors/train/pituitary_tumor/p (481).jpg',\n",
              " '/content/drive/MyDrive/learning cluster/brain_tumors/train/pituitary_tumor/p (548).jpg',\n",
              " '/content/drive/MyDrive/learning cluster/brain_tumors/train/pituitary_tumor/p (56).jpg',\n",
              " '/content/drive/MyDrive/learning cluster/brain_tumors/train/pituitary_tumor/p (544).jpg',\n",
              " '/content/drive/MyDrive/learning cluster/brain_tumors/train/pituitary_tumor/p (515).jpg',\n",
              " '/content/drive/MyDrive/learning cluster/brain_tumors/train/pituitary_tumor/p (512).jpg',\n",
              " '/content/drive/MyDrive/learning cluster/brain_tumors/train/pituitary_tumor/p (532).jpg',\n",
              " '/content/drive/MyDrive/learning cluster/brain_tumors/train/pituitary_tumor/p (519).jpg',\n",
              " '/content/drive/MyDrive/learning cluster/brain_tumors/train/pituitary_tumor/p (54).jpg',\n",
              " '/content/drive/MyDrive/learning cluster/brain_tumors/train/pituitary_tumor/p (510).jpg',\n",
              " '/content/drive/MyDrive/learning cluster/brain_tumors/train/pituitary_tumor/p (549).jpg',\n",
              " '/content/drive/MyDrive/learning cluster/brain_tumors/train/pituitary_tumor/p (527).jpg',\n",
              " '/content/drive/MyDrive/learning cluster/brain_tumors/train/pituitary_tumor/p (57).jpg',\n",
              " '/content/drive/MyDrive/learning cluster/brain_tumors/train/pituitary_tumor/p (558).jpg',\n",
              " '/content/drive/MyDrive/learning cluster/brain_tumors/train/pituitary_tumor/p (546).jpg',\n",
              " '/content/drive/MyDrive/learning cluster/brain_tumors/train/pituitary_tumor/p (514).jpg',\n",
              " '/content/drive/MyDrive/learning cluster/brain_tumors/train/pituitary_tumor/p (522).jpg',\n",
              " '/content/drive/MyDrive/learning cluster/brain_tumors/train/pituitary_tumor/p (560).jpg',\n",
              " '/content/drive/MyDrive/learning cluster/brain_tumors/train/pituitary_tumor/p (509).jpg',\n",
              " '/content/drive/MyDrive/learning cluster/brain_tumors/train/pituitary_tumor/p (569).jpg',\n",
              " '/content/drive/MyDrive/learning cluster/brain_tumors/train/pituitary_tumor/p (562).jpg',\n",
              " '/content/drive/MyDrive/learning cluster/brain_tumors/train/pituitary_tumor/p (523).jpg',\n",
              " '/content/drive/MyDrive/learning cluster/brain_tumors/train/pituitary_tumor/p (526).jpg',\n",
              " '/content/drive/MyDrive/learning cluster/brain_tumors/train/pituitary_tumor/p (547).jpg',\n",
              " '/content/drive/MyDrive/learning cluster/brain_tumors/train/pituitary_tumor/p (521).jpg',\n",
              " '/content/drive/MyDrive/learning cluster/brain_tumors/train/pituitary_tumor/p (535).jpg',\n",
              " '/content/drive/MyDrive/learning cluster/brain_tumors/train/pituitary_tumor/p (53).jpg',\n",
              " '/content/drive/MyDrive/learning cluster/brain_tumors/train/pituitary_tumor/p (508).jpg',\n",
              " '/content/drive/MyDrive/learning cluster/brain_tumors/train/pituitary_tumor/p (559).jpg',\n",
              " '/content/drive/MyDrive/learning cluster/brain_tumors/train/pituitary_tumor/p (531).jpg',\n",
              " '/content/drive/MyDrive/learning cluster/brain_tumors/train/pituitary_tumor/p (568).jpg',\n",
              " '/content/drive/MyDrive/learning cluster/brain_tumors/train/pituitary_tumor/p (553).jpg',\n",
              " '/content/drive/MyDrive/learning cluster/brain_tumors/train/pituitary_tumor/p (552).jpg',\n",
              " '/content/drive/MyDrive/learning cluster/brain_tumors/train/pituitary_tumor/p (561).jpg',\n",
              " '/content/drive/MyDrive/learning cluster/brain_tumors/train/pituitary_tumor/p (539).jpg',\n",
              " '/content/drive/MyDrive/learning cluster/brain_tumors/train/pituitary_tumor/p (554).jpg',\n",
              " '/content/drive/MyDrive/learning cluster/brain_tumors/train/pituitary_tumor/p (52).jpg',\n",
              " '/content/drive/MyDrive/learning cluster/brain_tumors/train/pituitary_tumor/p (528).jpg',\n",
              " '/content/drive/MyDrive/learning cluster/brain_tumors/train/pituitary_tumor/p (516).jpg',\n",
              " '/content/drive/MyDrive/learning cluster/brain_tumors/train/pituitary_tumor/p (545).jpg',\n",
              " '/content/drive/MyDrive/learning cluster/brain_tumors/train/pituitary_tumor/p (536).jpg',\n",
              " '/content/drive/MyDrive/learning cluster/brain_tumors/train/pituitary_tumor/p (543).jpg',\n",
              " '/content/drive/MyDrive/learning cluster/brain_tumors/train/pituitary_tumor/p (525).jpg',\n",
              " '/content/drive/MyDrive/learning cluster/brain_tumors/train/pituitary_tumor/p (557).jpg',\n",
              " '/content/drive/MyDrive/learning cluster/brain_tumors/train/pituitary_tumor/p (529).jpg',\n",
              " '/content/drive/MyDrive/learning cluster/brain_tumors/train/pituitary_tumor/p (507).jpg',\n",
              " '/content/drive/MyDrive/learning cluster/brain_tumors/train/pituitary_tumor/p (534).jpg',\n",
              " '/content/drive/MyDrive/learning cluster/brain_tumors/train/pituitary_tumor/p (567).jpg',\n",
              " '/content/drive/MyDrive/learning cluster/brain_tumors/train/pituitary_tumor/p (570).jpg',\n",
              " '/content/drive/MyDrive/learning cluster/brain_tumors/train/pituitary_tumor/p (564).jpg',\n",
              " '/content/drive/MyDrive/learning cluster/brain_tumors/train/pituitary_tumor/p (55).jpg',\n",
              " '/content/drive/MyDrive/learning cluster/brain_tumors/train/pituitary_tumor/p (537).jpg',\n",
              " '/content/drive/MyDrive/learning cluster/brain_tumors/train/pituitary_tumor/p (563).jpg',\n",
              " '/content/drive/MyDrive/learning cluster/brain_tumors/train/pituitary_tumor/p (513).jpg',\n",
              " '/content/drive/MyDrive/learning cluster/brain_tumors/train/pituitary_tumor/p (550).jpg',\n",
              " '/content/drive/MyDrive/learning cluster/brain_tumors/train/pituitary_tumor/p (505).jpg',\n",
              " '/content/drive/MyDrive/learning cluster/brain_tumors/train/pituitary_tumor/p (517).jpg',\n",
              " '/content/drive/MyDrive/learning cluster/brain_tumors/train/pituitary_tumor/p (566).jpg',\n",
              " '/content/drive/MyDrive/learning cluster/brain_tumors/train/pituitary_tumor/p (556).jpg',\n",
              " '/content/drive/MyDrive/learning cluster/brain_tumors/train/pituitary_tumor/p (503).jpg',\n",
              " '/content/drive/MyDrive/learning cluster/brain_tumors/train/pituitary_tumor/p (506).jpg',\n",
              " '/content/drive/MyDrive/learning cluster/brain_tumors/train/pituitary_tumor/p (542).jpg',\n",
              " '/content/drive/MyDrive/learning cluster/brain_tumors/train/pituitary_tumor/p (504).jpg',\n",
              " '/content/drive/MyDrive/learning cluster/brain_tumors/train/pituitary_tumor/p (51).jpg',\n",
              " '/content/drive/MyDrive/learning cluster/brain_tumors/train/pituitary_tumor/p (530).jpg',\n",
              " '/content/drive/MyDrive/learning cluster/brain_tumors/train/pituitary_tumor/p (555).jpg',\n",
              " '/content/drive/MyDrive/learning cluster/brain_tumors/train/pituitary_tumor/p (520).jpg',\n",
              " '/content/drive/MyDrive/learning cluster/brain_tumors/train/pituitary_tumor/p (533).jpg',\n",
              " '/content/drive/MyDrive/learning cluster/brain_tumors/train/pituitary_tumor/p (540).jpg',\n",
              " '/content/drive/MyDrive/learning cluster/brain_tumors/train/pituitary_tumor/p (524).jpg',\n",
              " '/content/drive/MyDrive/learning cluster/brain_tumors/train/pituitary_tumor/p (551).jpg',\n",
              " '/content/drive/MyDrive/learning cluster/brain_tumors/train/pituitary_tumor/p (511).jpg',\n",
              " '/content/drive/MyDrive/learning cluster/brain_tumors/train/pituitary_tumor/p (541).jpg',\n",
              " '/content/drive/MyDrive/learning cluster/brain_tumors/train/pituitary_tumor/p (518).jpg',\n",
              " '/content/drive/MyDrive/learning cluster/brain_tumors/train/pituitary_tumor/p (538).jpg',\n",
              " '/content/drive/MyDrive/learning cluster/brain_tumors/train/pituitary_tumor/p (565).jpg',\n",
              " '/content/drive/MyDrive/learning cluster/brain_tumors/train/pituitary_tumor/p (589).jpg',\n",
              " '/content/drive/MyDrive/learning cluster/brain_tumors/train/pituitary_tumor/p (606).jpg',\n",
              " '/content/drive/MyDrive/learning cluster/brain_tumors/train/pituitary_tumor/p (602).jpg',\n",
              " '/content/drive/MyDrive/learning cluster/brain_tumors/train/pituitary_tumor/p (585).jpg',\n",
              " '/content/drive/MyDrive/learning cluster/brain_tumors/train/pituitary_tumor/p (609).jpg',\n",
              " '/content/drive/MyDrive/learning cluster/brain_tumors/train/pituitary_tumor/p (574).jpg',\n",
              " '/content/drive/MyDrive/learning cluster/brain_tumors/train/pituitary_tumor/p (631).jpg',\n",
              " '/content/drive/MyDrive/learning cluster/brain_tumors/train/pituitary_tumor/p (620).jpg',\n",
              " '/content/drive/MyDrive/learning cluster/brain_tumors/train/pituitary_tumor/p (632).jpg',\n",
              " '/content/drive/MyDrive/learning cluster/brain_tumors/train/pituitary_tumor/p (573).jpg',\n",
              " '/content/drive/MyDrive/learning cluster/brain_tumors/train/pituitary_tumor/p (636).jpg',\n",
              " '/content/drive/MyDrive/learning cluster/brain_tumors/train/pituitary_tumor/p (621).jpg',\n",
              " '/content/drive/MyDrive/learning cluster/brain_tumors/train/pituitary_tumor/p (617).jpg',\n",
              " '/content/drive/MyDrive/learning cluster/brain_tumors/train/pituitary_tumor/p (576).jpg',\n",
              " '/content/drive/MyDrive/learning cluster/brain_tumors/train/pituitary_tumor/p (592).jpg',\n",
              " '/content/drive/MyDrive/learning cluster/brain_tumors/train/pituitary_tumor/p (635).jpg',\n",
              " '/content/drive/MyDrive/learning cluster/brain_tumors/train/pituitary_tumor/p (586).jpg',\n",
              " '/content/drive/MyDrive/learning cluster/brain_tumors/train/pituitary_tumor/p (626).jpg',\n",
              " '/content/drive/MyDrive/learning cluster/brain_tumors/train/pituitary_tumor/p (616).jpg',\n",
              " '/content/drive/MyDrive/learning cluster/brain_tumors/train/pituitary_tumor/p (595).jpg',\n",
              " '/content/drive/MyDrive/learning cluster/brain_tumors/train/pituitary_tumor/p (577).jpg',\n",
              " '/content/drive/MyDrive/learning cluster/brain_tumors/train/pituitary_tumor/p (6).jpg',\n",
              " '/content/drive/MyDrive/learning cluster/brain_tumors/train/pituitary_tumor/p (575).jpg',\n",
              " '/content/drive/MyDrive/learning cluster/brain_tumors/train/pituitary_tumor/p (613).jpg',\n",
              " '/content/drive/MyDrive/learning cluster/brain_tumors/train/pituitary_tumor/p (62).jpg',\n",
              " '/content/drive/MyDrive/learning cluster/brain_tumors/train/pituitary_tumor/p (588).jpg',\n",
              " '/content/drive/MyDrive/learning cluster/brain_tumors/train/pituitary_tumor/p (619).jpg',\n",
              " '/content/drive/MyDrive/learning cluster/brain_tumors/train/pituitary_tumor/p (590).jpg',\n",
              " '/content/drive/MyDrive/learning cluster/brain_tumors/train/pituitary_tumor/p (60).jpg',\n",
              " '/content/drive/MyDrive/learning cluster/brain_tumors/train/pituitary_tumor/p (608).jpg',\n",
              " '/content/drive/MyDrive/learning cluster/brain_tumors/train/pituitary_tumor/p (582).jpg',\n",
              " '/content/drive/MyDrive/learning cluster/brain_tumors/train/pituitary_tumor/p (618).jpg',\n",
              " '/content/drive/MyDrive/learning cluster/brain_tumors/train/pituitary_tumor/p (583).jpg',\n",
              " '/content/drive/MyDrive/learning cluster/brain_tumors/train/pituitary_tumor/p (604).jpg',\n",
              " '/content/drive/MyDrive/learning cluster/brain_tumors/train/pituitary_tumor/p (634).jpg',\n",
              " '/content/drive/MyDrive/learning cluster/brain_tumors/train/pituitary_tumor/p (614).jpg',\n",
              " '/content/drive/MyDrive/learning cluster/brain_tumors/train/pituitary_tumor/p (624).jpg',\n",
              " '/content/drive/MyDrive/learning cluster/brain_tumors/train/pituitary_tumor/p (600).jpg',\n",
              " '/content/drive/MyDrive/learning cluster/brain_tumors/train/pituitary_tumor/p (59).jpg',\n",
              " '/content/drive/MyDrive/learning cluster/brain_tumors/train/pituitary_tumor/p (594).jpg',\n",
              " '/content/drive/MyDrive/learning cluster/brain_tumors/train/pituitary_tumor/p (607).jpg',\n",
              " '/content/drive/MyDrive/learning cluster/brain_tumors/train/pituitary_tumor/p (63).jpg',\n",
              " '/content/drive/MyDrive/learning cluster/brain_tumors/train/pituitary_tumor/p (610).jpg',\n",
              " '/content/drive/MyDrive/learning cluster/brain_tumors/train/pituitary_tumor/p (580).jpg',\n",
              " '/content/drive/MyDrive/learning cluster/brain_tumors/train/pituitary_tumor/p (571).jpg',\n",
              " '/content/drive/MyDrive/learning cluster/brain_tumors/train/pituitary_tumor/p (591).jpg',\n",
              " '/content/drive/MyDrive/learning cluster/brain_tumors/train/pituitary_tumor/p (611).jpg',\n",
              " '/content/drive/MyDrive/learning cluster/brain_tumors/train/pituitary_tumor/p (587).jpg',\n",
              " '/content/drive/MyDrive/learning cluster/brain_tumors/train/pituitary_tumor/p (579).jpg',\n",
              " '/content/drive/MyDrive/learning cluster/brain_tumors/train/pituitary_tumor/p (629).jpg',\n",
              " '/content/drive/MyDrive/learning cluster/brain_tumors/train/pituitary_tumor/p (578).jpg',\n",
              " '/content/drive/MyDrive/learning cluster/brain_tumors/train/pituitary_tumor/p (572).jpg',\n",
              " '/content/drive/MyDrive/learning cluster/brain_tumors/train/pituitary_tumor/p (597).jpg',\n",
              " '/content/drive/MyDrive/learning cluster/brain_tumors/train/pituitary_tumor/p (581).jpg',\n",
              " '/content/drive/MyDrive/learning cluster/brain_tumors/train/pituitary_tumor/p (628).jpg',\n",
              " '/content/drive/MyDrive/learning cluster/brain_tumors/train/pituitary_tumor/p (584).jpg',\n",
              " '/content/drive/MyDrive/learning cluster/brain_tumors/train/pituitary_tumor/p (603).jpg',\n",
              " '/content/drive/MyDrive/learning cluster/brain_tumors/train/pituitary_tumor/p (599).jpg',\n",
              " '/content/drive/MyDrive/learning cluster/brain_tumors/train/pituitary_tumor/p (596).jpg',\n",
              " '/content/drive/MyDrive/learning cluster/brain_tumors/train/pituitary_tumor/p (625).jpg',\n",
              " '/content/drive/MyDrive/learning cluster/brain_tumors/train/pituitary_tumor/p (598).jpg',\n",
              " '/content/drive/MyDrive/learning cluster/brain_tumors/train/pituitary_tumor/p (58).jpg',\n",
              " '/content/drive/MyDrive/learning cluster/brain_tumors/train/pituitary_tumor/p (622).jpg',\n",
              " '/content/drive/MyDrive/learning cluster/brain_tumors/train/pituitary_tumor/p (627).jpg',\n",
              " '/content/drive/MyDrive/learning cluster/brain_tumors/train/pituitary_tumor/p (601).jpg',\n",
              " '/content/drive/MyDrive/learning cluster/brain_tumors/train/pituitary_tumor/p (633).jpg',\n",
              " '/content/drive/MyDrive/learning cluster/brain_tumors/train/pituitary_tumor/p (630).jpg',\n",
              " '/content/drive/MyDrive/learning cluster/brain_tumors/train/pituitary_tumor/p (593).jpg',\n",
              " '/content/drive/MyDrive/learning cluster/brain_tumors/train/pituitary_tumor/p (615).jpg',\n",
              " '/content/drive/MyDrive/learning cluster/brain_tumors/train/pituitary_tumor/p (61).jpg',\n",
              " '/content/drive/MyDrive/learning cluster/brain_tumors/train/pituitary_tumor/p (638).jpg',\n",
              " '/content/drive/MyDrive/learning cluster/brain_tumors/train/pituitary_tumor/p (612).jpg',\n",
              " '/content/drive/MyDrive/learning cluster/brain_tumors/train/pituitary_tumor/p (623).jpg',\n",
              " '/content/drive/MyDrive/learning cluster/brain_tumors/train/pituitary_tumor/p (605).jpg',\n",
              " '/content/drive/MyDrive/learning cluster/brain_tumors/train/pituitary_tumor/p (637).jpg',\n",
              " '/content/drive/MyDrive/learning cluster/brain_tumors/train/pituitary_tumor/p (676).jpg',\n",
              " '/content/drive/MyDrive/learning cluster/brain_tumors/train/pituitary_tumor/p (642).jpg',\n",
              " '/content/drive/MyDrive/learning cluster/brain_tumors/train/pituitary_tumor/p (646).jpg',\n",
              " '/content/drive/MyDrive/learning cluster/brain_tumors/train/pituitary_tumor/p (65).jpg',\n",
              " '/content/drive/MyDrive/learning cluster/brain_tumors/train/pituitary_tumor/p (650).jpg',\n",
              " '/content/drive/MyDrive/learning cluster/brain_tumors/train/pituitary_tumor/p (698).jpg',\n",
              " '/content/drive/MyDrive/learning cluster/brain_tumors/train/pituitary_tumor/p (693).jpg',\n",
              " '/content/drive/MyDrive/learning cluster/brain_tumors/train/pituitary_tumor/p (689).jpg',\n",
              " '/content/drive/MyDrive/learning cluster/brain_tumors/train/pituitary_tumor/p (688).jpg',\n",
              " '/content/drive/MyDrive/learning cluster/brain_tumors/train/pituitary_tumor/p (702).jpg',\n",
              " '/content/drive/MyDrive/learning cluster/brain_tumors/train/pituitary_tumor/p (653).jpg',\n",
              " '/content/drive/MyDrive/learning cluster/brain_tumors/train/pituitary_tumor/p (647).jpg',\n",
              " '/content/drive/MyDrive/learning cluster/brain_tumors/train/pituitary_tumor/p (645).jpg',\n",
              " '/content/drive/MyDrive/learning cluster/brain_tumors/train/pituitary_tumor/p (651).jpg',\n",
              " '/content/drive/MyDrive/learning cluster/brain_tumors/train/pituitary_tumor/p (681).jpg',\n",
              " '/content/drive/MyDrive/learning cluster/brain_tumors/train/pituitary_tumor/p (665).jpg',\n",
              " '/content/drive/MyDrive/learning cluster/brain_tumors/train/pituitary_tumor/p (692).jpg',\n",
              " '/content/drive/MyDrive/learning cluster/brain_tumors/train/pituitary_tumor/p (649).jpg',\n",
              " '/content/drive/MyDrive/learning cluster/brain_tumors/train/pituitary_tumor/p (64).jpg',\n",
              " '/content/drive/MyDrive/learning cluster/brain_tumors/train/pituitary_tumor/p (703).jpg',\n",
              " '/content/drive/MyDrive/learning cluster/brain_tumors/train/pituitary_tumor/p (675).jpg',\n",
              " '/content/drive/MyDrive/learning cluster/brain_tumors/train/pituitary_tumor/p (659).jpg',\n",
              " '/content/drive/MyDrive/learning cluster/brain_tumors/train/pituitary_tumor/p (673).jpg',\n",
              " '/content/drive/MyDrive/learning cluster/brain_tumors/train/pituitary_tumor/p (685).jpg',\n",
              " '/content/drive/MyDrive/learning cluster/brain_tumors/train/pituitary_tumor/p (643).jpg',\n",
              " '/content/drive/MyDrive/learning cluster/brain_tumors/train/pituitary_tumor/p (680).jpg',\n",
              " '/content/drive/MyDrive/learning cluster/brain_tumors/train/pituitary_tumor/p (66).jpg',\n",
              " '/content/drive/MyDrive/learning cluster/brain_tumors/train/pituitary_tumor/p (699).jpg',\n",
              " '/content/drive/MyDrive/learning cluster/brain_tumors/train/pituitary_tumor/p (660).jpg',\n",
              " '/content/drive/MyDrive/learning cluster/brain_tumors/train/pituitary_tumor/p (658).jpg',\n",
              " '/content/drive/MyDrive/learning cluster/brain_tumors/train/pituitary_tumor/p (639).jpg',\n",
              " '/content/drive/MyDrive/learning cluster/brain_tumors/train/pituitary_tumor/p (657).jpg',\n",
              " '/content/drive/MyDrive/learning cluster/brain_tumors/train/pituitary_tumor/p (679).jpg',\n",
              " '/content/drive/MyDrive/learning cluster/brain_tumors/train/pituitary_tumor/p (670).jpg',\n",
              " '/content/drive/MyDrive/learning cluster/brain_tumors/train/pituitary_tumor/p (697).jpg',\n",
              " '/content/drive/MyDrive/learning cluster/brain_tumors/train/pituitary_tumor/p (654).jpg',\n",
              " '/content/drive/MyDrive/learning cluster/brain_tumors/train/pituitary_tumor/p (686).jpg',\n",
              " '/content/drive/MyDrive/learning cluster/brain_tumors/train/pituitary_tumor/p (641).jpg',\n",
              " '/content/drive/MyDrive/learning cluster/brain_tumors/train/pituitary_tumor/p (701).jpg',\n",
              " '/content/drive/MyDrive/learning cluster/brain_tumors/train/pituitary_tumor/p (690).jpg',\n",
              " '/content/drive/MyDrive/learning cluster/brain_tumors/train/pituitary_tumor/p (671).jpg',\n",
              " '/content/drive/MyDrive/learning cluster/brain_tumors/train/pituitary_tumor/p (666).jpg',\n",
              " '/content/drive/MyDrive/learning cluster/brain_tumors/train/pituitary_tumor/p (663).jpg',\n",
              " '/content/drive/MyDrive/learning cluster/brain_tumors/train/pituitary_tumor/p (674).jpg',\n",
              " '/content/drive/MyDrive/learning cluster/brain_tumors/train/pituitary_tumor/p (667).jpg',\n",
              " '/content/drive/MyDrive/learning cluster/brain_tumors/train/pituitary_tumor/p (696).jpg',\n",
              " '/content/drive/MyDrive/learning cluster/brain_tumors/train/pituitary_tumor/p (704).jpg',\n",
              " '/content/drive/MyDrive/learning cluster/brain_tumors/train/pituitary_tumor/p (67).jpg',\n",
              " '/content/drive/MyDrive/learning cluster/brain_tumors/train/pituitary_tumor/p (648).jpg',\n",
              " '/content/drive/MyDrive/learning cluster/brain_tumors/train/pituitary_tumor/p (69).jpg',\n",
              " '/content/drive/MyDrive/learning cluster/brain_tumors/train/pituitary_tumor/p (668).jpg',\n",
              " '/content/drive/MyDrive/learning cluster/brain_tumors/train/pituitary_tumor/p (683).jpg',\n",
              " '/content/drive/MyDrive/learning cluster/brain_tumors/train/pituitary_tumor/p (687).jpg',\n",
              " '/content/drive/MyDrive/learning cluster/brain_tumors/train/pituitary_tumor/p (706).jpg',\n",
              " '/content/drive/MyDrive/learning cluster/brain_tumors/train/pituitary_tumor/p (662).jpg',\n",
              " '/content/drive/MyDrive/learning cluster/brain_tumors/train/pituitary_tumor/p (655).jpg',\n",
              " '/content/drive/MyDrive/learning cluster/brain_tumors/train/pituitary_tumor/p (691).jpg',\n",
              " '/content/drive/MyDrive/learning cluster/brain_tumors/train/pituitary_tumor/p (669).jpg',\n",
              " '/content/drive/MyDrive/learning cluster/brain_tumors/train/pituitary_tumor/p (640).jpg',\n",
              " '/content/drive/MyDrive/learning cluster/brain_tumors/train/pituitary_tumor/p (652).jpg',\n",
              " '/content/drive/MyDrive/learning cluster/brain_tumors/train/pituitary_tumor/p (678).jpg',\n",
              " '/content/drive/MyDrive/learning cluster/brain_tumors/train/pituitary_tumor/p (700).jpg',\n",
              " '/content/drive/MyDrive/learning cluster/brain_tumors/train/pituitary_tumor/p (684).jpg',\n",
              " '/content/drive/MyDrive/learning cluster/brain_tumors/train/pituitary_tumor/p (70).jpg',\n",
              " '/content/drive/MyDrive/learning cluster/brain_tumors/train/pituitary_tumor/p (664).jpg',\n",
              " '/content/drive/MyDrive/learning cluster/brain_tumors/train/pituitary_tumor/p (7).jpg',\n",
              " '/content/drive/MyDrive/learning cluster/brain_tumors/train/pituitary_tumor/p (672).jpg',\n",
              " '/content/drive/MyDrive/learning cluster/brain_tumors/train/pituitary_tumor/p (68).jpg',\n",
              " '/content/drive/MyDrive/learning cluster/brain_tumors/train/pituitary_tumor/p (682).jpg',\n",
              " '/content/drive/MyDrive/learning cluster/brain_tumors/train/pituitary_tumor/p (656).jpg',\n",
              " '/content/drive/MyDrive/learning cluster/brain_tumors/train/pituitary_tumor/p (694).jpg',\n",
              " '/content/drive/MyDrive/learning cluster/brain_tumors/train/pituitary_tumor/p (677).jpg',\n",
              " '/content/drive/MyDrive/learning cluster/brain_tumors/train/pituitary_tumor/p (695).jpg',\n",
              " '/content/drive/MyDrive/learning cluster/brain_tumors/train/pituitary_tumor/p (705).jpg',\n",
              " '/content/drive/MyDrive/learning cluster/brain_tumors/train/pituitary_tumor/p (644).jpg',\n",
              " '/content/drive/MyDrive/learning cluster/brain_tumors/train/pituitary_tumor/p (661).jpg',\n",
              " '/content/drive/MyDrive/learning cluster/brain_tumors/train/pituitary_tumor/p (757).jpg',\n",
              " '/content/drive/MyDrive/learning cluster/brain_tumors/train/pituitary_tumor/p (742).jpg',\n",
              " '/content/drive/MyDrive/learning cluster/brain_tumors/train/pituitary_tumor/p (73).jpg',\n",
              " '/content/drive/MyDrive/learning cluster/brain_tumors/train/pituitary_tumor/p (764).jpg',\n",
              " '/content/drive/MyDrive/learning cluster/brain_tumors/train/pituitary_tumor/p (743).jpg',\n",
              " '/content/drive/MyDrive/learning cluster/brain_tumors/train/pituitary_tumor/p (726).jpg',\n",
              " '/content/drive/MyDrive/learning cluster/brain_tumors/train/pituitary_tumor/p (736).jpg',\n",
              " '/content/drive/MyDrive/learning cluster/brain_tumors/train/pituitary_tumor/p (748).jpg',\n",
              " '/content/drive/MyDrive/learning cluster/brain_tumors/train/pituitary_tumor/p (738).jpg',\n",
              " '/content/drive/MyDrive/learning cluster/brain_tumors/train/pituitary_tumor/p (733).jpg',\n",
              " '/content/drive/MyDrive/learning cluster/brain_tumors/train/pituitary_tumor/p (750).jpg',\n",
              " '/content/drive/MyDrive/learning cluster/brain_tumors/train/pituitary_tumor/p (707).jpg',\n",
              " '/content/drive/MyDrive/learning cluster/brain_tumors/train/pituitary_tumor/p (735).jpg',\n",
              " '/content/drive/MyDrive/learning cluster/brain_tumors/train/pituitary_tumor/p (755).jpg',\n",
              " '/content/drive/MyDrive/learning cluster/brain_tumors/train/pituitary_tumor/p (756).jpg',\n",
              " '/content/drive/MyDrive/learning cluster/brain_tumors/train/pituitary_tumor/p (729).jpg',\n",
              " '/content/drive/MyDrive/learning cluster/brain_tumors/train/pituitary_tumor/p (752).jpg',\n",
              " '/content/drive/MyDrive/learning cluster/brain_tumors/train/pituitary_tumor/p (746).jpg',\n",
              " '/content/drive/MyDrive/learning cluster/brain_tumors/train/pituitary_tumor/p (745).jpg',\n",
              " '/content/drive/MyDrive/learning cluster/brain_tumors/train/pituitary_tumor/p (739).jpg',\n",
              " '/content/drive/MyDrive/learning cluster/brain_tumors/train/pituitary_tumor/p (741).jpg',\n",
              " '/content/drive/MyDrive/learning cluster/brain_tumors/train/pituitary_tumor/p (771).jpg',\n",
              " '/content/drive/MyDrive/learning cluster/brain_tumors/train/pituitary_tumor/p (71).jpg',\n",
              " '/content/drive/MyDrive/learning cluster/brain_tumors/train/pituitary_tumor/p (724).jpg',\n",
              " '/content/drive/MyDrive/learning cluster/brain_tumors/train/pituitary_tumor/p (749).jpg',\n",
              " '/content/drive/MyDrive/learning cluster/brain_tumors/train/pituitary_tumor/p (737).jpg',\n",
              " '/content/drive/MyDrive/learning cluster/brain_tumors/train/pituitary_tumor/p (721).jpg',\n",
              " '/content/drive/MyDrive/learning cluster/brain_tumors/train/pituitary_tumor/p (772).jpg',\n",
              " '/content/drive/MyDrive/learning cluster/brain_tumors/train/pituitary_tumor/p (734).jpg',\n",
              " '/content/drive/MyDrive/learning cluster/brain_tumors/train/pituitary_tumor/p (711).jpg',\n",
              " '/content/drive/MyDrive/learning cluster/brain_tumors/train/pituitary_tumor/p (708).jpg',\n",
              " '/content/drive/MyDrive/learning cluster/brain_tumors/train/pituitary_tumor/p (773).jpg',\n",
              " '/content/drive/MyDrive/learning cluster/brain_tumors/train/pituitary_tumor/p (74).jpg',\n",
              " '/content/drive/MyDrive/learning cluster/brain_tumors/train/pituitary_tumor/p (751).jpg',\n",
              " '/content/drive/MyDrive/learning cluster/brain_tumors/train/pituitary_tumor/p (712).jpg',\n",
              " '/content/drive/MyDrive/learning cluster/brain_tumors/train/pituitary_tumor/p (727).jpg',\n",
              " '/content/drive/MyDrive/learning cluster/brain_tumors/train/pituitary_tumor/p (715).jpg',\n",
              " '/content/drive/MyDrive/learning cluster/brain_tumors/train/pituitary_tumor/p (717).jpg',\n",
              " '/content/drive/MyDrive/learning cluster/brain_tumors/train/pituitary_tumor/p (759).jpg',\n",
              " '/content/drive/MyDrive/learning cluster/brain_tumors/train/pituitary_tumor/p (714).jpg',\n",
              " '/content/drive/MyDrive/learning cluster/brain_tumors/train/pituitary_tumor/p (716).jpg',\n",
              " '/content/drive/MyDrive/learning cluster/brain_tumors/train/pituitary_tumor/p (744).jpg',\n",
              " '/content/drive/MyDrive/learning cluster/brain_tumors/train/pituitary_tumor/p (765).jpg',\n",
              " '/content/drive/MyDrive/learning cluster/brain_tumors/train/pituitary_tumor/p (740).jpg',\n",
              " '/content/drive/MyDrive/learning cluster/brain_tumors/train/pituitary_tumor/p (713).jpg',\n",
              " '/content/drive/MyDrive/learning cluster/brain_tumors/train/pituitary_tumor/p (77).jpg',\n",
              " '/content/drive/MyDrive/learning cluster/brain_tumors/train/pituitary_tumor/p (747).jpg',\n",
              " '/content/drive/MyDrive/learning cluster/brain_tumors/train/pituitary_tumor/p (730).jpg',\n",
              " '/content/drive/MyDrive/learning cluster/brain_tumors/train/pituitary_tumor/p (753).jpg',\n",
              " '/content/drive/MyDrive/learning cluster/brain_tumors/train/pituitary_tumor/p (723).jpg',\n",
              " '/content/drive/MyDrive/learning cluster/brain_tumors/train/pituitary_tumor/p (725).jpg',\n",
              " '/content/drive/MyDrive/learning cluster/brain_tumors/train/pituitary_tumor/p (758).jpg',\n",
              " '/content/drive/MyDrive/learning cluster/brain_tumors/train/pituitary_tumor/p (766).jpg',\n",
              " '/content/drive/MyDrive/learning cluster/brain_tumors/train/pituitary_tumor/p (754).jpg',\n",
              " '/content/drive/MyDrive/learning cluster/brain_tumors/train/pituitary_tumor/p (762).jpg',\n",
              " '/content/drive/MyDrive/learning cluster/brain_tumors/train/pituitary_tumor/p (72).jpg',\n",
              " '/content/drive/MyDrive/learning cluster/brain_tumors/train/pituitary_tumor/p (728).jpg',\n",
              " '/content/drive/MyDrive/learning cluster/brain_tumors/train/pituitary_tumor/p (763).jpg',\n",
              " '/content/drive/MyDrive/learning cluster/brain_tumors/train/pituitary_tumor/p (770).jpg',\n",
              " '/content/drive/MyDrive/learning cluster/brain_tumors/train/pituitary_tumor/p (761).jpg',\n",
              " '/content/drive/MyDrive/learning cluster/brain_tumors/train/pituitary_tumor/p (760).jpg',\n",
              " '/content/drive/MyDrive/learning cluster/brain_tumors/train/pituitary_tumor/p (719).jpg',\n",
              " '/content/drive/MyDrive/learning cluster/brain_tumors/train/pituitary_tumor/p (769).jpg',\n",
              " '/content/drive/MyDrive/learning cluster/brain_tumors/train/pituitary_tumor/p (718).jpg',\n",
              " '/content/drive/MyDrive/learning cluster/brain_tumors/train/pituitary_tumor/p (722).jpg',\n",
              " '/content/drive/MyDrive/learning cluster/brain_tumors/train/pituitary_tumor/p (710).jpg',\n",
              " '/content/drive/MyDrive/learning cluster/brain_tumors/train/pituitary_tumor/p (76).jpg',\n",
              " '/content/drive/MyDrive/learning cluster/brain_tumors/train/pituitary_tumor/p (709).jpg',\n",
              " '/content/drive/MyDrive/learning cluster/brain_tumors/train/pituitary_tumor/p (720).jpg',\n",
              " '/content/drive/MyDrive/learning cluster/brain_tumors/train/pituitary_tumor/p (768).jpg',\n",
              " '/content/drive/MyDrive/learning cluster/brain_tumors/train/pituitary_tumor/p (767).jpg',\n",
              " '/content/drive/MyDrive/learning cluster/brain_tumors/train/pituitary_tumor/p (731).jpg',\n",
              " '/content/drive/MyDrive/learning cluster/brain_tumors/train/pituitary_tumor/p (75).jpg',\n",
              " '/content/drive/MyDrive/learning cluster/brain_tumors/train/pituitary_tumor/p (732).jpg',\n",
              " '/content/drive/MyDrive/learning cluster/brain_tumors/train/pituitary_tumor/p (774).jpg',\n",
              " '/content/drive/MyDrive/learning cluster/brain_tumors/train/pituitary_tumor/p (93).jpg',\n",
              " '/content/drive/MyDrive/learning cluster/brain_tumors/train/pituitary_tumor/p (87).jpg',\n",
              " '/content/drive/MyDrive/learning cluster/brain_tumors/train/pituitary_tumor/p (775).jpg',\n",
              " '/content/drive/MyDrive/learning cluster/brain_tumors/train/pituitary_tumor/p (81).jpg',\n",
              " '/content/drive/MyDrive/learning cluster/brain_tumors/train/pituitary_tumor/p (794).jpg',\n",
              " '/content/drive/MyDrive/learning cluster/brain_tumors/train/pituitary_tumor/p (83).jpg',\n",
              " '/content/drive/MyDrive/learning cluster/brain_tumors/train/pituitary_tumor/p (84).jpg',\n",
              " '/content/drive/MyDrive/learning cluster/brain_tumors/train/pituitary_tumor/p (783).jpg',\n",
              " '/content/drive/MyDrive/learning cluster/brain_tumors/train/pituitary_tumor/p (8).jpg',\n",
              " '/content/drive/MyDrive/learning cluster/brain_tumors/train/pituitary_tumor/p (814).jpg',\n",
              " '/content/drive/MyDrive/learning cluster/brain_tumors/train/pituitary_tumor/p (82).jpg',\n",
              " '/content/drive/MyDrive/learning cluster/brain_tumors/train/pituitary_tumor/p (793).jpg',\n",
              " '/content/drive/MyDrive/learning cluster/brain_tumors/train/pituitary_tumor/p (86).jpg',\n",
              " '/content/drive/MyDrive/learning cluster/brain_tumors/train/pituitary_tumor/p (809).jpg',\n",
              " '/content/drive/MyDrive/learning cluster/brain_tumors/train/pituitary_tumor/p (798).jpg',\n",
              " '/content/drive/MyDrive/learning cluster/brain_tumors/train/pituitary_tumor/p (797).jpg',\n",
              " '/content/drive/MyDrive/learning cluster/brain_tumors/train/pituitary_tumor/p (89).jpg',\n",
              " '/content/drive/MyDrive/learning cluster/brain_tumors/train/pituitary_tumor/p (821).jpg',\n",
              " '/content/drive/MyDrive/learning cluster/brain_tumors/train/pituitary_tumor/p (818).jpg',\n",
              " '/content/drive/MyDrive/learning cluster/brain_tumors/train/pituitary_tumor/p (781).jpg',\n",
              " '/content/drive/MyDrive/learning cluster/brain_tumors/train/pituitary_tumor/p (776).jpg',\n",
              " '/content/drive/MyDrive/learning cluster/brain_tumors/train/pituitary_tumor/p (778).jpg',\n",
              " '/content/drive/MyDrive/learning cluster/brain_tumors/train/pituitary_tumor/p (813).jpg',\n",
              " '/content/drive/MyDrive/learning cluster/brain_tumors/train/pituitary_tumor/p (787).jpg',\n",
              " '/content/drive/MyDrive/learning cluster/brain_tumors/train/pituitary_tumor/p (806).jpg',\n",
              " '/content/drive/MyDrive/learning cluster/brain_tumors/train/pituitary_tumor/p (90).jpg',\n",
              " '/content/drive/MyDrive/learning cluster/brain_tumors/train/pituitary_tumor/p (782).jpg',\n",
              " '/content/drive/MyDrive/learning cluster/brain_tumors/train/pituitary_tumor/p (9).jpg',\n",
              " '/content/drive/MyDrive/learning cluster/brain_tumors/train/pituitary_tumor/p (795).jpg',\n",
              " '/content/drive/MyDrive/learning cluster/brain_tumors/train/pituitary_tumor/p (80).jpg',\n",
              " '/content/drive/MyDrive/learning cluster/brain_tumors/train/pituitary_tumor/p (820).jpg',\n",
              " '/content/drive/MyDrive/learning cluster/brain_tumors/train/pituitary_tumor/p (88).jpg',\n",
              " '/content/drive/MyDrive/learning cluster/brain_tumors/train/pituitary_tumor/p (796).jpg',\n",
              " '/content/drive/MyDrive/learning cluster/brain_tumors/train/pituitary_tumor/p (790).jpg',\n",
              " '/content/drive/MyDrive/learning cluster/brain_tumors/train/pituitary_tumor/p (96).jpg',\n",
              " '/content/drive/MyDrive/learning cluster/brain_tumors/train/pituitary_tumor/p (826).jpg',\n",
              " '/content/drive/MyDrive/learning cluster/brain_tumors/train/pituitary_tumor/p (788).jpg',\n",
              " '/content/drive/MyDrive/learning cluster/brain_tumors/train/pituitary_tumor/p (779).jpg',\n",
              " '/content/drive/MyDrive/learning cluster/brain_tumors/train/pituitary_tumor/p (784).jpg',\n",
              " '/content/drive/MyDrive/learning cluster/brain_tumors/train/pituitary_tumor/p (808).jpg',\n",
              " '/content/drive/MyDrive/learning cluster/brain_tumors/train/pituitary_tumor/p (786).jpg',\n",
              " '/content/drive/MyDrive/learning cluster/brain_tumors/train/pituitary_tumor/p (822).jpg',\n",
              " '/content/drive/MyDrive/learning cluster/brain_tumors/train/pituitary_tumor/p (92).jpg',\n",
              " '/content/drive/MyDrive/learning cluster/brain_tumors/train/pituitary_tumor/p (810).jpg',\n",
              " '/content/drive/MyDrive/learning cluster/brain_tumors/train/pituitary_tumor/p (823).jpg',\n",
              " '/content/drive/MyDrive/learning cluster/brain_tumors/train/pituitary_tumor/p (780).jpg',\n",
              " '/content/drive/MyDrive/learning cluster/brain_tumors/train/pituitary_tumor/p (799).jpg',\n",
              " '/content/drive/MyDrive/learning cluster/brain_tumors/train/pituitary_tumor/p (78).jpg',\n",
              " '/content/drive/MyDrive/learning cluster/brain_tumors/train/pituitary_tumor/p (815).jpg',\n",
              " '/content/drive/MyDrive/learning cluster/brain_tumors/train/pituitary_tumor/p (801).jpg',\n",
              " '/content/drive/MyDrive/learning cluster/brain_tumors/train/pituitary_tumor/p (802).jpg',\n",
              " '/content/drive/MyDrive/learning cluster/brain_tumors/train/pituitary_tumor/p (803).jpg',\n",
              " '/content/drive/MyDrive/learning cluster/brain_tumors/train/pituitary_tumor/p (827).jpg',\n",
              " '/content/drive/MyDrive/learning cluster/brain_tumors/train/pituitary_tumor/p (85).jpg',\n",
              " '/content/drive/MyDrive/learning cluster/brain_tumors/train/pituitary_tumor/p (800).jpg',\n",
              " '/content/drive/MyDrive/learning cluster/brain_tumors/train/pituitary_tumor/p (817).jpg',\n",
              " '/content/drive/MyDrive/learning cluster/brain_tumors/train/pituitary_tumor/p (812).jpg',\n",
              " '/content/drive/MyDrive/learning cluster/brain_tumors/train/pituitary_tumor/p (792).jpg',\n",
              " '/content/drive/MyDrive/learning cluster/brain_tumors/train/pituitary_tumor/p (95).jpg',\n",
              " '/content/drive/MyDrive/learning cluster/brain_tumors/train/pituitary_tumor/p (825).jpg',\n",
              " '/content/drive/MyDrive/learning cluster/brain_tumors/train/pituitary_tumor/p (791).jpg',\n",
              " '/content/drive/MyDrive/learning cluster/brain_tumors/train/pituitary_tumor/p (819).jpg',\n",
              " '/content/drive/MyDrive/learning cluster/brain_tumors/train/pituitary_tumor/p (97).jpg',\n",
              " '/content/drive/MyDrive/learning cluster/brain_tumors/train/pituitary_tumor/p (804).jpg',\n",
              " '/content/drive/MyDrive/learning cluster/brain_tumors/train/pituitary_tumor/p (807).jpg',\n",
              " '/content/drive/MyDrive/learning cluster/brain_tumors/train/pituitary_tumor/p (91).jpg',\n",
              " '/content/drive/MyDrive/learning cluster/brain_tumors/train/pituitary_tumor/p (789).jpg',\n",
              " '/content/drive/MyDrive/learning cluster/brain_tumors/train/pituitary_tumor/p (777).jpg',\n",
              " '/content/drive/MyDrive/learning cluster/brain_tumors/train/pituitary_tumor/p (824).jpg',\n",
              " '/content/drive/MyDrive/learning cluster/brain_tumors/train/pituitary_tumor/p (811).jpg',\n",
              " '/content/drive/MyDrive/learning cluster/brain_tumors/train/pituitary_tumor/p (805).jpg',\n",
              " '/content/drive/MyDrive/learning cluster/brain_tumors/train/pituitary_tumor/p (816).jpg',\n",
              " '/content/drive/MyDrive/learning cluster/brain_tumors/train/pituitary_tumor/p (79).jpg',\n",
              " '/content/drive/MyDrive/learning cluster/brain_tumors/train/pituitary_tumor/p (785).jpg',\n",
              " '/content/drive/MyDrive/learning cluster/brain_tumors/train/pituitary_tumor/p (94).jpg',\n",
              " '/content/drive/MyDrive/learning cluster/brain_tumors/train/pituitary_tumor/p (98).jpg',\n",
              " '/content/drive/MyDrive/learning cluster/brain_tumors/train/pituitary_tumor/p (99).jpg']"
            ]
          },
          "metadata": {},
          "execution_count": 18
        }
      ]
    },
    {
      "cell_type": "code",
      "metadata": {
        "id": "oiGAm_P6shQF"
      },
      "source": [
        "# define a function to loop through all images in a folder, resize them, and add them to a single numpy array\n",
        "def images_to_array(filelist):\n",
        "  images = list()\n",
        "  for fname in filelist:\n",
        "    # load an image\n",
        "    image = load_img(fname, color_mode = \"grayscale\")\n",
        "    # resize the image\n",
        "    image = image.resize((250, 250))\n",
        "    # convert the image to an array\n",
        "    image = img_to_array(image)\n",
        "    # use the squeeze() function to reduce dimensions from (250, 250, 1) to (250, 250)\n",
        "    image = image.squeeze()\n",
        "    # append to the images list\n",
        "    images.append(image)\n",
        "  # convert the images list to an array\n",
        "  images = np.array(images)\n",
        "  return images"
      ],
      "execution_count": 19,
      "outputs": []
    },
    {
      "cell_type": "code",
      "metadata": {
        "id": "QskOM0cbI13g"
      },
      "source": [
        "# perform the above defined function to process images in each folder\n",
        "images_train_no = images_to_array(flist_train_no)\n",
        "images_train_pituitary = images_to_array(flist_train_pituitary)\n",
        "images_train_meningioma = images_to_array(flist_train_meningioma)\n",
        "images_train_glioma = images_to_array(flist_train_glioma)\n",
        "images_test_no = images_to_array(flist_test_no)\n",
        "images_test_pituitary = images_to_array(flist_test_pituitary)\n",
        "images_test_meningioma = images_to_array(flist_test_meningioma)\n",
        "images_test_glioma = images_to_array(flist_test_glioma)"
      ],
      "execution_count": 21,
      "outputs": []
    },
    {
      "cell_type": "code",
      "metadata": {
        "id": "_hvWNIZopmzG"
      },
      "source": [
        "# concatenate arrays to form train and test features\n",
        "X_train = np.concatenate((images_train_no, images_train_pituitary, images_train_meningioma, images_train_glioma), axis = 0)\n",
        "X_test = np.concatenate((images_test_no, images_test_pituitary, images_test_meningioma, images_test_glioma), axis = 0)"
      ],
      "execution_count": 22,
      "outputs": []
    },
    {
      "cell_type": "code",
      "metadata": {
        "colab": {
          "base_uri": "https://localhost:8080/"
        },
        "id": "v68SA14LnSuh",
        "outputId": "ba68069e-f3e2-42e0-c9d0-9ab88fa04759"
      },
      "source": [
        "# take a look at the shapes of X_train and X_test\n",
        "X_train.shape\n",
        "print('\\n')\n",
        "X_test.shape"
      ],
      "execution_count": 23,
      "outputs": [
        {
          "output_type": "execute_result",
          "data": {
            "text/plain": [
              "(2870, 250, 250)"
            ]
          },
          "metadata": {},
          "execution_count": 23
        },
        {
          "output_type": "stream",
          "name": "stdout",
          "text": [
            "\n",
            "\n"
          ]
        },
        {
          "output_type": "execute_result",
          "data": {
            "text/plain": [
              "(394, 250, 250)"
            ]
          },
          "metadata": {},
          "execution_count": 23
        }
      ]
    },
    {
      "cell_type": "code",
      "metadata": {
        "id": "m6E_0yHDniZa"
      },
      "source": [
        "# save X_train and X_test arrays so that we won't have to process the images (which is time consuming) next time the program runs\n",
        "# save X_train and X_test arrays so that we won't have to process the images (which is time consuming) next time the program runs\n",
        "np.save('X_train.npy', X_train)  # Save to Colab environment\n",
        "np.save('X_test.npy', X_test)"
      ],
      "execution_count": 35,
      "outputs": []
    },
    {
      "cell_type": "code",
      "metadata": {
        "id": "voXWuv0SoiTS"
      },
      "source": [
        "# load the saved X_train and X_test numpy arrays\n",
        "X_train = np.load('X_train.npy')\n",
        "X_test = np.load('X_test.npy')"
      ],
      "execution_count": 37,
      "outputs": []
    },
    {
      "cell_type": "code",
      "metadata": {
        "id": "BQLIx0Ry6Pyc",
        "colab": {
          "base_uri": "https://localhost:8080/"
        },
        "outputId": "92cb01da-0170-4aac-92a0-db033c309f8f"
      },
      "source": [
        "# reshape the above arrays from (obs, 250, 250) to (obs, 62500) because sklearn models usually only accept data with 2 dimensions (i.e., matrix)\n",
        "X_train = X_train.reshape(X_train.shape[0], -1)\n",
        "X_test = X_test.reshape(X_test.shape[0], -1)\n",
        "\n",
        "# show the reshaped X_train and X_test shapes\n",
        "X_train.shape\n",
        "print('\\n')\n",
        "X_test.shape"
      ],
      "execution_count": 38,
      "outputs": [
        {
          "output_type": "execute_result",
          "data": {
            "text/plain": [
              "(2870, 62500)"
            ]
          },
          "metadata": {},
          "execution_count": 38
        },
        {
          "output_type": "stream",
          "name": "stdout",
          "text": [
            "\n",
            "\n"
          ]
        },
        {
          "output_type": "execute_result",
          "data": {
            "text/plain": [
              "(394, 62500)"
            ]
          },
          "metadata": {},
          "execution_count": 38
        }
      ]
    },
    {
      "cell_type": "code",
      "metadata": {
        "id": "I1X5fLZOuMPr"
      },
      "source": [
        "# concatenate arrays to form train and test targets\n",
        "# 0 - no tumor\n",
        "# 1 - pituitary tumor\n",
        "# 2 - meningioma tumor\n",
        "# 3 - glioma tumor\n",
        "y_train = np.concatenate((np.full(len(flist_train_no), 0),\n",
        "                         (np.full(len(flist_train_pituitary), 1)),\n",
        "                         (np.full(len(flist_train_meningioma), 2)),\n",
        "                         (np.full(len(flist_train_glioma), 3))),\n",
        "                         axis = 0)\n",
        "y_test = np.concatenate((np.full(len(flist_test_no), 0),\n",
        "                         (np.full(len(flist_test_pituitary), 1)),\n",
        "                         (np.full(len(flist_test_meningioma), 2)),\n",
        "                         (np.full(len(flist_test_glioma), 3))),\n",
        "                         axis = 0)"
      ],
      "execution_count": 39,
      "outputs": []
    },
    {
      "cell_type": "code",
      "metadata": {
        "colab": {
          "base_uri": "https://localhost:8080/",
          "height": 509
        },
        "id": "K2xidDAqpXjX",
        "outputId": "f791fc7b-20a6-4825-a6b7-4a456e03dfbb"
      },
      "source": [
        "# show y_train values\n",
        "unique_values, counts_values = np.unique(y_train), pd.Series(y_train).value_counts()\n",
        "unique_values\n",
        "print('\\n')\n",
        "counts_values\n",
        "\n",
        "# show y_test values\n",
        "unique_values, counts_values = np.unique(y_test), pd.Series(y_test).value_counts()\n",
        "unique_values\n",
        "print('\\n')\n",
        "counts_values"
      ],
      "execution_count": 40,
      "outputs": [
        {
          "output_type": "execute_result",
          "data": {
            "text/plain": [
              "array([0, 1, 2, 3])"
            ]
          },
          "metadata": {},
          "execution_count": 40
        },
        {
          "output_type": "stream",
          "name": "stdout",
          "text": [
            "\n",
            "\n"
          ]
        },
        {
          "output_type": "execute_result",
          "data": {
            "text/plain": [
              "1    827\n",
              "3    826\n",
              "2    822\n",
              "0    395\n",
              "Name: count, dtype: int64"
            ],
            "text/html": [
              "<div>\n",
              "<style scoped>\n",
              "    .dataframe tbody tr th:only-of-type {\n",
              "        vertical-align: middle;\n",
              "    }\n",
              "\n",
              "    .dataframe tbody tr th {\n",
              "        vertical-align: top;\n",
              "    }\n",
              "\n",
              "    .dataframe thead th {\n",
              "        text-align: right;\n",
              "    }\n",
              "</style>\n",
              "<table border=\"1\" class=\"dataframe\">\n",
              "  <thead>\n",
              "    <tr style=\"text-align: right;\">\n",
              "      <th></th>\n",
              "      <th>count</th>\n",
              "    </tr>\n",
              "  </thead>\n",
              "  <tbody>\n",
              "    <tr>\n",
              "      <th>1</th>\n",
              "      <td>827</td>\n",
              "    </tr>\n",
              "    <tr>\n",
              "      <th>3</th>\n",
              "      <td>826</td>\n",
              "    </tr>\n",
              "    <tr>\n",
              "      <th>2</th>\n",
              "      <td>822</td>\n",
              "    </tr>\n",
              "    <tr>\n",
              "      <th>0</th>\n",
              "      <td>395</td>\n",
              "    </tr>\n",
              "  </tbody>\n",
              "</table>\n",
              "</div><br><label><b>dtype:</b> int64</label>"
            ]
          },
          "metadata": {},
          "execution_count": 40
        },
        {
          "output_type": "execute_result",
          "data": {
            "text/plain": [
              "array([0, 1, 2, 3])"
            ]
          },
          "metadata": {},
          "execution_count": 40
        },
        {
          "output_type": "stream",
          "name": "stdout",
          "text": [
            "\n",
            "\n"
          ]
        },
        {
          "output_type": "execute_result",
          "data": {
            "text/plain": [
              "2    115\n",
              "0    105\n",
              "3    100\n",
              "1     74\n",
              "Name: count, dtype: int64"
            ],
            "text/html": [
              "<div>\n",
              "<style scoped>\n",
              "    .dataframe tbody tr th:only-of-type {\n",
              "        vertical-align: middle;\n",
              "    }\n",
              "\n",
              "    .dataframe tbody tr th {\n",
              "        vertical-align: top;\n",
              "    }\n",
              "\n",
              "    .dataframe thead th {\n",
              "        text-align: right;\n",
              "    }\n",
              "</style>\n",
              "<table border=\"1\" class=\"dataframe\">\n",
              "  <thead>\n",
              "    <tr style=\"text-align: right;\">\n",
              "      <th></th>\n",
              "      <th>count</th>\n",
              "    </tr>\n",
              "  </thead>\n",
              "  <tbody>\n",
              "    <tr>\n",
              "      <th>2</th>\n",
              "      <td>115</td>\n",
              "    </tr>\n",
              "    <tr>\n",
              "      <th>0</th>\n",
              "      <td>105</td>\n",
              "    </tr>\n",
              "    <tr>\n",
              "      <th>3</th>\n",
              "      <td>100</td>\n",
              "    </tr>\n",
              "    <tr>\n",
              "      <th>1</th>\n",
              "      <td>74</td>\n",
              "    </tr>\n",
              "  </tbody>\n",
              "</table>\n",
              "</div><br><label><b>dtype:</b> int64</label>"
            ]
          },
          "metadata": {},
          "execution_count": 40
        }
      ]
    },
    {
      "cell_type": "code",
      "metadata": {
        "id": "Bn1skr0fxSqA"
      },
      "source": [
        "# randomly shuffle the train set\n",
        "X_train, y_train = shuffle(X_train, y_train, random_state = 42)"
      ],
      "execution_count": 41,
      "outputs": []
    },
    {
      "cell_type": "code",
      "metadata": {
        "colab": {
          "base_uri": "https://localhost:8080/",
          "height": 80
        },
        "id": "O84uI4pk0SHt",
        "outputId": "2e8af266-2c8a-41f3-8ac0-64e429866f6b"
      },
      "source": [
        "# train a binary classifier\n",
        "y_train_any_tumor = (y_train > 0) # create a binary target for any brain tumor (0: no tumor; 1: any tumor type)\n",
        "sgd_clf = SGDClassifier(random_state = 42) # stochastic gradient descent (sgd) classifier\n",
        "sgd_clf.fit(X_train, y_train_any_tumor) # fit the model"
      ],
      "execution_count": 42,
      "outputs": [
        {
          "output_type": "execute_result",
          "data": {
            "text/plain": [
              "SGDClassifier(random_state=42)"
            ],
            "text/html": [
              "<style>#sk-container-id-1 {\n",
              "  /* Definition of color scheme common for light and dark mode */\n",
              "  --sklearn-color-text: #000;\n",
              "  --sklearn-color-text-muted: #666;\n",
              "  --sklearn-color-line: gray;\n",
              "  /* Definition of color scheme for unfitted estimators */\n",
              "  --sklearn-color-unfitted-level-0: #fff5e6;\n",
              "  --sklearn-color-unfitted-level-1: #f6e4d2;\n",
              "  --sklearn-color-unfitted-level-2: #ffe0b3;\n",
              "  --sklearn-color-unfitted-level-3: chocolate;\n",
              "  /* Definition of color scheme for fitted estimators */\n",
              "  --sklearn-color-fitted-level-0: #f0f8ff;\n",
              "  --sklearn-color-fitted-level-1: #d4ebff;\n",
              "  --sklearn-color-fitted-level-2: #b3dbfd;\n",
              "  --sklearn-color-fitted-level-3: cornflowerblue;\n",
              "\n",
              "  /* Specific color for light theme */\n",
              "  --sklearn-color-text-on-default-background: var(--sg-text-color, var(--theme-code-foreground, var(--jp-content-font-color1, black)));\n",
              "  --sklearn-color-background: var(--sg-background-color, var(--theme-background, var(--jp-layout-color0, white)));\n",
              "  --sklearn-color-border-box: var(--sg-text-color, var(--theme-code-foreground, var(--jp-content-font-color1, black)));\n",
              "  --sklearn-color-icon: #696969;\n",
              "\n",
              "  @media (prefers-color-scheme: dark) {\n",
              "    /* Redefinition of color scheme for dark theme */\n",
              "    --sklearn-color-text-on-default-background: var(--sg-text-color, var(--theme-code-foreground, var(--jp-content-font-color1, white)));\n",
              "    --sklearn-color-background: var(--sg-background-color, var(--theme-background, var(--jp-layout-color0, #111)));\n",
              "    --sklearn-color-border-box: var(--sg-text-color, var(--theme-code-foreground, var(--jp-content-font-color1, white)));\n",
              "    --sklearn-color-icon: #878787;\n",
              "  }\n",
              "}\n",
              "\n",
              "#sk-container-id-1 {\n",
              "  color: var(--sklearn-color-text);\n",
              "}\n",
              "\n",
              "#sk-container-id-1 pre {\n",
              "  padding: 0;\n",
              "}\n",
              "\n",
              "#sk-container-id-1 input.sk-hidden--visually {\n",
              "  border: 0;\n",
              "  clip: rect(1px 1px 1px 1px);\n",
              "  clip: rect(1px, 1px, 1px, 1px);\n",
              "  height: 1px;\n",
              "  margin: -1px;\n",
              "  overflow: hidden;\n",
              "  padding: 0;\n",
              "  position: absolute;\n",
              "  width: 1px;\n",
              "}\n",
              "\n",
              "#sk-container-id-1 div.sk-dashed-wrapped {\n",
              "  border: 1px dashed var(--sklearn-color-line);\n",
              "  margin: 0 0.4em 0.5em 0.4em;\n",
              "  box-sizing: border-box;\n",
              "  padding-bottom: 0.4em;\n",
              "  background-color: var(--sklearn-color-background);\n",
              "}\n",
              "\n",
              "#sk-container-id-1 div.sk-container {\n",
              "  /* jupyter's `normalize.less` sets `[hidden] { display: none; }`\n",
              "     but bootstrap.min.css set `[hidden] { display: none !important; }`\n",
              "     so we also need the `!important` here to be able to override the\n",
              "     default hidden behavior on the sphinx rendered scikit-learn.org.\n",
              "     See: https://github.com/scikit-learn/scikit-learn/issues/21755 */\n",
              "  display: inline-block !important;\n",
              "  position: relative;\n",
              "}\n",
              "\n",
              "#sk-container-id-1 div.sk-text-repr-fallback {\n",
              "  display: none;\n",
              "}\n",
              "\n",
              "div.sk-parallel-item,\n",
              "div.sk-serial,\n",
              "div.sk-item {\n",
              "  /* draw centered vertical line to link estimators */\n",
              "  background-image: linear-gradient(var(--sklearn-color-text-on-default-background), var(--sklearn-color-text-on-default-background));\n",
              "  background-size: 2px 100%;\n",
              "  background-repeat: no-repeat;\n",
              "  background-position: center center;\n",
              "}\n",
              "\n",
              "/* Parallel-specific style estimator block */\n",
              "\n",
              "#sk-container-id-1 div.sk-parallel-item::after {\n",
              "  content: \"\";\n",
              "  width: 100%;\n",
              "  border-bottom: 2px solid var(--sklearn-color-text-on-default-background);\n",
              "  flex-grow: 1;\n",
              "}\n",
              "\n",
              "#sk-container-id-1 div.sk-parallel {\n",
              "  display: flex;\n",
              "  align-items: stretch;\n",
              "  justify-content: center;\n",
              "  background-color: var(--sklearn-color-background);\n",
              "  position: relative;\n",
              "}\n",
              "\n",
              "#sk-container-id-1 div.sk-parallel-item {\n",
              "  display: flex;\n",
              "  flex-direction: column;\n",
              "}\n",
              "\n",
              "#sk-container-id-1 div.sk-parallel-item:first-child::after {\n",
              "  align-self: flex-end;\n",
              "  width: 50%;\n",
              "}\n",
              "\n",
              "#sk-container-id-1 div.sk-parallel-item:last-child::after {\n",
              "  align-self: flex-start;\n",
              "  width: 50%;\n",
              "}\n",
              "\n",
              "#sk-container-id-1 div.sk-parallel-item:only-child::after {\n",
              "  width: 0;\n",
              "}\n",
              "\n",
              "/* Serial-specific style estimator block */\n",
              "\n",
              "#sk-container-id-1 div.sk-serial {\n",
              "  display: flex;\n",
              "  flex-direction: column;\n",
              "  align-items: center;\n",
              "  background-color: var(--sklearn-color-background);\n",
              "  padding-right: 1em;\n",
              "  padding-left: 1em;\n",
              "}\n",
              "\n",
              "\n",
              "/* Toggleable style: style used for estimator/Pipeline/ColumnTransformer box that is\n",
              "clickable and can be expanded/collapsed.\n",
              "- Pipeline and ColumnTransformer use this feature and define the default style\n",
              "- Estimators will overwrite some part of the style using the `sk-estimator` class\n",
              "*/\n",
              "\n",
              "/* Pipeline and ColumnTransformer style (default) */\n",
              "\n",
              "#sk-container-id-1 div.sk-toggleable {\n",
              "  /* Default theme specific background. It is overwritten whether we have a\n",
              "  specific estimator or a Pipeline/ColumnTransformer */\n",
              "  background-color: var(--sklearn-color-background);\n",
              "}\n",
              "\n",
              "/* Toggleable label */\n",
              "#sk-container-id-1 label.sk-toggleable__label {\n",
              "  cursor: pointer;\n",
              "  display: flex;\n",
              "  width: 100%;\n",
              "  margin-bottom: 0;\n",
              "  padding: 0.5em;\n",
              "  box-sizing: border-box;\n",
              "  text-align: center;\n",
              "  align-items: start;\n",
              "  justify-content: space-between;\n",
              "  gap: 0.5em;\n",
              "}\n",
              "\n",
              "#sk-container-id-1 label.sk-toggleable__label .caption {\n",
              "  font-size: 0.6rem;\n",
              "  font-weight: lighter;\n",
              "  color: var(--sklearn-color-text-muted);\n",
              "}\n",
              "\n",
              "#sk-container-id-1 label.sk-toggleable__label-arrow:before {\n",
              "  /* Arrow on the left of the label */\n",
              "  content: \"▸\";\n",
              "  float: left;\n",
              "  margin-right: 0.25em;\n",
              "  color: var(--sklearn-color-icon);\n",
              "}\n",
              "\n",
              "#sk-container-id-1 label.sk-toggleable__label-arrow:hover:before {\n",
              "  color: var(--sklearn-color-text);\n",
              "}\n",
              "\n",
              "/* Toggleable content - dropdown */\n",
              "\n",
              "#sk-container-id-1 div.sk-toggleable__content {\n",
              "  max-height: 0;\n",
              "  max-width: 0;\n",
              "  overflow: hidden;\n",
              "  text-align: left;\n",
              "  /* unfitted */\n",
              "  background-color: var(--sklearn-color-unfitted-level-0);\n",
              "}\n",
              "\n",
              "#sk-container-id-1 div.sk-toggleable__content.fitted {\n",
              "  /* fitted */\n",
              "  background-color: var(--sklearn-color-fitted-level-0);\n",
              "}\n",
              "\n",
              "#sk-container-id-1 div.sk-toggleable__content pre {\n",
              "  margin: 0.2em;\n",
              "  border-radius: 0.25em;\n",
              "  color: var(--sklearn-color-text);\n",
              "  /* unfitted */\n",
              "  background-color: var(--sklearn-color-unfitted-level-0);\n",
              "}\n",
              "\n",
              "#sk-container-id-1 div.sk-toggleable__content.fitted pre {\n",
              "  /* unfitted */\n",
              "  background-color: var(--sklearn-color-fitted-level-0);\n",
              "}\n",
              "\n",
              "#sk-container-id-1 input.sk-toggleable__control:checked~div.sk-toggleable__content {\n",
              "  /* Expand drop-down */\n",
              "  max-height: 200px;\n",
              "  max-width: 100%;\n",
              "  overflow: auto;\n",
              "}\n",
              "\n",
              "#sk-container-id-1 input.sk-toggleable__control:checked~label.sk-toggleable__label-arrow:before {\n",
              "  content: \"▾\";\n",
              "}\n",
              "\n",
              "/* Pipeline/ColumnTransformer-specific style */\n",
              "\n",
              "#sk-container-id-1 div.sk-label input.sk-toggleable__control:checked~label.sk-toggleable__label {\n",
              "  color: var(--sklearn-color-text);\n",
              "  background-color: var(--sklearn-color-unfitted-level-2);\n",
              "}\n",
              "\n",
              "#sk-container-id-1 div.sk-label.fitted input.sk-toggleable__control:checked~label.sk-toggleable__label {\n",
              "  background-color: var(--sklearn-color-fitted-level-2);\n",
              "}\n",
              "\n",
              "/* Estimator-specific style */\n",
              "\n",
              "/* Colorize estimator box */\n",
              "#sk-container-id-1 div.sk-estimator input.sk-toggleable__control:checked~label.sk-toggleable__label {\n",
              "  /* unfitted */\n",
              "  background-color: var(--sklearn-color-unfitted-level-2);\n",
              "}\n",
              "\n",
              "#sk-container-id-1 div.sk-estimator.fitted input.sk-toggleable__control:checked~label.sk-toggleable__label {\n",
              "  /* fitted */\n",
              "  background-color: var(--sklearn-color-fitted-level-2);\n",
              "}\n",
              "\n",
              "#sk-container-id-1 div.sk-label label.sk-toggleable__label,\n",
              "#sk-container-id-1 div.sk-label label {\n",
              "  /* The background is the default theme color */\n",
              "  color: var(--sklearn-color-text-on-default-background);\n",
              "}\n",
              "\n",
              "/* On hover, darken the color of the background */\n",
              "#sk-container-id-1 div.sk-label:hover label.sk-toggleable__label {\n",
              "  color: var(--sklearn-color-text);\n",
              "  background-color: var(--sklearn-color-unfitted-level-2);\n",
              "}\n",
              "\n",
              "/* Label box, darken color on hover, fitted */\n",
              "#sk-container-id-1 div.sk-label.fitted:hover label.sk-toggleable__label.fitted {\n",
              "  color: var(--sklearn-color-text);\n",
              "  background-color: var(--sklearn-color-fitted-level-2);\n",
              "}\n",
              "\n",
              "/* Estimator label */\n",
              "\n",
              "#sk-container-id-1 div.sk-label label {\n",
              "  font-family: monospace;\n",
              "  font-weight: bold;\n",
              "  display: inline-block;\n",
              "  line-height: 1.2em;\n",
              "}\n",
              "\n",
              "#sk-container-id-1 div.sk-label-container {\n",
              "  text-align: center;\n",
              "}\n",
              "\n",
              "/* Estimator-specific */\n",
              "#sk-container-id-1 div.sk-estimator {\n",
              "  font-family: monospace;\n",
              "  border: 1px dotted var(--sklearn-color-border-box);\n",
              "  border-radius: 0.25em;\n",
              "  box-sizing: border-box;\n",
              "  margin-bottom: 0.5em;\n",
              "  /* unfitted */\n",
              "  background-color: var(--sklearn-color-unfitted-level-0);\n",
              "}\n",
              "\n",
              "#sk-container-id-1 div.sk-estimator.fitted {\n",
              "  /* fitted */\n",
              "  background-color: var(--sklearn-color-fitted-level-0);\n",
              "}\n",
              "\n",
              "/* on hover */\n",
              "#sk-container-id-1 div.sk-estimator:hover {\n",
              "  /* unfitted */\n",
              "  background-color: var(--sklearn-color-unfitted-level-2);\n",
              "}\n",
              "\n",
              "#sk-container-id-1 div.sk-estimator.fitted:hover {\n",
              "  /* fitted */\n",
              "  background-color: var(--sklearn-color-fitted-level-2);\n",
              "}\n",
              "\n",
              "/* Specification for estimator info (e.g. \"i\" and \"?\") */\n",
              "\n",
              "/* Common style for \"i\" and \"?\" */\n",
              "\n",
              ".sk-estimator-doc-link,\n",
              "a:link.sk-estimator-doc-link,\n",
              "a:visited.sk-estimator-doc-link {\n",
              "  float: right;\n",
              "  font-size: smaller;\n",
              "  line-height: 1em;\n",
              "  font-family: monospace;\n",
              "  background-color: var(--sklearn-color-background);\n",
              "  border-radius: 1em;\n",
              "  height: 1em;\n",
              "  width: 1em;\n",
              "  text-decoration: none !important;\n",
              "  margin-left: 0.5em;\n",
              "  text-align: center;\n",
              "  /* unfitted */\n",
              "  border: var(--sklearn-color-unfitted-level-1) 1pt solid;\n",
              "  color: var(--sklearn-color-unfitted-level-1);\n",
              "}\n",
              "\n",
              ".sk-estimator-doc-link.fitted,\n",
              "a:link.sk-estimator-doc-link.fitted,\n",
              "a:visited.sk-estimator-doc-link.fitted {\n",
              "  /* fitted */\n",
              "  border: var(--sklearn-color-fitted-level-1) 1pt solid;\n",
              "  color: var(--sklearn-color-fitted-level-1);\n",
              "}\n",
              "\n",
              "/* On hover */\n",
              "div.sk-estimator:hover .sk-estimator-doc-link:hover,\n",
              ".sk-estimator-doc-link:hover,\n",
              "div.sk-label-container:hover .sk-estimator-doc-link:hover,\n",
              ".sk-estimator-doc-link:hover {\n",
              "  /* unfitted */\n",
              "  background-color: var(--sklearn-color-unfitted-level-3);\n",
              "  color: var(--sklearn-color-background);\n",
              "  text-decoration: none;\n",
              "}\n",
              "\n",
              "div.sk-estimator.fitted:hover .sk-estimator-doc-link.fitted:hover,\n",
              ".sk-estimator-doc-link.fitted:hover,\n",
              "div.sk-label-container:hover .sk-estimator-doc-link.fitted:hover,\n",
              ".sk-estimator-doc-link.fitted:hover {\n",
              "  /* fitted */\n",
              "  background-color: var(--sklearn-color-fitted-level-3);\n",
              "  color: var(--sklearn-color-background);\n",
              "  text-decoration: none;\n",
              "}\n",
              "\n",
              "/* Span, style for the box shown on hovering the info icon */\n",
              ".sk-estimator-doc-link span {\n",
              "  display: none;\n",
              "  z-index: 9999;\n",
              "  position: relative;\n",
              "  font-weight: normal;\n",
              "  right: .2ex;\n",
              "  padding: .5ex;\n",
              "  margin: .5ex;\n",
              "  width: min-content;\n",
              "  min-width: 20ex;\n",
              "  max-width: 50ex;\n",
              "  color: var(--sklearn-color-text);\n",
              "  box-shadow: 2pt 2pt 4pt #999;\n",
              "  /* unfitted */\n",
              "  background: var(--sklearn-color-unfitted-level-0);\n",
              "  border: .5pt solid var(--sklearn-color-unfitted-level-3);\n",
              "}\n",
              "\n",
              ".sk-estimator-doc-link.fitted span {\n",
              "  /* fitted */\n",
              "  background: var(--sklearn-color-fitted-level-0);\n",
              "  border: var(--sklearn-color-fitted-level-3);\n",
              "}\n",
              "\n",
              ".sk-estimator-doc-link:hover span {\n",
              "  display: block;\n",
              "}\n",
              "\n",
              "/* \"?\"-specific style due to the `<a>` HTML tag */\n",
              "\n",
              "#sk-container-id-1 a.estimator_doc_link {\n",
              "  float: right;\n",
              "  font-size: 1rem;\n",
              "  line-height: 1em;\n",
              "  font-family: monospace;\n",
              "  background-color: var(--sklearn-color-background);\n",
              "  border-radius: 1rem;\n",
              "  height: 1rem;\n",
              "  width: 1rem;\n",
              "  text-decoration: none;\n",
              "  /* unfitted */\n",
              "  color: var(--sklearn-color-unfitted-level-1);\n",
              "  border: var(--sklearn-color-unfitted-level-1) 1pt solid;\n",
              "}\n",
              "\n",
              "#sk-container-id-1 a.estimator_doc_link.fitted {\n",
              "  /* fitted */\n",
              "  border: var(--sklearn-color-fitted-level-1) 1pt solid;\n",
              "  color: var(--sklearn-color-fitted-level-1);\n",
              "}\n",
              "\n",
              "/* On hover */\n",
              "#sk-container-id-1 a.estimator_doc_link:hover {\n",
              "  /* unfitted */\n",
              "  background-color: var(--sklearn-color-unfitted-level-3);\n",
              "  color: var(--sklearn-color-background);\n",
              "  text-decoration: none;\n",
              "}\n",
              "\n",
              "#sk-container-id-1 a.estimator_doc_link.fitted:hover {\n",
              "  /* fitted */\n",
              "  background-color: var(--sklearn-color-fitted-level-3);\n",
              "}\n",
              "</style><div id=\"sk-container-id-1\" class=\"sk-top-container\"><div class=\"sk-text-repr-fallback\"><pre>SGDClassifier(random_state=42)</pre><b>In a Jupyter environment, please rerun this cell to show the HTML representation or trust the notebook. <br />On GitHub, the HTML representation is unable to render, please try loading this page with nbviewer.org.</b></div><div class=\"sk-container\" hidden><div class=\"sk-item\"><div class=\"sk-estimator fitted sk-toggleable\"><input class=\"sk-toggleable__control sk-hidden--visually\" id=\"sk-estimator-id-1\" type=\"checkbox\" checked><label for=\"sk-estimator-id-1\" class=\"sk-toggleable__label fitted sk-toggleable__label-arrow\"><div><div>SGDClassifier</div></div><div><a class=\"sk-estimator-doc-link fitted\" rel=\"noreferrer\" target=\"_blank\" href=\"https://scikit-learn.org/1.6/modules/generated/sklearn.linear_model.SGDClassifier.html\">?<span>Documentation for SGDClassifier</span></a><span class=\"sk-estimator-doc-link fitted\">i<span>Fitted</span></span></div></label><div class=\"sk-toggleable__content fitted\"><pre>SGDClassifier(random_state=42)</pre></div> </div></div></div></div>"
            ]
          },
          "metadata": {},
          "execution_count": 42
        }
      ]
    },
    {
      "cell_type": "code",
      "metadata": {
        "colab": {
          "base_uri": "https://localhost:8080/",
          "height": 549
        },
        "id": "3oEcJCjk_Qbv",
        "outputId": "3eac7b56-6e68-460d-d691-fa53ea3de8d0"
      },
      "source": [
        "# do a prediction with the fited model\n",
        "some_img = X_train[0] # get the first instance from the train set\n",
        "plt.imshow(some_img.reshape(250, 250), cmap = 'binary') # plot the first instance\n",
        "plt.axis('off')\n",
        "print('\\n')\n",
        "y_train[0] # true label\n",
        "y_pred_some_img = sgd_clf.predict([some_img]) # predict the label for the instance\n",
        "print('\\n')\n",
        "y_pred_some_img"
      ],
      "execution_count": 43,
      "outputs": [
        {
          "output_type": "execute_result",
          "data": {
            "text/plain": [
              "<matplotlib.image.AxesImage at 0x7fac103533d0>"
            ]
          },
          "metadata": {},
          "execution_count": 43
        },
        {
          "output_type": "execute_result",
          "data": {
            "text/plain": [
              "(-0.5, 249.5, 249.5, -0.5)"
            ]
          },
          "metadata": {},
          "execution_count": 43
        },
        {
          "output_type": "stream",
          "name": "stdout",
          "text": [
            "\n",
            "\n"
          ]
        },
        {
          "output_type": "execute_result",
          "data": {
            "text/plain": [
              "1"
            ]
          },
          "metadata": {},
          "execution_count": 43
        },
        {
          "output_type": "stream",
          "name": "stdout",
          "text": [
            "\n",
            "\n"
          ]
        },
        {
          "output_type": "execute_result",
          "data": {
            "text/plain": [
              "array([ True])"
            ]
          },
          "metadata": {},
          "execution_count": 43
        },
        {
          "output_type": "display_data",
          "data": {
            "text/plain": [
              "<Figure size 640x480 with 1 Axes>"
            ],
            "image/png": "[encoded data removed]"
          },
          "metadata": {}
        }
      ]
    },
    {
      "cell_type": "code",
      "metadata": {
        "colab": {
          "base_uri": "https://localhost:8080/"
        },
        "id": "0GvopBEPA3JD",
        "outputId": "8cc4c505-6c14-4bf7-c07c-a5467fe139a4"
      },
      "source": [
        "# measure accuracy using cross-validation\n",
        "cross_val_score(sgd_clf, X_train, y_train_any_tumor, cv = 3, scoring = 'accuracy')"
      ],
      "execution_count": 44,
      "outputs": [
        {
          "output_type": "execute_result",
          "data": {
            "text/plain": [
              "array([0.9153605 , 0.91118077, 0.92677824])"
            ]
          },
          "metadata": {},
          "execution_count": 44
        }
      ]
    },
    {
      "cell_type": "code",
      "metadata": {
        "colab": {
          "base_uri": "https://localhost:8080/"
        },
        "id": "O7d8OPR2BfA3",
        "outputId": "4045f3c4-3fb2-4f45-dc41-7e2d00edcaa5"
      },
      "source": [
        "# is the accuracy good? compare it to the baseline tumor rate\n",
        "sum(y_train_any_tumor)/len(y_train_any_tumor)"
      ],
      "execution_count": 45,
      "outputs": [
        {
          "output_type": "execute_result",
          "data": {
            "text/plain": [
              "0.8623693379790941"
            ]
          },
          "metadata": {},
          "execution_count": 45
        }
      ]
    },
    {
      "cell_type": "code",
      "metadata": {
        "colab": {
          "base_uri": "https://localhost:8080/"
        },
        "id": "LgZZwZcOGqGx",
        "outputId": "777808f2-882d-491e-fc31-3224e5de7dda"
      },
      "source": [
        "# construct a confusion matrix\n",
        "y_train_pred_any_tumor = cross_val_predict(sgd_clf, X_train, y_train_any_tumor, cv = 3)\n",
        "confusion_matrix(y_train_any_tumor, y_train_pred_any_tumor)"
      ],
      "execution_count": 46,
      "outputs": [
        {
          "output_type": "execute_result",
          "data": {
            "text/plain": [
              "array([[ 243,  152],\n",
              "       [  84, 2391]])"
            ]
          },
          "metadata": {},
          "execution_count": 46
        }
      ]
    },
    {
      "cell_type": "code",
      "metadata": {
        "colab": {
          "base_uri": "https://localhost:8080/"
        },
        "id": "FN5Mb6GyH4X-",
        "outputId": "9d8f317a-0beb-487b-d6c0-1cd7896c4075"
      },
      "source": [
        "# report precision, recall, and f1 score\n",
        "precision_score(y_train_any_tumor, y_train_pred_any_tumor)\n",
        "print('\\n')\n",
        "recall_score(y_train_any_tumor, y_train_pred_any_tumor)\n",
        "print('\\n')\n",
        "f1_score(y_train_any_tumor, y_train_pred_any_tumor)"
      ],
      "execution_count": 47,
      "outputs": [
        {
          "output_type": "execute_result",
          "data": {
            "text/plain": [
              "0.9402280770743217"
            ]
          },
          "metadata": {},
          "execution_count": 47
        },
        {
          "output_type": "stream",
          "name": "stdout",
          "text": [
            "\n",
            "\n"
          ]
        },
        {
          "output_type": "execute_result",
          "data": {
            "text/plain": [
              "0.9660606060606061"
            ]
          },
          "metadata": {},
          "execution_count": 47
        },
        {
          "output_type": "stream",
          "name": "stdout",
          "text": [
            "\n",
            "\n"
          ]
        },
        {
          "output_type": "execute_result",
          "data": {
            "text/plain": [
              "0.9529693104822639"
            ]
          },
          "metadata": {},
          "execution_count": 47
        }
      ]
    },
    {
      "cell_type": "code",
      "metadata": {
        "colab": {
          "base_uri": "https://localhost:8080/"
        },
        "id": "r7muNvMhIkpl",
        "outputId": "2f0d60c6-21cd-4e5e-f688-f307ee78c7d6"
      },
      "source": [
        "# decision scores and default threshold\n",
        "y_score = sgd_clf.decision_function([some_img])\n",
        "y_score\n",
        "print('\\n')\n",
        "threshold = 0 # default threshold\n",
        "y_some_img_pred = (y_score > threshold)\n",
        "y_some_img_pred"
      ],
      "execution_count": 48,
      "outputs": [
        {
          "output_type": "execute_result",
          "data": {
            "text/plain": [
              "array([45666972.12939472])"
            ]
          },
          "metadata": {},
          "execution_count": 48
        },
        {
          "output_type": "stream",
          "name": "stdout",
          "text": [
            "\n",
            "\n"
          ]
        },
        {
          "output_type": "execute_result",
          "data": {
            "text/plain": [
              "array([ True])"
            ]
          },
          "metadata": {},
          "execution_count": 48
        }
      ]
    },
    {
      "cell_type": "code",
      "metadata": {
        "colab": {
          "base_uri": "https://localhost:8080/"
        },
        "id": "rctN6sVkJwV1",
        "outputId": "af9cedad-c463-4da0-f216-1bb0cd7abbd3"
      },
      "source": [
        "# reset threshold\n",
        "threshold = 70000000\n",
        "y_some_img_pred = (y_score > threshold)\n",
        "y_some_img_pred"
      ],
      "execution_count": 49,
      "outputs": [
        {
          "output_type": "execute_result",
          "data": {
            "text/plain": [
              "array([False])"
            ]
          },
          "metadata": {},
          "execution_count": 49
        }
      ]
    },
    {
      "cell_type": "code",
      "metadata": {
        "id": "IrV5jOeuKOec"
      },
      "source": [
        "# obtain all decision scores (default method is to predict class, not decision function scores)\n",
        "y_scores = cross_val_predict(sgd_clf, X_train, y_train_any_tumor,\n",
        "                             cv = 3, method = 'decision_function')"
      ],
      "execution_count": 50,
      "outputs": []
    },
    {
      "cell_type": "code",
      "metadata": {
        "id": "CR4mrI4jKe8D"
      },
      "source": [
        "# obtain the precision recall curve\n",
        "precisions, recalls, thresholds = precision_recall_curve(y_train_any_tumor, y_scores)"
      ],
      "execution_count": 51,
      "outputs": []
    },
    {
      "cell_type": "code",
      "metadata": {
        "colab": {
          "base_uri": "https://localhost:8080/",
          "height": 449
        },
        "id": "Ybt2q1uCKrZT",
        "outputId": "32cda917-5bbe-4b91-af46-e9dae50c2489"
      },
      "source": [
        "# construct a function to plot precision recall vs threshold curve\n",
        "def plot_precision_recall_vs_threshold(precisons, recalls, thresholds):\n",
        "  plt.plot(thresholds, precisions[:-1], 'b--', label = 'Precision')\n",
        "  plt.plot(thresholds, recalls[:-1], 'g-', label = 'Recall')\n",
        "  plt.legend()\n",
        "  plt.xlabel('Threshold')\n",
        "plot_precision_recall_vs_threshold(precisions, recalls, thresholds) # use the function to plot the curve"
      ],
      "execution_count": 52,
      "outputs": [
        {
          "output_type": "display_data",
          "data": {
            "text/plain": [
              "<Figure size 640x480 with 1 Axes>"
            ],
            "image/png": "[encoded data removed]"
          },
          "metadata": {}
        }
      ]
    },
    {
      "cell_type": "code",
      "metadata": {
        "colab": {
          "base_uri": "https://localhost:8080/",
          "height": 503
        },
        "id": "Bj_TZFsrMjJL",
        "outputId": "a39b85a9-1792-469f-f579-7cb75234f6d4"
      },
      "source": [
        "# plot precision vs recall\n",
        "plt.plot(recalls, precisions)\n",
        "plt.xlabel('Recall')\n",
        "plt.ylabel('Precision')"
      ],
      "execution_count": 53,
      "outputs": [
        {
          "output_type": "execute_result",
          "data": {
            "text/plain": [
              "[<matplotlib.lines.Line2D at 0x7fac10291750>]"
            ]
          },
          "metadata": {},
          "execution_count": 53
        },
        {
          "output_type": "execute_result",
          "data": {
            "text/plain": [
              "Text(0.5, 0, 'Recall')"
            ]
          },
          "metadata": {},
          "execution_count": 53
        },
        {
          "output_type": "execute_result",
          "data": {
            "text/plain": [
              "Text(0, 0.5, 'Precision')"
            ]
          },
          "metadata": {},
          "execution_count": 53
        },
        {
          "output_type": "display_data",
          "data": {
            "text/plain": [
              "<Figure size 640x480 with 1 Axes>"
            ],
            "image/png": "[encoded data removed]"
          },
          "metadata": {}
        }
      ]
    },
    {
      "cell_type": "code",
      "metadata": {
        "id": "MV5OXFHPMxpy"
      },
      "source": [
        "# obtain the roc curve\n",
        "y_train_pred_any_tumor_rf = cross_val_predict(sgd_clf, X_train, y_train_any_tumor, cv = 3)\n",
        "fpr, tpr, thresholds = roc_curve(y_train_any_tumor, y_scores)"
      ],
      "execution_count": 54,
      "outputs": []
    },
    {
      "cell_type": "code",
      "metadata": {
        "colab": {
          "base_uri": "https://localhost:8080/",
          "height": 505
        },
        "id": "aqwDWpgnM_5i",
        "outputId": "3ec196ee-09a7-4bc5-e726-5f4913adf71e"
      },
      "source": [
        "# construct a function to plot roc curve\n",
        "def plot_roc_curve(fpr, tpr, label = None):\n",
        "  plt.plot(fpr, tpr, linewidth = 2, label = label)\n",
        "  plt.plot([0, 1], [0, 1], 'k--') # dashed diagonal\n",
        "  plt.xlabel('False positive rate')\n",
        "  plt.ylabel('True positive rate (recall)')\n",
        "  plt.legend()\n",
        "plot_roc_curve(fpr, tpr)"
      ],
      "execution_count": 55,
      "outputs": [
        {
          "output_type": "stream",
          "name": "stderr",
          "text": [
            "<ipython-input-55-ce08c93cd1ce>:7: UserWarning: No artists with labels found to put in legend.  Note that artists whose label start with an underscore are ignored when legend() is called with no argument.\n",
            "  plt.legend()\n"
          ]
        },
        {
          "output_type": "display_data",
          "data": {
            "text/plain": [
              "<Figure size 640x480 with 1 Axes>"
            ],
            "image/png": "[encoded data removed]"
          },
          "metadata": {}
        }
      ]
    },
    {
      "cell_type": "code",
      "metadata": {
        "colab": {
          "base_uri": "https://localhost:8080/"
        },
        "id": "ZxjBiOtSOEfL",
        "outputId": "f8206db9-4b4c-47e1-ac74-78918d938e71"
      },
      "source": [
        "# obtain the auc (area under the curve)\n",
        "roc_auc_score(y_train_any_tumor, y_train_pred_any_tumor)"
      ],
      "execution_count": 56,
      "outputs": [
        {
          "output_type": "execute_result",
          "data": {
            "text/plain": [
              "0.7906252397391638"
            ]
          },
          "metadata": {},
          "execution_count": 56
        }
      ]
    },
    {
      "cell_type": "code",
      "metadata": {
        "id": "e8du3gIIPMc4"
      },
      "source": [
        "# train a random-forest classifier and compare modeling results\n",
        "forest_clf = RandomForestClassifier(random_state = 42)\n",
        "y_probas_forest = cross_val_predict(forest_clf, X_train, y_train_any_tumor,\n",
        "                                    cv = 3, method = 'predict_proba')"
      ],
      "execution_count": 57,
      "outputs": []
    },
    {
      "cell_type": "code",
      "metadata": {
        "colab": {
          "base_uri": "https://localhost:8080/"
        },
        "id": "4KU76ungRNEB",
        "outputId": "6ec5e89c-7ed6-4931-ad0e-348dc17ee67c"
      },
      "source": [
        "# y_probas_forest has two columns, proba for negative class and proba for postive class\n",
        "y_probas_forest\n",
        "y_scores_forest = y_probas_forest[:, 1] # score = proba of positive class"
      ],
      "execution_count": 58,
      "outputs": [
        {
          "output_type": "execute_result",
          "data": {
            "text/plain": [
              "array([[0.  , 1.  ],\n",
              "       [0.02, 0.98],\n",
              "       [0.04, 0.96],\n",
              "       ...,\n",
              "       [0.08, 0.92],\n",
              "       [0.  , 1.  ],\n",
              "       [0.  , 1.  ]])"
            ]
          },
          "metadata": {},
          "execution_count": 58
        }
      ]
    },
    {
      "cell_type": "code",
      "metadata": {
        "colab": {
          "base_uri": "https://localhost:8080/",
          "height": 485
        },
        "id": "R-Kf3z5ESevl",
        "outputId": "54c4828e-325b-4c07-db03-823d88528556"
      },
      "source": [
        "# plot random forest againt sgd in one roc curve graph\n",
        "fpr_forest, tpr_forest, thresholds_forest = roc_curve(y_train_any_tumor, y_scores_forest)\n",
        "plt.plot(fpr, tpr, 'b:', label = 'SDG')\n",
        "plot_roc_curve(fpr_forest, tpr_forest, label = 'Random forest')\n",
        "plt.legend(loc = 'lower right')"
      ],
      "execution_count": 59,
      "outputs": [
        {
          "output_type": "execute_result",
          "data": {
            "text/plain": [
              "[<matplotlib.lines.Line2D at 0x7fac10233290>]"
            ]
          },
          "metadata": {},
          "execution_count": 59
        },
        {
          "output_type": "execute_result",
          "data": {
            "text/plain": [
              "<matplotlib.legend.Legend at 0x7fac1045db50>"
            ]
          },
          "metadata": {},
          "execution_count": 59
        },
        {
          "output_type": "display_data",
          "data": {
            "text/plain": [
              "<Figure size 640x480 with 1 Axes>"
            ],
            "image/png": "[encoded data removed]"
          },
          "metadata": {}
        }
      ]
    },
    {
      "cell_type": "code",
      "metadata": {
        "colab": {
          "base_uri": "https://localhost:8080/"
        },
        "id": "B5VoMMvS6Tlg",
        "outputId": "32fca809-f1c5-45c8-d8f2-1c632199b922"
      },
      "source": [
        "# obtain the auc for the random forest model (area under the curve)\n",
        "y_train_pred_any_tumor_rf = cross_val_predict(forest_clf, X_train, y_train_any_tumor, cv = 3)\n",
        "roc_auc_score(y_train_any_tumor, y_train_pred_any_tumor_rf)"
      ],
      "execution_count": 60,
      "outputs": [
        {
          "output_type": "execute_result",
          "data": {
            "text/plain": [
              "0.9418642117376295"
            ]
          },
          "metadata": {},
          "execution_count": 60
        }
      ]
    },
    {
      "cell_type": "code",
      "metadata": {
        "colab": {
          "base_uri": "https://localhost:8080/"
        },
        "id": "NP_utCz07plm",
        "outputId": "6c7f807f-a238-4aaf-a7a3-36f657d01e92"
      },
      "source": [
        "# measure accuracy using cross-validation\n",
        "cross_val_score(forest_clf, X_train, y_train_any_tumor, cv = 3, scoring = 'accuracy')"
      ],
      "execution_count": 61,
      "outputs": [
        {
          "output_type": "execute_result",
          "data": {
            "text/plain": [
              "array([0.96029258, 0.94984326, 0.9707113 ])"
            ]
          },
          "metadata": {},
          "execution_count": 61
        }
      ]
    },
    {
      "cell_type": "code",
      "metadata": {
        "colab": {
          "base_uri": "https://localhost:8080/",
          "height": 98
        },
        "id": "tkroL-Oju5sR",
        "outputId": "3a49c9a6-482c-47e7-9b25-31f80b7aeca0"
      },
      "source": [
        "# multiclass classification\n",
        "svm_clf = SVC(random_state = 42)\n",
        "svm_clf.fit(X_train, y_train)\n",
        "svm_clf.predict([some_img])"
      ],
      "execution_count": 62,
      "outputs": [
        {
          "output_type": "execute_result",
          "data": {
            "text/plain": [
              "SVC(random_state=42)"
            ],
            "text/html": [
              "<style>#sk-container-id-2 {\n",
              "  /* Definition of color scheme common for light and dark mode */\n",
              "  --sklearn-color-text: #000;\n",
              "  --sklearn-color-text-muted: #666;\n",
              "  --sklearn-color-line: gray;\n",
              "  /* Definition of color scheme for unfitted estimators */\n",
              "  --sklearn-color-unfitted-level-0: #fff5e6;\n",
              "  --sklearn-color-unfitted-level-1: #f6e4d2;\n",
              "  --sklearn-color-unfitted-level-2: #ffe0b3;\n",
              "  --sklearn-color-unfitted-level-3: chocolate;\n",
              "  /* Definition of color scheme for fitted estimators */\n",
              "  --sklearn-color-fitted-level-0: #f0f8ff;\n",
              "  --sklearn-color-fitted-level-1: #d4ebff;\n",
              "  --sklearn-color-fitted-level-2: #b3dbfd;\n",
              "  --sklearn-color-fitted-level-3: cornflowerblue;\n",
              "\n",
              "  /* Specific color for light theme */\n",
              "  --sklearn-color-text-on-default-background: var(--sg-text-color, var(--theme-code-foreground, var(--jp-content-font-color1, black)));\n",
              "  --sklearn-color-background: var(--sg-background-color, var(--theme-background, var(--jp-layout-color0, white)));\n",
              "  --sklearn-color-border-box: var(--sg-text-color, var(--theme-code-foreground, var(--jp-content-font-color1, black)));\n",
              "  --sklearn-color-icon: #696969;\n",
              "\n",
              "  @media (prefers-color-scheme: dark) {\n",
              "    /* Redefinition of color scheme for dark theme */\n",
              "    --sklearn-color-text-on-default-background: var(--sg-text-color, var(--theme-code-foreground, var(--jp-content-font-color1, white)));\n",
              "    --sklearn-color-background: var(--sg-background-color, var(--theme-background, var(--jp-layout-color0, #111)));\n",
              "    --sklearn-color-border-box: var(--sg-text-color, var(--theme-code-foreground, var(--jp-content-font-color1, white)));\n",
              "    --sklearn-color-icon: #878787;\n",
              "  }\n",
              "}\n",
              "\n",
              "#sk-container-id-2 {\n",
              "  color: var(--sklearn-color-text);\n",
              "}\n",
              "\n",
              "#sk-container-id-2 pre {\n",
              "  padding: 0;\n",
              "}\n",
              "\n",
              "#sk-container-id-2 input.sk-hidden--visually {\n",
              "  border: 0;\n",
              "  clip: rect(1px 1px 1px 1px);\n",
              "  clip: rect(1px, 1px, 1px, 1px);\n",
              "  height: 1px;\n",
              "  margin: -1px;\n",
              "  overflow: hidden;\n",
              "  padding: 0;\n",
              "  position: absolute;\n",
              "  width: 1px;\n",
              "}\n",
              "\n",
              "#sk-container-id-2 div.sk-dashed-wrapped {\n",
              "  border: 1px dashed var(--sklearn-color-line);\n",
              "  margin: 0 0.4em 0.5em 0.4em;\n",
              "  box-sizing: border-box;\n",
              "  padding-bottom: 0.4em;\n",
              "  background-color: var(--sklearn-color-background);\n",
              "}\n",
              "\n",
              "#sk-container-id-2 div.sk-container {\n",
              "  /* jupyter's `normalize.less` sets `[hidden] { display: none; }`\n",
              "     but bootstrap.min.css set `[hidden] { display: none !important; }`\n",
              "     so we also need the `!important` here to be able to override the\n",
              "     default hidden behavior on the sphinx rendered scikit-learn.org.\n",
              "     See: https://github.com/scikit-learn/scikit-learn/issues/21755 */\n",
              "  display: inline-block !important;\n",
              "  position: relative;\n",
              "}\n",
              "\n",
              "#sk-container-id-2 div.sk-text-repr-fallback {\n",
              "  display: none;\n",
              "}\n",
              "\n",
              "div.sk-parallel-item,\n",
              "div.sk-serial,\n",
              "div.sk-item {\n",
              "  /* draw centered vertical line to link estimators */\n",
              "  background-image: linear-gradient(var(--sklearn-color-text-on-default-background), var(--sklearn-color-text-on-default-background));\n",
              "  background-size: 2px 100%;\n",
              "  background-repeat: no-repeat;\n",
              "  background-position: center center;\n",
              "}\n",
              "\n",
              "/* Parallel-specific style estimator block */\n",
              "\n",
              "#sk-container-id-2 div.sk-parallel-item::after {\n",
              "  content: \"\";\n",
              "  width: 100%;\n",
              "  border-bottom: 2px solid var(--sklearn-color-text-on-default-background);\n",
              "  flex-grow: 1;\n",
              "}\n",
              "\n",
              "#sk-container-id-2 div.sk-parallel {\n",
              "  display: flex;\n",
              "  align-items: stretch;\n",
              "  justify-content: center;\n",
              "  background-color: var(--sklearn-color-background);\n",
              "  position: relative;\n",
              "}\n",
              "\n",
              "#sk-container-id-2 div.sk-parallel-item {\n",
              "  display: flex;\n",
              "  flex-direction: column;\n",
              "}\n",
              "\n",
              "#sk-container-id-2 div.sk-parallel-item:first-child::after {\n",
              "  align-self: flex-end;\n",
              "  width: 50%;\n",
              "}\n",
              "\n",
              "#sk-container-id-2 div.sk-parallel-item:last-child::after {\n",
              "  align-self: flex-start;\n",
              "  width: 50%;\n",
              "}\n",
              "\n",
              "#sk-container-id-2 div.sk-parallel-item:only-child::after {\n",
              "  width: 0;\n",
              "}\n",
              "\n",
              "/* Serial-specific style estimator block */\n",
              "\n",
              "#sk-container-id-2 div.sk-serial {\n",
              "  display: flex;\n",
              "  flex-direction: column;\n",
              "  align-items: center;\n",
              "  background-color: var(--sklearn-color-background);\n",
              "  padding-right: 1em;\n",
              "  padding-left: 1em;\n",
              "}\n",
              "\n",
              "\n",
              "/* Toggleable style: style used for estimator/Pipeline/ColumnTransformer box that is\n",
              "clickable and can be expanded/collapsed.\n",
              "- Pipeline and ColumnTransformer use this feature and define the default style\n",
              "- Estimators will overwrite some part of the style using the `sk-estimator` class\n",
              "*/\n",
              "\n",
              "/* Pipeline and ColumnTransformer style (default) */\n",
              "\n",
              "#sk-container-id-2 div.sk-toggleable {\n",
              "  /* Default theme specific background. It is overwritten whether we have a\n",
              "  specific estimator or a Pipeline/ColumnTransformer */\n",
              "  background-color: var(--sklearn-color-background);\n",
              "}\n",
              "\n",
              "/* Toggleable label */\n",
              "#sk-container-id-2 label.sk-toggleable__label {\n",
              "  cursor: pointer;\n",
              "  display: flex;\n",
              "  width: 100%;\n",
              "  margin-bottom: 0;\n",
              "  padding: 0.5em;\n",
              "  box-sizing: border-box;\n",
              "  text-align: center;\n",
              "  align-items: start;\n",
              "  justify-content: space-between;\n",
              "  gap: 0.5em;\n",
              "}\n",
              "\n",
              "#sk-container-id-2 label.sk-toggleable__label .caption {\n",
              "  font-size: 0.6rem;\n",
              "  font-weight: lighter;\n",
              "  color: var(--sklearn-color-text-muted);\n",
              "}\n",
              "\n",
              "#sk-container-id-2 label.sk-toggleable__label-arrow:before {\n",
              "  /* Arrow on the left of the label */\n",
              "  content: \"▸\";\n",
              "  float: left;\n",
              "  margin-right: 0.25em;\n",
              "  color: var(--sklearn-color-icon);\n",
              "}\n",
              "\n",
              "#sk-container-id-2 label.sk-toggleable__label-arrow:hover:before {\n",
              "  color: var(--sklearn-color-text);\n",
              "}\n",
              "\n",
              "/* Toggleable content - dropdown */\n",
              "\n",
              "#sk-container-id-2 div.sk-toggleable__content {\n",
              "  max-height: 0;\n",
              "  max-width: 0;\n",
              "  overflow: hidden;\n",
              "  text-align: left;\n",
              "  /* unfitted */\n",
              "  background-color: var(--sklearn-color-unfitted-level-0);\n",
              "}\n",
              "\n",
              "#sk-container-id-2 div.sk-toggleable__content.fitted {\n",
              "  /* fitted */\n",
              "  background-color: var(--sklearn-color-fitted-level-0);\n",
              "}\n",
              "\n",
              "#sk-container-id-2 div.sk-toggleable__content pre {\n",
              "  margin: 0.2em;\n",
              "  border-radius: 0.25em;\n",
              "  color: var(--sklearn-color-text);\n",
              "  /* unfitted */\n",
              "  background-color: var(--sklearn-color-unfitted-level-0);\n",
              "}\n",
              "\n",
              "#sk-container-id-2 div.sk-toggleable__content.fitted pre {\n",
              "  /* unfitted */\n",
              "  background-color: var(--sklearn-color-fitted-level-0);\n",
              "}\n",
              "\n",
              "#sk-container-id-2 input.sk-toggleable__control:checked~div.sk-toggleable__content {\n",
              "  /* Expand drop-down */\n",
              "  max-height: 200px;\n",
              "  max-width: 100%;\n",
              "  overflow: auto;\n",
              "}\n",
              "\n",
              "#sk-container-id-2 input.sk-toggleable__control:checked~label.sk-toggleable__label-arrow:before {\n",
              "  content: \"▾\";\n",
              "}\n",
              "\n",
              "/* Pipeline/ColumnTransformer-specific style */\n",
              "\n",
              "#sk-container-id-2 div.sk-label input.sk-toggleable__control:checked~label.sk-toggleable__label {\n",
              "  color: var(--sklearn-color-text);\n",
              "  background-color: var(--sklearn-color-unfitted-level-2);\n",
              "}\n",
              "\n",
              "#sk-container-id-2 div.sk-label.fitted input.sk-toggleable__control:checked~label.sk-toggleable__label {\n",
              "  background-color: var(--sklearn-color-fitted-level-2);\n",
              "}\n",
              "\n",
              "/* Estimator-specific style */\n",
              "\n",
              "/* Colorize estimator box */\n",
              "#sk-container-id-2 div.sk-estimator input.sk-toggleable__control:checked~label.sk-toggleable__label {\n",
              "  /* unfitted */\n",
              "  background-color: var(--sklearn-color-unfitted-level-2);\n",
              "}\n",
              "\n",
              "#sk-container-id-2 div.sk-estimator.fitted input.sk-toggleable__control:checked~label.sk-toggleable__label {\n",
              "  /* fitted */\n",
              "  background-color: var(--sklearn-color-fitted-level-2);\n",
              "}\n",
              "\n",
              "#sk-container-id-2 div.sk-label label.sk-toggleable__label,\n",
              "#sk-container-id-2 div.sk-label label {\n",
              "  /* The background is the default theme color */\n",
              "  color: var(--sklearn-color-text-on-default-background);\n",
              "}\n",
              "\n",
              "/* On hover, darken the color of the background */\n",
              "#sk-container-id-2 div.sk-label:hover label.sk-toggleable__label {\n",
              "  color: var(--sklearn-color-text);\n",
              "  background-color: var(--sklearn-color-unfitted-level-2);\n",
              "}\n",
              "\n",
              "/* Label box, darken color on hover, fitted */\n",
              "#sk-container-id-2 div.sk-label.fitted:hover label.sk-toggleable__label.fitted {\n",
              "  color: var(--sklearn-color-text);\n",
              "  background-color: var(--sklearn-color-fitted-level-2);\n",
              "}\n",
              "\n",
              "/* Estimator label */\n",
              "\n",
              "#sk-container-id-2 div.sk-label label {\n",
              "  font-family: monospace;\n",
              "  font-weight: bold;\n",
              "  display: inline-block;\n",
              "  line-height: 1.2em;\n",
              "}\n",
              "\n",
              "#sk-container-id-2 div.sk-label-container {\n",
              "  text-align: center;\n",
              "}\n",
              "\n",
              "/* Estimator-specific */\n",
              "#sk-container-id-2 div.sk-estimator {\n",
              "  font-family: monospace;\n",
              "  border: 1px dotted var(--sklearn-color-border-box);\n",
              "  border-radius: 0.25em;\n",
              "  box-sizing: border-box;\n",
              "  margin-bottom: 0.5em;\n",
              "  /* unfitted */\n",
              "  background-color: var(--sklearn-color-unfitted-level-0);\n",
              "}\n",
              "\n",
              "#sk-container-id-2 div.sk-estimator.fitted {\n",
              "  /* fitted */\n",
              "  background-color: var(--sklearn-color-fitted-level-0);\n",
              "}\n",
              "\n",
              "/* on hover */\n",
              "#sk-container-id-2 div.sk-estimator:hover {\n",
              "  /* unfitted */\n",
              "  background-color: var(--sklearn-color-unfitted-level-2);\n",
              "}\n",
              "\n",
              "#sk-container-id-2 div.sk-estimator.fitted:hover {\n",
              "  /* fitted */\n",
              "  background-color: var(--sklearn-color-fitted-level-2);\n",
              "}\n",
              "\n",
              "/* Specification for estimator info (e.g. \"i\" and \"?\") */\n",
              "\n",
              "/* Common style for \"i\" and \"?\" */\n",
              "\n",
              ".sk-estimator-doc-link,\n",
              "a:link.sk-estimator-doc-link,\n",
              "a:visited.sk-estimator-doc-link {\n",
              "  float: right;\n",
              "  font-size: smaller;\n",
              "  line-height: 1em;\n",
              "  font-family: monospace;\n",
              "  background-color: var(--sklearn-color-background);\n",
              "  border-radius: 1em;\n",
              "  height: 1em;\n",
              "  width: 1em;\n",
              "  text-decoration: none !important;\n",
              "  margin-left: 0.5em;\n",
              "  text-align: center;\n",
              "  /* unfitted */\n",
              "  border: var(--sklearn-color-unfitted-level-1) 1pt solid;\n",
              "  color: var(--sklearn-color-unfitted-level-1);\n",
              "}\n",
              "\n",
              ".sk-estimator-doc-link.fitted,\n",
              "a:link.sk-estimator-doc-link.fitted,\n",
              "a:visited.sk-estimator-doc-link.fitted {\n",
              "  /* fitted */\n",
              "  border: var(--sklearn-color-fitted-level-1) 1pt solid;\n",
              "  color: var(--sklearn-color-fitted-level-1);\n",
              "}\n",
              "\n",
              "/* On hover */\n",
              "div.sk-estimator:hover .sk-estimator-doc-link:hover,\n",
              ".sk-estimator-doc-link:hover,\n",
              "div.sk-label-container:hover .sk-estimator-doc-link:hover,\n",
              ".sk-estimator-doc-link:hover {\n",
              "  /* unfitted */\n",
              "  background-color: var(--sklearn-color-unfitted-level-3);\n",
              "  color: var(--sklearn-color-background);\n",
              "  text-decoration: none;\n",
              "}\n",
              "\n",
              "div.sk-estimator.fitted:hover .sk-estimator-doc-link.fitted:hover,\n",
              ".sk-estimator-doc-link.fitted:hover,\n",
              "div.sk-label-container:hover .sk-estimator-doc-link.fitted:hover,\n",
              ".sk-estimator-doc-link.fitted:hover {\n",
              "  /* fitted */\n",
              "  background-color: var(--sklearn-color-fitted-level-3);\n",
              "  color: var(--sklearn-color-background);\n",
              "  text-decoration: none;\n",
              "}\n",
              "\n",
              "/* Span, style for the box shown on hovering the info icon */\n",
              ".sk-estimator-doc-link span {\n",
              "  display: none;\n",
              "  z-index: 9999;\n",
              "  position: relative;\n",
              "  font-weight: normal;\n",
              "  right: .2ex;\n",
              "  padding: .5ex;\n",
              "  margin: .5ex;\n",
              "  width: min-content;\n",
              "  min-width: 20ex;\n",
              "  max-width: 50ex;\n",
              "  color: var(--sklearn-color-text);\n",
              "  box-shadow: 2pt 2pt 4pt #999;\n",
              "  /* unfitted */\n",
              "  background: var(--sklearn-color-unfitted-level-0);\n",
              "  border: .5pt solid var(--sklearn-color-unfitted-level-3);\n",
              "}\n",
              "\n",
              ".sk-estimator-doc-link.fitted span {\n",
              "  /* fitted */\n",
              "  background: var(--sklearn-color-fitted-level-0);\n",
              "  border: var(--sklearn-color-fitted-level-3);\n",
              "}\n",
              "\n",
              ".sk-estimator-doc-link:hover span {\n",
              "  display: block;\n",
              "}\n",
              "\n",
              "/* \"?\"-specific style due to the `<a>` HTML tag */\n",
              "\n",
              "#sk-container-id-2 a.estimator_doc_link {\n",
              "  float: right;\n",
              "  font-size: 1rem;\n",
              "  line-height: 1em;\n",
              "  font-family: monospace;\n",
              "  background-color: var(--sklearn-color-background);\n",
              "  border-radius: 1rem;\n",
              "  height: 1rem;\n",
              "  width: 1rem;\n",
              "  text-decoration: none;\n",
              "  /* unfitted */\n",
              "  color: var(--sklearn-color-unfitted-level-1);\n",
              "  border: var(--sklearn-color-unfitted-level-1) 1pt solid;\n",
              "}\n",
              "\n",
              "#sk-container-id-2 a.estimator_doc_link.fitted {\n",
              "  /* fitted */\n",
              "  border: var(--sklearn-color-fitted-level-1) 1pt solid;\n",
              "  color: var(--sklearn-color-fitted-level-1);\n",
              "}\n",
              "\n",
              "/* On hover */\n",
              "#sk-container-id-2 a.estimator_doc_link:hover {\n",
              "  /* unfitted */\n",
              "  background-color: var(--sklearn-color-unfitted-level-3);\n",
              "  color: var(--sklearn-color-background);\n",
              "  text-decoration: none;\n",
              "}\n",
              "\n",
              "#sk-container-id-2 a.estimator_doc_link.fitted:hover {\n",
              "  /* fitted */\n",
              "  background-color: var(--sklearn-color-fitted-level-3);\n",
              "}\n",
              "</style><div id=\"sk-container-id-2\" class=\"sk-top-container\"><div class=\"sk-text-repr-fallback\"><pre>SVC(random_state=42)</pre><b>In a Jupyter environment, please rerun this cell to show the HTML representation or trust the notebook. <br />On GitHub, the HTML representation is unable to render, please try loading this page with nbviewer.org.</b></div><div class=\"sk-container\" hidden><div class=\"sk-item\"><div class=\"sk-estimator fitted sk-toggleable\"><input class=\"sk-toggleable__control sk-hidden--visually\" id=\"sk-estimator-id-2\" type=\"checkbox\" checked><label for=\"sk-estimator-id-2\" class=\"sk-toggleable__label fitted sk-toggleable__label-arrow\"><div><div>SVC</div></div><div><a class=\"sk-estimator-doc-link fitted\" rel=\"noreferrer\" target=\"_blank\" href=\"https://scikit-learn.org/1.6/modules/generated/sklearn.svm.SVC.html\">?<span>Documentation for SVC</span></a><span class=\"sk-estimator-doc-link fitted\">i<span>Fitted</span></span></div></label><div class=\"sk-toggleable__content fitted\"><pre>SVC(random_state=42)</pre></div> </div></div></div></div>"
            ]
          },
          "metadata": {},
          "execution_count": 62
        },
        {
          "output_type": "execute_result",
          "data": {
            "text/plain": [
              "array([1])"
            ]
          },
          "metadata": {},
          "execution_count": 62
        }
      ]
    },
    {
      "cell_type": "code",
      "metadata": {
        "colab": {
          "base_uri": "https://localhost:8080/"
        },
        "id": "58zzvGsAwLl9",
        "outputId": "dd1fad1d-b45e-4722-e1a4-98a5fe267d31"
      },
      "source": [
        "# take a look at the decision scores for each class\n",
        "some_img_scores = svm_clf.decision_function([some_img])\n",
        "some_img_scores"
      ],
      "execution_count": null,
      "outputs": [
        {
          "output_type": "execute_result",
          "data": {
            "text/plain": [
              "array([[ 2.01817959,  3.25902234,  0.87400143, -0.24863707]])"
            ]
          },
          "metadata": {
            "tags": []
          },
          "execution_count": 56
        }
      ]
    },
    {
      "cell_type": "code",
      "metadata": {
        "colab": {
          "base_uri": "https://localhost:8080/"
        },
        "id": "yk2nLMuzwj5L",
        "outputId": "2ce9eef3-ad02-4094-8fca-5a97764c0178"
      },
      "source": [
        "# the index for the highest score\n",
        "np.argmax(some_img_scores)\n",
        "print('\\n')\n",
        "# the corresponding class\n",
        "svm_clf.classes_[1]"
      ],
      "execution_count": null,
      "outputs": [
        {
          "output_type": "execute_result",
          "data": {
            "text/plain": [
              "1"
            ]
          },
          "metadata": {
            "tags": []
          },
          "execution_count": 57
        },
        {
          "output_type": "stream",
          "text": [
            "\n",
            "\n"
          ],
          "name": "stdout"
        },
        {
          "output_type": "execute_result",
          "data": {
            "text/plain": [
              "1"
            ]
          },
          "metadata": {
            "tags": []
          },
          "execution_count": 57
        }
      ]
    },
    {
      "cell_type": "code",
      "metadata": {
        "colab": {
          "base_uri": "https://localhost:8080/"
        },
        "id": "Eq55bKycy35v",
        "outputId": "405988dc-a8b3-4b29-ec87-f4409f88dd04"
      },
      "source": [
        "# error analysis\n",
        "\n",
        "# fit transformed data\n",
        "scalar = StandardScaler()\n",
        "X_train_scaled = scalar.fit_transform(X_train)\n",
        "\n",
        "# construct the confusion matrix\n",
        "sgd_clf = SGDClassifier(random_state = 42)\n",
        "y_train_pred = cross_val_predict(sgd_clf, X_train_scaled, y_train, cv = 3)\n",
        "conf_mx = confusion_matrix(y_train, y_train_pred)\n",
        "conf_mx"
      ],
      "execution_count": null,
      "outputs": [
        {
          "output_type": "execute_result",
          "data": {
            "text/plain": [
              "array([[296,  19,  57,  23],\n",
              "       [  7, 791,  14,  15],\n",
              "       [ 99,  55, 489, 179],\n",
              "       [ 15,  19, 111, 681]])"
            ]
          },
          "metadata": {
            "tags": []
          },
          "execution_count": 58
        }
      ]
    },
    {
      "cell_type": "code",
      "metadata": {
        "colab": {
          "base_uri": "https://localhost:8080/",
          "height": 293
        },
        "id": "9yvg0tI2zmJW",
        "outputId": "ab360244-cc7f-4498-a6f6-e93ad36f4370"
      },
      "source": [
        "# plot error distribution in the confusion matrix\n",
        "row_sums = conf_mx.sum(axis = 1, keepdims = True)\n",
        "norm_conf_mx = conf_mx / row_sums # normalize the confusion matrix by dividing total observations for each cell\n",
        "np.fill_diagonal(norm_conf_mx, 0) # set diagnal cells to zero\n",
        "plt.matshow(norm_conf_mx, cmap = plt.cm.gray)"
      ],
      "execution_count": null,
      "outputs": [
        {
          "output_type": "execute_result",
          "data": {
            "text/plain": [
              "<matplotlib.image.AxesImage at 0x7ff4df127090>"
            ]
          },
          "metadata": {
            "tags": []
          },
          "execution_count": 59
        },
        {
          "output_type": "display_data",
          "data": {
            "image/png": "[encoded data removed]",
            "text/plain": [
              "<Figure size 288x288 with 1 Axes>"
            ]
          },
          "metadata": {
            "tags": [],
            "needs_background": "light"
          }
        }
      ]
    },
    {
      "cell_type": "code",
      "metadata": {
        "colab": {
          "base_uri": "https://localhost:8080/"
        },
        "id": "Py06umEF0it1",
        "outputId": "b77d2222-c0ca-4924-8cf8-2916fef1f8ce"
      },
      "source": [
        "# multilabel classification (each label is binary)\n",
        "# meningioma and pituitary are often benign\n",
        "# glioma is often malicious\n",
        "y_train_any_tumor = (y_train > 0) # an indicator for any tumor\n",
        "y_train_benign = (y_train < 3) # an indicator for benign tumor (including no tumor)\n",
        "y_multilabel = np.c_[y_train_any_tumor, y_train_benign] # column combine the two labels\n",
        "knn_clf = KNeighborsClassifier()\n",
        "knn_clf.fit(X_train, y_multilabel)\n",
        "knn_clf.predict([some_img])"
      ],
      "execution_count": null,
      "outputs": [
        {
          "output_type": "execute_result",
          "data": {
            "text/plain": [
              "KNeighborsClassifier(algorithm='auto', leaf_size=30, metric='minkowski',\n",
              "                     metric_params=None, n_jobs=None, n_neighbors=5, p=2,\n",
              "                     weights='uniform')"
            ]
          },
          "metadata": {
            "tags": []
          },
          "execution_count": 60
        },
        {
          "output_type": "execute_result",
          "data": {
            "text/plain": [
              "array([[ True,  True]])"
            ]
          },
          "metadata": {
            "tags": []
          },
          "execution_count": 60
        }
      ]
    },
    {
      "cell_type": "code",
      "metadata": {
        "colab": {
          "base_uri": "https://localhost:8080/"
        },
        "id": "COKrp4Go6I2n",
        "outputId": "bb14b110-6a7e-4120-9b83-c1377b6d5fd7"
      },
      "source": [
        "# compute the average f1 score cross labels\n",
        "y_train_knn_pred = cross_val_predict(knn_clf, X_train, y_multilabel, cv = 3)\n",
        "f1_score(y_multilabel, y_train_knn_pred, average = 'macro') # simple average\n",
        "print('\\n')\n",
        "f1_score(y_multilabel, y_train_knn_pred, average = 'weighted') # weighted average (weighted by instances with each target label)"
      ],
      "execution_count": null,
      "outputs": [
        {
          "output_type": "execute_result",
          "data": {
            "text/plain": [
              "0.9292930991948688"
            ]
          },
          "metadata": {
            "tags": []
          },
          "execution_count": 61
        },
        {
          "output_type": "execute_result",
          "data": {
            "text/plain": [
              "0.9316582789030573"
            ]
          },
          "metadata": {
            "tags": []
          },
          "execution_count": 61
        }
      ]
    }
  ]
}